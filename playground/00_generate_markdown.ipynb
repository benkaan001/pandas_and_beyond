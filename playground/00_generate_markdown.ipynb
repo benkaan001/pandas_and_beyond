{
 "cells": [
  {
   "attachments": {},
   "cell_type": "markdown",
   "metadata": {},
   "source": [
    "### Create a markdown hyperlink generator"
   ]
  },
  {
   "cell_type": "code",
   "execution_count": 1,
   "metadata": {},
   "outputs": [
    {
     "data": {
      "text/plain": [
       "'ii.Add-this-hyperlink'"
      ]
     },
     "execution_count": 1,
     "metadata": {},
     "output_type": "execute_result"
    }
   ],
   "source": [
    "s = 'ii.Add this hyperlink'\n",
    "output = \"-\".join(x for x in s.split())\n",
    "output"
   ]
  },
  {
   "cell_type": "code",
   "execution_count": 2,
   "metadata": {},
   "outputs": [
    {
     "data": {
      "text/plain": [
       "'ii'"
      ]
     },
     "execution_count": 2,
     "metadata": {},
     "output_type": "execute_result"
    }
   ],
   "source": [
    "prefix = s.split()[0].split('.')[0]\n",
    "prefix"
   ]
  },
  {
   "cell_type": "code",
   "execution_count": 3,
   "metadata": {},
   "outputs": [
    {
     "data": {
      "text/plain": [
       "'Add this hyperlink'"
      ]
     },
     "execution_count": 3,
     "metadata": {},
     "output_type": "execute_result"
    }
   ],
   "source": [
    "no_prefix_s = s.removeprefix(prefix+'.')\n",
    "no_prefix_s"
   ]
  },
  {
   "cell_type": "code",
   "execution_count": 4,
   "metadata": {},
   "outputs": [],
   "source": [
    "def generate_markdown_text(s):\n",
    "    prefix = s.split()[0].split('.')[0]\n",
    "    no_prefix_s = s.removeprefix(prefix+'.')\n",
    "    part1 = f\"- {prefix}. \"\n",
    "    part2 = f\"[{no_prefix_s}]\"\n",
    "    part3=f'(#-{\"-\".join(x for x in s.split())})'\n",
    "    return part1+part2+part3"
   ]
  },
  {
   "cell_type": "code",
   "execution_count": 5,
   "metadata": {},
   "outputs": [
    {
     "data": {
      "text/plain": [
       "'- ii. [Compare the violation type stats based on gender.](#-ii.Compare-the-violation-type-stats-based-on-gender.)'"
      ]
     },
     "execution_count": 5,
     "metadata": {},
     "output_type": "execute_result"
    }
   ],
   "source": [
    "generate_markdown_text('ii.Compare the violation type stats based on gender.')"
   ]
  },
  {
   "attachments": {},
   "cell_type": "markdown",
   "metadata": {},
   "source": [
    "### Improved version."
   ]
  },
  {
   "cell_type": "code",
   "execution_count": 6,
   "metadata": {},
   "outputs": [],
   "source": [
    "def generate_markdown_text(title):\n",
    "    \"\"\"\n",
    "    Generate markdown text for a given string.\n",
    "\n",
    "    This function takes a string `s` as input and returns a markdown-formatted\n",
    "    string. The input string should have a prefix separated by a period (e.g.,\n",
    "    \"1. Introduction\"), followed by a description of the text.\n",
    "\n",
    "    Parameters:\n",
    "    s (str): The input string.\n",
    "\n",
    "    Returns:\n",
    "    str: A markdown-formatted string, including a bullet point with the prefix,\n",
    "         the description in square brackets, and an anchor link based on the\n",
    "         words in the original string.\n",
    "    \"\"\"\n",
    "    parts = title.split('.', maxsplit=1)\n",
    "    prefix = parts[0]\n",
    "    no_prefix_s = parts[1].strip()\n",
    "    anchor = '#-' + '-'.join(title.split())\n",
    "    return f'- {prefix}. [{no_prefix_s}]({anchor})'"
   ]
  },
  {
   "cell_type": "code",
   "execution_count": 7,
   "metadata": {},
   "outputs": [
    {
     "data": {
      "text/plain": [
       "'- ii. [Compare the violation type stats based on gender.](#-ii.Compare-the-violation-type-stats-based-on-gender.)'"
      ]
     },
     "execution_count": 7,
     "metadata": {},
     "output_type": "execute_result"
    }
   ],
   "source": [
    "generate_markdown_text('ii.Compare the violation type stats based on gender.')"
   ]
  },
  {
   "attachments": {},
   "cell_type": "markdown",
   "metadata": {},
   "source": [
    "### Display the returned markdown text in a Markdown file"
   ]
  },
  {
   "cell_type": "code",
   "execution_count": 8,
   "metadata": {},
   "outputs": [
    {
     "data": {
      "text/markdown": [
       "- 1. [Introduction This is the introduction text.](#-1.-Introduction-This-is-the-introduction-text.)"
      ],
      "text/plain": [
       "<IPython.core.display.Markdown object>"
      ]
     },
     "metadata": {},
     "output_type": "display_data"
    }
   ],
   "source": [
    "from IPython.display import Markdown\n",
    "\n",
    "# call the function to generate markdown text\n",
    "markdown_text = generate_markdown_text(\"1. Introduction This is the introduction text.\")\n",
    "\n",
    "# display the markdown text in a Markdown cell\n",
    "display(Markdown(markdown_text))"
   ]
  }
 ],
 "metadata": {
  "kernelspec": {
   "display_name": "Python 3",
   "language": "python",
   "name": "python3"
  },
  "language_info": {
   "codemirror_mode": {
    "name": "ipython",
    "version": 3
   },
   "file_extension": ".py",
   "mimetype": "text/x-python",
   "name": "python",
   "nbconvert_exporter": "python",
   "pygments_lexer": "ipython3",
   "version": "3.10.4"
  },
  "orig_nbformat": 4,
  "vscode": {
   "interpreter": {
    "hash": "aee8b7b246df8f9039afb4144a1f6fd8d2ca17a180786b69acc140d282b71a49"
   }
  }
 },
 "nbformat": 4,
 "nbformat_minor": 2
}
