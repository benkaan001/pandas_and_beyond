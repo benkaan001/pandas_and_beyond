{
 "cells": [
  {
   "cell_type": "code",
   "execution_count": 297,
   "metadata": {},
   "outputs": [],
   "source": [
    "import pandas as pd\n",
    "import numpy as np\n",
    "import matplotlib.pyplot as plt\n",
    "\n",
    "# display matplotlib plots directly in the notebook, instead of in separate windows.\n",
    "%matplotlib inline \n",
    "\n",
    "# set max command\n",
    "pd.set_option(\"display.max_columns\", 200)"
   ]
  },
  {
   "attachments": {},
   "cell_type": "markdown",
   "metadata": {},
   "source": [
    "### Generate Markdown"
   ]
  },
  {
   "cell_type": "code",
   "execution_count": 298,
   "metadata": {},
   "outputs": [
    {
     "data": {
      "text/plain": [
       "'iii. [Subplot occupations by funny ratings rate and funny ratins count.](#-iii.Subplot-occupations-by-funny-ratings-rate-and-funny-ratins-count.)'"
      ]
     },
     "execution_count": 298,
     "metadata": {},
     "output_type": "execute_result"
    }
   ],
   "source": [
    "%run ../helper/generate_markdown.ipynb import generate_markdown_text\n",
    "\n",
    "generate_markdown_text('iii.Subplot occupations by funny ratings rate and funny ratins count.')"
   ]
  },
  {
   "attachments": {},
   "cell_type": "markdown",
   "metadata": {},
   "source": [
    "# TED Talks Dataset Exploration\n",
    "\n",
    "1. [Observe the data.](#-1.Observe-the-data.)\n",
    "2. [Determine which discussions generate the highest level of online engagement.](#-2.Determine-which-discussions-generate-the-highest-level-of-online-engagement.)\n",
    "3. [Visualize the distribution of comments.](#-3.Visualize-the-distribution-of-comments.)\n",
    "4. [Plot the number of talks that took place each year.](#-4.Plot-the-number-of-talks-that-took-place-each-year.)\n",
    "5. [Unpack the ratings data.](#-5.Unpack-the-ratings-data.)\n",
    "    - i. [Calculate the total number of ratings per talk.](#-i.Calculate-the-total-number-of-ratings-per-talk.)\n",
    "        - I. [Using regex.](#-I.Using-regex.)\n",
    "        - II. [Using custom function.](#-II.Using-custom-function.)\n",
    "        - III. [Using lambda.](#-III.Using-lambda.)\n",
    "        - IV. [Using pd.DataFrame().](#-IV.Using-pd.DataFrame().)\n",
    "    - ii. [Calculate the percentage of negative ratings.](#-ii.Calculate-the-percentage-of-negative-ratings.)\n",
    "    - iii. [Calculate the average number of ratings each talk received per day since it was published.](#-iii.Calculate-the-average-number-of-ratings-each-talk-received-per-day-since-it-was-published.)\n",
    "6. [Analyze the occupations delivering funniest talks.](#-6.Analyze-the-occupations-delivering-funniest-talks.)\n",
    "    - i. [Plot the top 20 occupations.](#-i.Plot-the-top-20-occupations.)\n",
    "    - ii. [Calculate funny ratings rate.](#-ii.Calculate-funny-ratings-rate.)\n",
    "    - iii. [Subplot occupations by funny ratings rate and funny ratins count.](#-iii.Subplot-occupations-by-funny-ratings-rate-and-funny-ratins-count.)\n"
   ]
  },
  {
   "attachments": {},
   "cell_type": "markdown",
   "metadata": {},
   "source": [
    "### 1.Observe the data."
   ]
  },
  {
   "cell_type": "code",
   "execution_count": 299,
   "metadata": {},
   "outputs": [
    {
     "data": {
      "text/html": [
       "<div>\n",
       "<style scoped>\n",
       "    .dataframe tbody tr th:only-of-type {\n",
       "        vertical-align: middle;\n",
       "    }\n",
       "\n",
       "    .dataframe tbody tr th {\n",
       "        vertical-align: top;\n",
       "    }\n",
       "\n",
       "    .dataframe thead th {\n",
       "        text-align: right;\n",
       "    }\n",
       "</style>\n",
       "<table border=\"1\" class=\"dataframe\">\n",
       "  <thead>\n",
       "    <tr style=\"text-align: right;\">\n",
       "      <th></th>\n",
       "      <th>comments</th>\n",
       "      <th>description</th>\n",
       "      <th>duration</th>\n",
       "      <th>event</th>\n",
       "      <th>film_date</th>\n",
       "      <th>languages</th>\n",
       "      <th>main_speaker</th>\n",
       "      <th>name</th>\n",
       "      <th>num_speaker</th>\n",
       "      <th>published_date</th>\n",
       "      <th>ratings</th>\n",
       "      <th>related_talks</th>\n",
       "      <th>speaker_occupation</th>\n",
       "      <th>tags</th>\n",
       "      <th>title</th>\n",
       "      <th>url</th>\n",
       "      <th>views</th>\n",
       "    </tr>\n",
       "  </thead>\n",
       "  <tbody>\n",
       "    <tr>\n",
       "      <th>0</th>\n",
       "      <td>4553</td>\n",
       "      <td>Sir Ken Robinson makes an entertaining and pro...</td>\n",
       "      <td>1164</td>\n",
       "      <td>TED2006</td>\n",
       "      <td>1140825600</td>\n",
       "      <td>60</td>\n",
       "      <td>Ken Robinson</td>\n",
       "      <td>Ken Robinson: Do schools kill creativity?</td>\n",
       "      <td>1</td>\n",
       "      <td>1151367060</td>\n",
       "      <td>[{'id': 7, 'name': 'Funny', 'count': 19645}, {...</td>\n",
       "      <td>[{'id': 865, 'hero': 'https://pe.tedcdn.com/im...</td>\n",
       "      <td>Author/educator</td>\n",
       "      <td>['children', 'creativity', 'culture', 'dance',...</td>\n",
       "      <td>Do schools kill creativity?</td>\n",
       "      <td>https://www.ted.com/talks/ken_robinson_says_sc...</td>\n",
       "      <td>47227110</td>\n",
       "    </tr>\n",
       "    <tr>\n",
       "      <th>1</th>\n",
       "      <td>265</td>\n",
       "      <td>With the same humor and humanity he exuded in ...</td>\n",
       "      <td>977</td>\n",
       "      <td>TED2006</td>\n",
       "      <td>1140825600</td>\n",
       "      <td>43</td>\n",
       "      <td>Al Gore</td>\n",
       "      <td>Al Gore: Averting the climate crisis</td>\n",
       "      <td>1</td>\n",
       "      <td>1151367060</td>\n",
       "      <td>[{'id': 7, 'name': 'Funny', 'count': 544}, {'i...</td>\n",
       "      <td>[{'id': 243, 'hero': 'https://pe.tedcdn.com/im...</td>\n",
       "      <td>Climate advocate</td>\n",
       "      <td>['alternative energy', 'cars', 'climate change...</td>\n",
       "      <td>Averting the climate crisis</td>\n",
       "      <td>https://www.ted.com/talks/al_gore_on_averting_...</td>\n",
       "      <td>3200520</td>\n",
       "    </tr>\n",
       "    <tr>\n",
       "      <th>2</th>\n",
       "      <td>124</td>\n",
       "      <td>New York Times columnist David Pogue takes aim...</td>\n",
       "      <td>1286</td>\n",
       "      <td>TED2006</td>\n",
       "      <td>1140739200</td>\n",
       "      <td>26</td>\n",
       "      <td>David Pogue</td>\n",
       "      <td>David Pogue: Simplicity sells</td>\n",
       "      <td>1</td>\n",
       "      <td>1151367060</td>\n",
       "      <td>[{'id': 7, 'name': 'Funny', 'count': 964}, {'i...</td>\n",
       "      <td>[{'id': 1725, 'hero': 'https://pe.tedcdn.com/i...</td>\n",
       "      <td>Technology columnist</td>\n",
       "      <td>['computers', 'entertainment', 'interface desi...</td>\n",
       "      <td>Simplicity sells</td>\n",
       "      <td>https://www.ted.com/talks/david_pogue_says_sim...</td>\n",
       "      <td>1636292</td>\n",
       "    </tr>\n",
       "    <tr>\n",
       "      <th>3</th>\n",
       "      <td>200</td>\n",
       "      <td>In an emotionally charged talk, MacArthur-winn...</td>\n",
       "      <td>1116</td>\n",
       "      <td>TED2006</td>\n",
       "      <td>1140912000</td>\n",
       "      <td>35</td>\n",
       "      <td>Majora Carter</td>\n",
       "      <td>Majora Carter: Greening the ghetto</td>\n",
       "      <td>1</td>\n",
       "      <td>1151367060</td>\n",
       "      <td>[{'id': 3, 'name': 'Courageous', 'count': 760}...</td>\n",
       "      <td>[{'id': 1041, 'hero': 'https://pe.tedcdn.com/i...</td>\n",
       "      <td>Activist for environmental justice</td>\n",
       "      <td>['MacArthur grant', 'activism', 'business', 'c...</td>\n",
       "      <td>Greening the ghetto</td>\n",
       "      <td>https://www.ted.com/talks/majora_carter_s_tale...</td>\n",
       "      <td>1697550</td>\n",
       "    </tr>\n",
       "    <tr>\n",
       "      <th>4</th>\n",
       "      <td>593</td>\n",
       "      <td>You've never seen data presented like this. Wi...</td>\n",
       "      <td>1190</td>\n",
       "      <td>TED2006</td>\n",
       "      <td>1140566400</td>\n",
       "      <td>48</td>\n",
       "      <td>Hans Rosling</td>\n",
       "      <td>Hans Rosling: The best stats you've ever seen</td>\n",
       "      <td>1</td>\n",
       "      <td>1151440680</td>\n",
       "      <td>[{'id': 9, 'name': 'Ingenious', 'count': 3202}...</td>\n",
       "      <td>[{'id': 2056, 'hero': 'https://pe.tedcdn.com/i...</td>\n",
       "      <td>Global health expert; data visionary</td>\n",
       "      <td>['Africa', 'Asia', 'Google', 'demo', 'economic...</td>\n",
       "      <td>The best stats you've ever seen</td>\n",
       "      <td>https://www.ted.com/talks/hans_rosling_shows_t...</td>\n",
       "      <td>12005869</td>\n",
       "    </tr>\n",
       "  </tbody>\n",
       "</table>\n",
       "</div>"
      ],
      "text/plain": [
       "   comments                                        description  duration  \\\n",
       "0      4553  Sir Ken Robinson makes an entertaining and pro...      1164   \n",
       "1       265  With the same humor and humanity he exuded in ...       977   \n",
       "2       124  New York Times columnist David Pogue takes aim...      1286   \n",
       "3       200  In an emotionally charged talk, MacArthur-winn...      1116   \n",
       "4       593  You've never seen data presented like this. Wi...      1190   \n",
       "\n",
       "     event   film_date  languages   main_speaker  \\\n",
       "0  TED2006  1140825600         60   Ken Robinson   \n",
       "1  TED2006  1140825600         43        Al Gore   \n",
       "2  TED2006  1140739200         26    David Pogue   \n",
       "3  TED2006  1140912000         35  Majora Carter   \n",
       "4  TED2006  1140566400         48   Hans Rosling   \n",
       "\n",
       "                                            name  num_speaker  published_date  \\\n",
       "0      Ken Robinson: Do schools kill creativity?            1      1151367060   \n",
       "1           Al Gore: Averting the climate crisis            1      1151367060   \n",
       "2                  David Pogue: Simplicity sells            1      1151367060   \n",
       "3             Majora Carter: Greening the ghetto            1      1151367060   \n",
       "4  Hans Rosling: The best stats you've ever seen            1      1151440680   \n",
       "\n",
       "                                             ratings  \\\n",
       "0  [{'id': 7, 'name': 'Funny', 'count': 19645}, {...   \n",
       "1  [{'id': 7, 'name': 'Funny', 'count': 544}, {'i...   \n",
       "2  [{'id': 7, 'name': 'Funny', 'count': 964}, {'i...   \n",
       "3  [{'id': 3, 'name': 'Courageous', 'count': 760}...   \n",
       "4  [{'id': 9, 'name': 'Ingenious', 'count': 3202}...   \n",
       "\n",
       "                                       related_talks  \\\n",
       "0  [{'id': 865, 'hero': 'https://pe.tedcdn.com/im...   \n",
       "1  [{'id': 243, 'hero': 'https://pe.tedcdn.com/im...   \n",
       "2  [{'id': 1725, 'hero': 'https://pe.tedcdn.com/i...   \n",
       "3  [{'id': 1041, 'hero': 'https://pe.tedcdn.com/i...   \n",
       "4  [{'id': 2056, 'hero': 'https://pe.tedcdn.com/i...   \n",
       "\n",
       "                     speaker_occupation  \\\n",
       "0                       Author/educator   \n",
       "1                      Climate advocate   \n",
       "2                  Technology columnist   \n",
       "3    Activist for environmental justice   \n",
       "4  Global health expert; data visionary   \n",
       "\n",
       "                                                tags  \\\n",
       "0  ['children', 'creativity', 'culture', 'dance',...   \n",
       "1  ['alternative energy', 'cars', 'climate change...   \n",
       "2  ['computers', 'entertainment', 'interface desi...   \n",
       "3  ['MacArthur grant', 'activism', 'business', 'c...   \n",
       "4  ['Africa', 'Asia', 'Google', 'demo', 'economic...   \n",
       "\n",
       "                             title  \\\n",
       "0      Do schools kill creativity?   \n",
       "1      Averting the climate crisis   \n",
       "2                 Simplicity sells   \n",
       "3              Greening the ghetto   \n",
       "4  The best stats you've ever seen   \n",
       "\n",
       "                                                 url     views  \n",
       "0  https://www.ted.com/talks/ken_robinson_says_sc...  47227110  \n",
       "1  https://www.ted.com/talks/al_gore_on_averting_...   3200520  \n",
       "2  https://www.ted.com/talks/david_pogue_says_sim...   1636292  \n",
       "3  https://www.ted.com/talks/majora_carter_s_tale...   1697550  \n",
       "4  https://www.ted.com/talks/hans_rosling_shows_t...  12005869  "
      ]
     },
     "execution_count": 299,
     "metadata": {},
     "output_type": "execute_result"
    }
   ],
   "source": [
    "df = pd.read_csv(\"../data/ted_main.csv\")\n",
    "\n",
    "df.head()"
   ]
  },
  {
   "cell_type": "code",
   "execution_count": 300,
   "metadata": {},
   "outputs": [
    {
     "data": {
      "text/plain": [
       "(2550, 17)"
      ]
     },
     "execution_count": 300,
     "metadata": {},
     "output_type": "execute_result"
    }
   ],
   "source": [
    "df.shape"
   ]
  },
  {
   "cell_type": "code",
   "execution_count": 301,
   "metadata": {},
   "outputs": [
    {
     "data": {
      "text/plain": [
       "comments               int64\n",
       "description           object\n",
       "duration               int64\n",
       "event                 object\n",
       "film_date              int64\n",
       "languages              int64\n",
       "main_speaker          object\n",
       "name                  object\n",
       "num_speaker            int64\n",
       "published_date         int64\n",
       "ratings               object\n",
       "related_talks         object\n",
       "speaker_occupation    object\n",
       "tags                  object\n",
       "title                 object\n",
       "url                   object\n",
       "views                  int64\n",
       "dtype: object"
      ]
     },
     "execution_count": 301,
     "metadata": {},
     "output_type": "execute_result"
    }
   ],
   "source": [
    "df.dtypes"
   ]
  },
  {
   "cell_type": "code",
   "execution_count": 302,
   "metadata": {},
   "outputs": [
    {
     "data": {
      "text/plain": [
       "comments              0\n",
       "description           0\n",
       "duration              0\n",
       "event                 0\n",
       "film_date             0\n",
       "languages             0\n",
       "main_speaker          0\n",
       "name                  0\n",
       "num_speaker           0\n",
       "published_date        0\n",
       "ratings               0\n",
       "related_talks         0\n",
       "speaker_occupation    6\n",
       "tags                  0\n",
       "title                 0\n",
       "url                   0\n",
       "views                 0\n",
       "dtype: int64"
      ]
     },
     "execution_count": 302,
     "metadata": {},
     "output_type": "execute_result"
    }
   ],
   "source": [
    "# check null values\n",
    "df.isnull().sum()"
   ]
  },
  {
   "cell_type": "code",
   "execution_count": 303,
   "metadata": {},
   "outputs": [
    {
     "data": {
      "text/html": [
       "<div>\n",
       "<style scoped>\n",
       "    .dataframe tbody tr th:only-of-type {\n",
       "        vertical-align: middle;\n",
       "    }\n",
       "\n",
       "    .dataframe tbody tr th {\n",
       "        vertical-align: top;\n",
       "    }\n",
       "\n",
       "    .dataframe thead th {\n",
       "        text-align: right;\n",
       "    }\n",
       "</style>\n",
       "<table border=\"1\" class=\"dataframe\">\n",
       "  <thead>\n",
       "    <tr style=\"text-align: right;\">\n",
       "      <th></th>\n",
       "      <th>comments</th>\n",
       "      <th>description</th>\n",
       "      <th>duration</th>\n",
       "      <th>event</th>\n",
       "      <th>film_date</th>\n",
       "      <th>languages</th>\n",
       "      <th>main_speaker</th>\n",
       "      <th>name</th>\n",
       "      <th>num_speaker</th>\n",
       "      <th>published_date</th>\n",
       "      <th>ratings</th>\n",
       "      <th>related_talks</th>\n",
       "      <th>speaker_occupation</th>\n",
       "      <th>tags</th>\n",
       "      <th>title</th>\n",
       "      <th>url</th>\n",
       "      <th>views</th>\n",
       "    </tr>\n",
       "  </thead>\n",
       "  <tbody>\n",
       "    <tr>\n",
       "      <th>1113</th>\n",
       "      <td>145</td>\n",
       "      <td>After a crisis, how can we tell if water is sa...</td>\n",
       "      <td>217</td>\n",
       "      <td>TEDGlobal 2011</td>\n",
       "      <td>1310601600</td>\n",
       "      <td>38</td>\n",
       "      <td>Sonaar Luthra</td>\n",
       "      <td>Sonaar Luthra: Meet the Water Canary</td>\n",
       "      <td>1</td>\n",
       "      <td>1326731605</td>\n",
       "      <td>[{'id': 10, 'name': 'Inspiring', 'count': 73},...</td>\n",
       "      <td>[{'id': 523, 'hero': 'https://pe.tedcdn.com/im...</td>\n",
       "      <td>NaN</td>\n",
       "      <td>['TED Fellows', 'design', 'global development'...</td>\n",
       "      <td>Meet the Water Canary</td>\n",
       "      <td>https://www.ted.com/talks/sonaar_luthra_meet_t...</td>\n",
       "      <td>353749</td>\n",
       "    </tr>\n",
       "    <tr>\n",
       "      <th>1192</th>\n",
       "      <td>122</td>\n",
       "      <td>The Pirate Party fights for transparency, anon...</td>\n",
       "      <td>1097</td>\n",
       "      <td>TEDxObserver</td>\n",
       "      <td>1331424000</td>\n",
       "      <td>10</td>\n",
       "      <td>Rick Falkvinge</td>\n",
       "      <td>Rick Falkvinge: I am a pirate</td>\n",
       "      <td>1</td>\n",
       "      <td>1333289675</td>\n",
       "      <td>[{'id': 8, 'name': 'Informative', 'count': 156...</td>\n",
       "      <td>[{'id': 1329, 'hero': 'https://pe.tedcdn.com/i...</td>\n",
       "      <td>NaN</td>\n",
       "      <td>['Internet', 'TEDx', 'global issues', 'politic...</td>\n",
       "      <td>I am a pirate</td>\n",
       "      <td>https://www.ted.com/talks/rick_falkvinge_i_am_...</td>\n",
       "      <td>181010</td>\n",
       "    </tr>\n",
       "    <tr>\n",
       "      <th>1220</th>\n",
       "      <td>257</td>\n",
       "      <td>As you surf the Web, information is being coll...</td>\n",
       "      <td>399</td>\n",
       "      <td>TED2012</td>\n",
       "      <td>1330473600</td>\n",
       "      <td>32</td>\n",
       "      <td>Gary Kovacs</td>\n",
       "      <td>Gary Kovacs: Tracking our online trackers</td>\n",
       "      <td>1</td>\n",
       "      <td>1336057219</td>\n",
       "      <td>[{'id': 23, 'name': 'Jaw-dropping', 'count': 9...</td>\n",
       "      <td>[{'id': 1370, 'hero': 'https://pe.tedcdn.com/i...</td>\n",
       "      <td>NaN</td>\n",
       "      <td>['Internet', 'advertising', 'business', 'priva...</td>\n",
       "      <td>Tracking our online trackers</td>\n",
       "      <td>https://www.ted.com/talks/gary_kovacs_tracking...</td>\n",
       "      <td>2098639</td>\n",
       "    </tr>\n",
       "    <tr>\n",
       "      <th>1656</th>\n",
       "      <td>140</td>\n",
       "      <td>In this lovely talk, TED Fellow Ryan Holladay ...</td>\n",
       "      <td>389</td>\n",
       "      <td>TED@BCG San Francisco</td>\n",
       "      <td>1383091200</td>\n",
       "      <td>33</td>\n",
       "      <td>Ryan Holladay</td>\n",
       "      <td>Ryan Holladay: To hear this music you have to ...</td>\n",
       "      <td>1</td>\n",
       "      <td>1389369735</td>\n",
       "      <td>[{'id': 1, 'name': 'Beautiful', 'count': 211},...</td>\n",
       "      <td>[{'id': 1152, 'hero': 'https://pe.tedcdn.com/i...</td>\n",
       "      <td>NaN</td>\n",
       "      <td>['TED Fellows', 'entertainment', 'music', 'tec...</td>\n",
       "      <td>To hear this music you have to be there. Liter...</td>\n",
       "      <td>https://www.ted.com/talks/ryan_holladay_to_hea...</td>\n",
       "      <td>1284510</td>\n",
       "    </tr>\n",
       "    <tr>\n",
       "      <th>1911</th>\n",
       "      <td>48</td>\n",
       "      <td>What do you do with an outdated encyclopedia i...</td>\n",
       "      <td>366</td>\n",
       "      <td>TEDYouth 2014</td>\n",
       "      <td>1415059200</td>\n",
       "      <td>34</td>\n",
       "      <td>Brian Dettmer</td>\n",
       "      <td>Brian Dettmer: Old books reborn as art</td>\n",
       "      <td>1</td>\n",
       "      <td>1423238442</td>\n",
       "      <td>[{'id': 1, 'name': 'Beautiful', 'count': 361},...</td>\n",
       "      <td>[{'id': 610, 'hero': 'https://pe.tedcdn.com/im...</td>\n",
       "      <td>NaN</td>\n",
       "      <td>['TEDYouth', 'art', 'books', 'creativity']</td>\n",
       "      <td>Old books reborn as art</td>\n",
       "      <td>https://www.ted.com/talks/brian_dettmer_old_bo...</td>\n",
       "      <td>1159937</td>\n",
       "    </tr>\n",
       "    <tr>\n",
       "      <th>1949</th>\n",
       "      <td>70</td>\n",
       "      <td>Photographer Boniface Mwangi wanted to protest...</td>\n",
       "      <td>440</td>\n",
       "      <td>TEDGlobal 2014</td>\n",
       "      <td>1413763200</td>\n",
       "      <td>33</td>\n",
       "      <td>Boniface Mwangi</td>\n",
       "      <td>Boniface Mwangi: The day I stood up alone</td>\n",
       "      <td>1</td>\n",
       "      <td>1427989423</td>\n",
       "      <td>[{'id': 3, 'name': 'Courageous', 'count': 614}...</td>\n",
       "      <td>[{'id': 1757, 'hero': 'https://pe.tedcdn.com/i...</td>\n",
       "      <td>NaN</td>\n",
       "      <td>['TED Fellows', 'activism', 'art', 'corruption...</td>\n",
       "      <td>The day I stood up alone</td>\n",
       "      <td>https://www.ted.com/talks/boniface_mwangi_boni...</td>\n",
       "      <td>1342431</td>\n",
       "    </tr>\n",
       "  </tbody>\n",
       "</table>\n",
       "</div>"
      ],
      "text/plain": [
       "      comments                                        description  duration  \\\n",
       "1113       145  After a crisis, how can we tell if water is sa...       217   \n",
       "1192       122  The Pirate Party fights for transparency, anon...      1097   \n",
       "1220       257  As you surf the Web, information is being coll...       399   \n",
       "1656       140  In this lovely talk, TED Fellow Ryan Holladay ...       389   \n",
       "1911        48  What do you do with an outdated encyclopedia i...       366   \n",
       "1949        70  Photographer Boniface Mwangi wanted to protest...       440   \n",
       "\n",
       "                      event   film_date  languages     main_speaker  \\\n",
       "1113         TEDGlobal 2011  1310601600         38    Sonaar Luthra   \n",
       "1192           TEDxObserver  1331424000         10   Rick Falkvinge   \n",
       "1220                TED2012  1330473600         32      Gary Kovacs   \n",
       "1656  TED@BCG San Francisco  1383091200         33    Ryan Holladay   \n",
       "1911          TEDYouth 2014  1415059200         34    Brian Dettmer   \n",
       "1949         TEDGlobal 2014  1413763200         33  Boniface Mwangi   \n",
       "\n",
       "                                                   name  num_speaker  \\\n",
       "1113               Sonaar Luthra: Meet the Water Canary            1   \n",
       "1192                      Rick Falkvinge: I am a pirate            1   \n",
       "1220          Gary Kovacs: Tracking our online trackers            1   \n",
       "1656  Ryan Holladay: To hear this music you have to ...            1   \n",
       "1911             Brian Dettmer: Old books reborn as art            1   \n",
       "1949          Boniface Mwangi: The day I stood up alone            1   \n",
       "\n",
       "      published_date                                            ratings  \\\n",
       "1113      1326731605  [{'id': 10, 'name': 'Inspiring', 'count': 73},...   \n",
       "1192      1333289675  [{'id': 8, 'name': 'Informative', 'count': 156...   \n",
       "1220      1336057219  [{'id': 23, 'name': 'Jaw-dropping', 'count': 9...   \n",
       "1656      1389369735  [{'id': 1, 'name': 'Beautiful', 'count': 211},...   \n",
       "1911      1423238442  [{'id': 1, 'name': 'Beautiful', 'count': 361},...   \n",
       "1949      1427989423  [{'id': 3, 'name': 'Courageous', 'count': 614}...   \n",
       "\n",
       "                                          related_talks speaker_occupation  \\\n",
       "1113  [{'id': 523, 'hero': 'https://pe.tedcdn.com/im...                NaN   \n",
       "1192  [{'id': 1329, 'hero': 'https://pe.tedcdn.com/i...                NaN   \n",
       "1220  [{'id': 1370, 'hero': 'https://pe.tedcdn.com/i...                NaN   \n",
       "1656  [{'id': 1152, 'hero': 'https://pe.tedcdn.com/i...                NaN   \n",
       "1911  [{'id': 610, 'hero': 'https://pe.tedcdn.com/im...                NaN   \n",
       "1949  [{'id': 1757, 'hero': 'https://pe.tedcdn.com/i...                NaN   \n",
       "\n",
       "                                                   tags  \\\n",
       "1113  ['TED Fellows', 'design', 'global development'...   \n",
       "1192  ['Internet', 'TEDx', 'global issues', 'politic...   \n",
       "1220  ['Internet', 'advertising', 'business', 'priva...   \n",
       "1656  ['TED Fellows', 'entertainment', 'music', 'tec...   \n",
       "1911         ['TEDYouth', 'art', 'books', 'creativity']   \n",
       "1949  ['TED Fellows', 'activism', 'art', 'corruption...   \n",
       "\n",
       "                                                  title  \\\n",
       "1113                              Meet the Water Canary   \n",
       "1192                                      I am a pirate   \n",
       "1220                       Tracking our online trackers   \n",
       "1656  To hear this music you have to be there. Liter...   \n",
       "1911                            Old books reborn as art   \n",
       "1949                           The day I stood up alone   \n",
       "\n",
       "                                                    url    views  \n",
       "1113  https://www.ted.com/talks/sonaar_luthra_meet_t...   353749  \n",
       "1192  https://www.ted.com/talks/rick_falkvinge_i_am_...   181010  \n",
       "1220  https://www.ted.com/talks/gary_kovacs_tracking...  2098639  \n",
       "1656  https://www.ted.com/talks/ryan_holladay_to_hea...  1284510  \n",
       "1911  https://www.ted.com/talks/brian_dettmer_old_bo...  1159937  \n",
       "1949  https://www.ted.com/talks/boniface_mwangi_boni...  1342431  "
      ]
     },
     "execution_count": 303,
     "metadata": {},
     "output_type": "execute_result"
    }
   ],
   "source": [
    "# review the rows with missing speaker_occupation column values \n",
    "df.loc[df.speaker_occupation.isnull() == True ]"
   ]
  },
  {
   "attachments": {},
   "cell_type": "markdown",
   "metadata": {},
   "source": [
    "[BACK TO TOP][def]\n",
    "\n",
    "[def]: #-TED-Talks-Dataset-Exploration"
   ]
  },
  {
   "attachments": {},
   "cell_type": "markdown",
   "metadata": {},
   "source": [
    "## 2.Determine which discussions generate the highest level of online engagement."
   ]
  },
  {
   "cell_type": "code",
   "execution_count": 304,
   "metadata": {},
   "outputs": [
    {
     "data": {
      "text/html": [
       "<div>\n",
       "<style scoped>\n",
       "    .dataframe tbody tr th:only-of-type {\n",
       "        vertical-align: middle;\n",
       "    }\n",
       "\n",
       "    .dataframe tbody tr th {\n",
       "        vertical-align: top;\n",
       "    }\n",
       "\n",
       "    .dataframe thead th {\n",
       "        text-align: right;\n",
       "    }\n",
       "</style>\n",
       "<table border=\"1\" class=\"dataframe\">\n",
       "  <thead>\n",
       "    <tr style=\"text-align: right;\">\n",
       "      <th></th>\n",
       "      <th>comments</th>\n",
       "      <th>description</th>\n",
       "      <th>duration</th>\n",
       "      <th>event</th>\n",
       "      <th>film_date</th>\n",
       "      <th>languages</th>\n",
       "      <th>main_speaker</th>\n",
       "      <th>name</th>\n",
       "      <th>num_speaker</th>\n",
       "      <th>published_date</th>\n",
       "      <th>ratings</th>\n",
       "      <th>related_talks</th>\n",
       "      <th>speaker_occupation</th>\n",
       "      <th>tags</th>\n",
       "      <th>title</th>\n",
       "      <th>url</th>\n",
       "      <th>views</th>\n",
       "    </tr>\n",
       "  </thead>\n",
       "  <tbody>\n",
       "    <tr>\n",
       "      <th>96</th>\n",
       "      <td>6404</td>\n",
       "      <td>Richard Dawkins urges all atheists to openly s...</td>\n",
       "      <td>1750</td>\n",
       "      <td>TED2002</td>\n",
       "      <td>1012608000</td>\n",
       "      <td>42</td>\n",
       "      <td>Richard Dawkins</td>\n",
       "      <td>Richard Dawkins: Militant atheism</td>\n",
       "      <td>1</td>\n",
       "      <td>1176689220</td>\n",
       "      <td>[{'id': 3, 'name': 'Courageous', 'count': 3236...</td>\n",
       "      <td>[{'id': 86, 'hero': 'https://pe.tedcdn.com/ima...</td>\n",
       "      <td>Evolutionary biologist</td>\n",
       "      <td>['God', 'atheism', 'culture', 'religion', 'sci...</td>\n",
       "      <td>Militant atheism</td>\n",
       "      <td>https://www.ted.com/talks/richard_dawkins_on_m...</td>\n",
       "      <td>4374792</td>\n",
       "    </tr>\n",
       "    <tr>\n",
       "      <th>0</th>\n",
       "      <td>4553</td>\n",
       "      <td>Sir Ken Robinson makes an entertaining and pro...</td>\n",
       "      <td>1164</td>\n",
       "      <td>TED2006</td>\n",
       "      <td>1140825600</td>\n",
       "      <td>60</td>\n",
       "      <td>Ken Robinson</td>\n",
       "      <td>Ken Robinson: Do schools kill creativity?</td>\n",
       "      <td>1</td>\n",
       "      <td>1151367060</td>\n",
       "      <td>[{'id': 7, 'name': 'Funny', 'count': 19645}, {...</td>\n",
       "      <td>[{'id': 865, 'hero': 'https://pe.tedcdn.com/im...</td>\n",
       "      <td>Author/educator</td>\n",
       "      <td>['children', 'creativity', 'culture', 'dance',...</td>\n",
       "      <td>Do schools kill creativity?</td>\n",
       "      <td>https://www.ted.com/talks/ken_robinson_says_sc...</td>\n",
       "      <td>47227110</td>\n",
       "    </tr>\n",
       "    <tr>\n",
       "      <th>644</th>\n",
       "      <td>3356</td>\n",
       "      <td>Questions of good and evil, right and wrong ar...</td>\n",
       "      <td>1386</td>\n",
       "      <td>TED2010</td>\n",
       "      <td>1265846400</td>\n",
       "      <td>39</td>\n",
       "      <td>Sam Harris</td>\n",
       "      <td>Sam Harris: Science can answer moral questions</td>\n",
       "      <td>1</td>\n",
       "      <td>1269249180</td>\n",
       "      <td>[{'id': 8, 'name': 'Informative', 'count': 923...</td>\n",
       "      <td>[{'id': 666, 'hero': 'https://pe.tedcdn.com/im...</td>\n",
       "      <td>Neuroscientist, philosopher</td>\n",
       "      <td>['culture', 'evolutionary psychology', 'global...</td>\n",
       "      <td>Science can answer moral questions</td>\n",
       "      <td>https://www.ted.com/talks/sam_harris_science_c...</td>\n",
       "      <td>3433437</td>\n",
       "    </tr>\n",
       "    <tr>\n",
       "      <th>201</th>\n",
       "      <td>2877</td>\n",
       "      <td>Jill Bolte Taylor got a research opportunity f...</td>\n",
       "      <td>1099</td>\n",
       "      <td>TED2008</td>\n",
       "      <td>1204070400</td>\n",
       "      <td>49</td>\n",
       "      <td>Jill Bolte Taylor</td>\n",
       "      <td>Jill Bolte Taylor: My stroke of insight</td>\n",
       "      <td>1</td>\n",
       "      <td>1205284200</td>\n",
       "      <td>[{'id': 22, 'name': 'Fascinating', 'count': 14...</td>\n",
       "      <td>[{'id': 184, 'hero': 'https://pe.tedcdn.com/im...</td>\n",
       "      <td>Neuroanatomist</td>\n",
       "      <td>['biology', 'brain', 'consciousness', 'global ...</td>\n",
       "      <td>My stroke of insight</td>\n",
       "      <td>https://www.ted.com/talks/jill_bolte_taylor_s_...</td>\n",
       "      <td>21190883</td>\n",
       "    </tr>\n",
       "    <tr>\n",
       "      <th>1787</th>\n",
       "      <td>2673</td>\n",
       "      <td>Our consciousness is a fundamental aspect of o...</td>\n",
       "      <td>1117</td>\n",
       "      <td>TED2014</td>\n",
       "      <td>1395100800</td>\n",
       "      <td>33</td>\n",
       "      <td>David Chalmers</td>\n",
       "      <td>David Chalmers: How do you explain consciousness?</td>\n",
       "      <td>1</td>\n",
       "      <td>1405350484</td>\n",
       "      <td>[{'id': 25, 'name': 'OK', 'count': 280}, {'id'...</td>\n",
       "      <td>[{'id': 1308, 'hero': 'https://pe.tedcdn.com/i...</td>\n",
       "      <td>Philosopher</td>\n",
       "      <td>['brain', 'consciousness', 'neuroscience', 'ph...</td>\n",
       "      <td>How do you explain consciousness?</td>\n",
       "      <td>https://www.ted.com/talks/david_chalmers_how_d...</td>\n",
       "      <td>2162764</td>\n",
       "    </tr>\n",
       "  </tbody>\n",
       "</table>\n",
       "</div>"
      ],
      "text/plain": [
       "      comments                                        description  duration  \\\n",
       "96        6404  Richard Dawkins urges all atheists to openly s...      1750   \n",
       "0         4553  Sir Ken Robinson makes an entertaining and pro...      1164   \n",
       "644       3356  Questions of good and evil, right and wrong ar...      1386   \n",
       "201       2877  Jill Bolte Taylor got a research opportunity f...      1099   \n",
       "1787      2673  Our consciousness is a fundamental aspect of o...      1117   \n",
       "\n",
       "        event   film_date  languages       main_speaker  \\\n",
       "96    TED2002  1012608000         42    Richard Dawkins   \n",
       "0     TED2006  1140825600         60       Ken Robinson   \n",
       "644   TED2010  1265846400         39         Sam Harris   \n",
       "201   TED2008  1204070400         49  Jill Bolte Taylor   \n",
       "1787  TED2014  1395100800         33     David Chalmers   \n",
       "\n",
       "                                                   name  num_speaker  \\\n",
       "96                    Richard Dawkins: Militant atheism            1   \n",
       "0             Ken Robinson: Do schools kill creativity?            1   \n",
       "644      Sam Harris: Science can answer moral questions            1   \n",
       "201             Jill Bolte Taylor: My stroke of insight            1   \n",
       "1787  David Chalmers: How do you explain consciousness?            1   \n",
       "\n",
       "      published_date                                            ratings  \\\n",
       "96        1176689220  [{'id': 3, 'name': 'Courageous', 'count': 3236...   \n",
       "0         1151367060  [{'id': 7, 'name': 'Funny', 'count': 19645}, {...   \n",
       "644       1269249180  [{'id': 8, 'name': 'Informative', 'count': 923...   \n",
       "201       1205284200  [{'id': 22, 'name': 'Fascinating', 'count': 14...   \n",
       "1787      1405350484  [{'id': 25, 'name': 'OK', 'count': 280}, {'id'...   \n",
       "\n",
       "                                          related_talks  \\\n",
       "96    [{'id': 86, 'hero': 'https://pe.tedcdn.com/ima...   \n",
       "0     [{'id': 865, 'hero': 'https://pe.tedcdn.com/im...   \n",
       "644   [{'id': 666, 'hero': 'https://pe.tedcdn.com/im...   \n",
       "201   [{'id': 184, 'hero': 'https://pe.tedcdn.com/im...   \n",
       "1787  [{'id': 1308, 'hero': 'https://pe.tedcdn.com/i...   \n",
       "\n",
       "               speaker_occupation  \\\n",
       "96         Evolutionary biologist   \n",
       "0                 Author/educator   \n",
       "644   Neuroscientist, philosopher   \n",
       "201                Neuroanatomist   \n",
       "1787                  Philosopher   \n",
       "\n",
       "                                                   tags  \\\n",
       "96    ['God', 'atheism', 'culture', 'religion', 'sci...   \n",
       "0     ['children', 'creativity', 'culture', 'dance',...   \n",
       "644   ['culture', 'evolutionary psychology', 'global...   \n",
       "201   ['biology', 'brain', 'consciousness', 'global ...   \n",
       "1787  ['brain', 'consciousness', 'neuroscience', 'ph...   \n",
       "\n",
       "                                   title  \\\n",
       "96                      Militant atheism   \n",
       "0            Do schools kill creativity?   \n",
       "644   Science can answer moral questions   \n",
       "201                 My stroke of insight   \n",
       "1787   How do you explain consciousness?   \n",
       "\n",
       "                                                    url     views  \n",
       "96    https://www.ted.com/talks/richard_dawkins_on_m...   4374792  \n",
       "0     https://www.ted.com/talks/ken_robinson_says_sc...  47227110  \n",
       "644   https://www.ted.com/talks/sam_harris_science_c...   3433437  \n",
       "201   https://www.ted.com/talks/jill_bolte_taylor_s_...  21190883  \n",
       "1787  https://www.ted.com/talks/david_chalmers_how_d...   2162764  "
      ]
     },
     "execution_count": 304,
     "metadata": {},
     "output_type": "execute_result"
    }
   ],
   "source": [
    "# Explore the `comments` column.\n",
    "df.sort_values('comments', ascending=False).head()"
   ]
  },
  {
   "cell_type": "code",
   "execution_count": 305,
   "metadata": {},
   "outputs": [],
   "source": [
    "# Since older talks are naturally likely to have higher comment count, \n",
    "# calculate the `comments_per_view` value.\n",
    "df['comments_per_view'] = df.comments / df.views"
   ]
  },
  {
   "cell_type": "code",
   "execution_count": 306,
   "metadata": {},
   "outputs": [
    {
     "data": {
      "text/html": [
       "<div>\n",
       "<style scoped>\n",
       "    .dataframe tbody tr th:only-of-type {\n",
       "        vertical-align: middle;\n",
       "    }\n",
       "\n",
       "    .dataframe tbody tr th {\n",
       "        vertical-align: top;\n",
       "    }\n",
       "\n",
       "    .dataframe thead th {\n",
       "        text-align: right;\n",
       "    }\n",
       "</style>\n",
       "<table border=\"1\" class=\"dataframe\">\n",
       "  <thead>\n",
       "    <tr style=\"text-align: right;\">\n",
       "      <th></th>\n",
       "      <th>comments</th>\n",
       "      <th>description</th>\n",
       "      <th>duration</th>\n",
       "      <th>event</th>\n",
       "      <th>film_date</th>\n",
       "      <th>languages</th>\n",
       "      <th>main_speaker</th>\n",
       "      <th>name</th>\n",
       "      <th>num_speaker</th>\n",
       "      <th>published_date</th>\n",
       "      <th>ratings</th>\n",
       "      <th>related_talks</th>\n",
       "      <th>speaker_occupation</th>\n",
       "      <th>tags</th>\n",
       "      <th>title</th>\n",
       "      <th>url</th>\n",
       "      <th>views</th>\n",
       "      <th>comments_per_view</th>\n",
       "    </tr>\n",
       "  </thead>\n",
       "  <tbody>\n",
       "    <tr>\n",
       "      <th>744</th>\n",
       "      <td>649</td>\n",
       "      <td>Hours before New York lawmakers rejected a key...</td>\n",
       "      <td>453</td>\n",
       "      <td>New York State Senate</td>\n",
       "      <td>1259712000</td>\n",
       "      <td>0</td>\n",
       "      <td>Diane J. Savino</td>\n",
       "      <td>Diane J. Savino: The case for same-sex marriage</td>\n",
       "      <td>1</td>\n",
       "      <td>1282062180</td>\n",
       "      <td>[{'id': 25, 'name': 'OK', 'count': 100}, {'id'...</td>\n",
       "      <td>[{'id': 217, 'hero': 'https://pe.tedcdn.com/im...</td>\n",
       "      <td>Senator</td>\n",
       "      <td>['God', 'LGBT', 'culture', 'government', 'law'...</td>\n",
       "      <td>The case for same-sex marriage</td>\n",
       "      <td>https://www.ted.com/talks/diane_j_savino_the_c...</td>\n",
       "      <td>292395</td>\n",
       "      <td>0.002220</td>\n",
       "    </tr>\n",
       "    <tr>\n",
       "      <th>803</th>\n",
       "      <td>834</td>\n",
       "      <td>David Bismark demos a new system for voting th...</td>\n",
       "      <td>422</td>\n",
       "      <td>TEDGlobal 2010</td>\n",
       "      <td>1279065600</td>\n",
       "      <td>36</td>\n",
       "      <td>David Bismark</td>\n",
       "      <td>David Bismark: E-voting without fraud</td>\n",
       "      <td>1</td>\n",
       "      <td>1288685640</td>\n",
       "      <td>[{'id': 25, 'name': 'OK', 'count': 111}, {'id'...</td>\n",
       "      <td>[{'id': 803, 'hero': 'https://pe.tedcdn.com/im...</td>\n",
       "      <td>Voting system designer</td>\n",
       "      <td>['culture', 'democracy', 'design', 'global iss...</td>\n",
       "      <td>E-voting without fraud</td>\n",
       "      <td>https://www.ted.com/talks/david_bismark_e_voti...</td>\n",
       "      <td>543551</td>\n",
       "      <td>0.001534</td>\n",
       "    </tr>\n",
       "    <tr>\n",
       "      <th>96</th>\n",
       "      <td>6404</td>\n",
       "      <td>Richard Dawkins urges all atheists to openly s...</td>\n",
       "      <td>1750</td>\n",
       "      <td>TED2002</td>\n",
       "      <td>1012608000</td>\n",
       "      <td>42</td>\n",
       "      <td>Richard Dawkins</td>\n",
       "      <td>Richard Dawkins: Militant atheism</td>\n",
       "      <td>1</td>\n",
       "      <td>1176689220</td>\n",
       "      <td>[{'id': 3, 'name': 'Courageous', 'count': 3236...</td>\n",
       "      <td>[{'id': 86, 'hero': 'https://pe.tedcdn.com/ima...</td>\n",
       "      <td>Evolutionary biologist</td>\n",
       "      <td>['God', 'atheism', 'culture', 'religion', 'sci...</td>\n",
       "      <td>Militant atheism</td>\n",
       "      <td>https://www.ted.com/talks/richard_dawkins_on_m...</td>\n",
       "      <td>4374792</td>\n",
       "      <td>0.001464</td>\n",
       "    </tr>\n",
       "    <tr>\n",
       "      <th>694</th>\n",
       "      <td>1502</td>\n",
       "      <td>Filmmaker Sharmeen Obaid-Chinoy takes on a ter...</td>\n",
       "      <td>489</td>\n",
       "      <td>TED2010</td>\n",
       "      <td>1265760000</td>\n",
       "      <td>32</td>\n",
       "      <td>Sharmeen Obaid-Chinoy</td>\n",
       "      <td>Sharmeen Obaid-Chinoy: Inside a school for sui...</td>\n",
       "      <td>1</td>\n",
       "      <td>1274865960</td>\n",
       "      <td>[{'id': 23, 'name': 'Jaw-dropping', 'count': 3...</td>\n",
       "      <td>[{'id': 171, 'hero': 'https://pe.tedcdn.com/im...</td>\n",
       "      <td>Filmmaker</td>\n",
       "      <td>['TED Fellows', 'children', 'culture', 'film',...</td>\n",
       "      <td>Inside a school for suicide bombers</td>\n",
       "      <td>https://www.ted.com/talks/sharmeen_obaid_chino...</td>\n",
       "      <td>1057238</td>\n",
       "      <td>0.001421</td>\n",
       "    </tr>\n",
       "    <tr>\n",
       "      <th>954</th>\n",
       "      <td>2492</td>\n",
       "      <td>Janet Echelman found her true voice as an arti...</td>\n",
       "      <td>566</td>\n",
       "      <td>TED2011</td>\n",
       "      <td>1299110400</td>\n",
       "      <td>35</td>\n",
       "      <td>Janet Echelman</td>\n",
       "      <td>Janet Echelman: Taking imagination seriously</td>\n",
       "      <td>1</td>\n",
       "      <td>1307489760</td>\n",
       "      <td>[{'id': 23, 'name': 'Jaw-dropping', 'count': 3...</td>\n",
       "      <td>[{'id': 453, 'hero': 'https://pe.tedcdn.com/im...</td>\n",
       "      <td>Artist</td>\n",
       "      <td>['art', 'cities', 'culture', 'data', 'design',...</td>\n",
       "      <td>Taking imagination seriously</td>\n",
       "      <td>https://www.ted.com/talks/janet_echelman\\n</td>\n",
       "      <td>1832930</td>\n",
       "      <td>0.001360</td>\n",
       "    </tr>\n",
       "  </tbody>\n",
       "</table>\n",
       "</div>"
      ],
      "text/plain": [
       "     comments                                        description  duration  \\\n",
       "744       649  Hours before New York lawmakers rejected a key...       453   \n",
       "803       834  David Bismark demos a new system for voting th...       422   \n",
       "96       6404  Richard Dawkins urges all atheists to openly s...      1750   \n",
       "694      1502  Filmmaker Sharmeen Obaid-Chinoy takes on a ter...       489   \n",
       "954      2492  Janet Echelman found her true voice as an arti...       566   \n",
       "\n",
       "                     event   film_date  languages           main_speaker  \\\n",
       "744  New York State Senate  1259712000          0        Diane J. Savino   \n",
       "803         TEDGlobal 2010  1279065600         36          David Bismark   \n",
       "96                 TED2002  1012608000         42        Richard Dawkins   \n",
       "694                TED2010  1265760000         32  Sharmeen Obaid-Chinoy   \n",
       "954                TED2011  1299110400         35         Janet Echelman   \n",
       "\n",
       "                                                  name  num_speaker  \\\n",
       "744    Diane J. Savino: The case for same-sex marriage            1   \n",
       "803              David Bismark: E-voting without fraud            1   \n",
       "96                   Richard Dawkins: Militant atheism            1   \n",
       "694  Sharmeen Obaid-Chinoy: Inside a school for sui...            1   \n",
       "954       Janet Echelman: Taking imagination seriously            1   \n",
       "\n",
       "     published_date                                            ratings  \\\n",
       "744      1282062180  [{'id': 25, 'name': 'OK', 'count': 100}, {'id'...   \n",
       "803      1288685640  [{'id': 25, 'name': 'OK', 'count': 111}, {'id'...   \n",
       "96       1176689220  [{'id': 3, 'name': 'Courageous', 'count': 3236...   \n",
       "694      1274865960  [{'id': 23, 'name': 'Jaw-dropping', 'count': 3...   \n",
       "954      1307489760  [{'id': 23, 'name': 'Jaw-dropping', 'count': 3...   \n",
       "\n",
       "                                         related_talks  \\\n",
       "744  [{'id': 217, 'hero': 'https://pe.tedcdn.com/im...   \n",
       "803  [{'id': 803, 'hero': 'https://pe.tedcdn.com/im...   \n",
       "96   [{'id': 86, 'hero': 'https://pe.tedcdn.com/ima...   \n",
       "694  [{'id': 171, 'hero': 'https://pe.tedcdn.com/im...   \n",
       "954  [{'id': 453, 'hero': 'https://pe.tedcdn.com/im...   \n",
       "\n",
       "         speaker_occupation  \\\n",
       "744                 Senator   \n",
       "803  Voting system designer   \n",
       "96   Evolutionary biologist   \n",
       "694               Filmmaker   \n",
       "954                  Artist   \n",
       "\n",
       "                                                  tags  \\\n",
       "744  ['God', 'LGBT', 'culture', 'government', 'law'...   \n",
       "803  ['culture', 'democracy', 'design', 'global iss...   \n",
       "96   ['God', 'atheism', 'culture', 'religion', 'sci...   \n",
       "694  ['TED Fellows', 'children', 'culture', 'film',...   \n",
       "954  ['art', 'cities', 'culture', 'data', 'design',...   \n",
       "\n",
       "                                   title  \\\n",
       "744       The case for same-sex marriage   \n",
       "803               E-voting without fraud   \n",
       "96                      Militant atheism   \n",
       "694  Inside a school for suicide bombers   \n",
       "954         Taking imagination seriously   \n",
       "\n",
       "                                                   url    views  \\\n",
       "744  https://www.ted.com/talks/diane_j_savino_the_c...   292395   \n",
       "803  https://www.ted.com/talks/david_bismark_e_voti...   543551   \n",
       "96   https://www.ted.com/talks/richard_dawkins_on_m...  4374792   \n",
       "694  https://www.ted.com/talks/sharmeen_obaid_chino...  1057238   \n",
       "954         https://www.ted.com/talks/janet_echelman\\n  1832930   \n",
       "\n",
       "     comments_per_view  \n",
       "744           0.002220  \n",
       "803           0.001534  \n",
       "96            0.001464  \n",
       "694           0.001421  \n",
       "954           0.001360  "
      ]
     },
     "execution_count": 306,
     "metadata": {},
     "output_type": "execute_result"
    }
   ],
   "source": [
    "df.sort_values('comments_per_view', ascending=False).head()"
   ]
  },
  {
   "cell_type": "code",
   "execution_count": 307,
   "metadata": {},
   "outputs": [
    {
     "data": {
      "text/html": [
       "<div>\n",
       "<style scoped>\n",
       "    .dataframe tbody tr th:only-of-type {\n",
       "        vertical-align: middle;\n",
       "    }\n",
       "\n",
       "    .dataframe tbody tr th {\n",
       "        vertical-align: top;\n",
       "    }\n",
       "\n",
       "    .dataframe thead th {\n",
       "        text-align: right;\n",
       "    }\n",
       "</style>\n",
       "<table border=\"1\" class=\"dataframe\">\n",
       "  <thead>\n",
       "    <tr style=\"text-align: right;\">\n",
       "      <th></th>\n",
       "      <th>title</th>\n",
       "      <th>comments</th>\n",
       "      <th>views</th>\n",
       "      <th>comments_per_view</th>\n",
       "    </tr>\n",
       "  </thead>\n",
       "  <tbody>\n",
       "    <tr>\n",
       "      <th>744</th>\n",
       "      <td>The case for same-sex marriage</td>\n",
       "      <td>649</td>\n",
       "      <td>292395</td>\n",
       "      <td>0.002220</td>\n",
       "    </tr>\n",
       "    <tr>\n",
       "      <th>803</th>\n",
       "      <td>E-voting without fraud</td>\n",
       "      <td>834</td>\n",
       "      <td>543551</td>\n",
       "      <td>0.001534</td>\n",
       "    </tr>\n",
       "    <tr>\n",
       "      <th>96</th>\n",
       "      <td>Militant atheism</td>\n",
       "      <td>6404</td>\n",
       "      <td>4374792</td>\n",
       "      <td>0.001464</td>\n",
       "    </tr>\n",
       "    <tr>\n",
       "      <th>694</th>\n",
       "      <td>Inside a school for suicide bombers</td>\n",
       "      <td>1502</td>\n",
       "      <td>1057238</td>\n",
       "      <td>0.001421</td>\n",
       "    </tr>\n",
       "    <tr>\n",
       "      <th>954</th>\n",
       "      <td>Taking imagination seriously</td>\n",
       "      <td>2492</td>\n",
       "      <td>1832930</td>\n",
       "      <td>0.001360</td>\n",
       "    </tr>\n",
       "    <tr>\n",
       "      <th>840</th>\n",
       "      <td>On reading the Koran</td>\n",
       "      <td>2374</td>\n",
       "      <td>1847256</td>\n",
       "      <td>0.001285</td>\n",
       "    </tr>\n",
       "    <tr>\n",
       "      <th>876</th>\n",
       "      <td>Curating humanity's heritage</td>\n",
       "      <td>555</td>\n",
       "      <td>439180</td>\n",
       "      <td>0.001264</td>\n",
       "    </tr>\n",
       "    <tr>\n",
       "      <th>1787</th>\n",
       "      <td>How do you explain consciousness?</td>\n",
       "      <td>2673</td>\n",
       "      <td>2162764</td>\n",
       "      <td>0.001236</td>\n",
       "    </tr>\n",
       "    <tr>\n",
       "      <th>661</th>\n",
       "      <td>The danger of science denial</td>\n",
       "      <td>2272</td>\n",
       "      <td>1838628</td>\n",
       "      <td>0.001236</td>\n",
       "    </tr>\n",
       "    <tr>\n",
       "      <th>561</th>\n",
       "      <td>Dance to change the world</td>\n",
       "      <td>595</td>\n",
       "      <td>481834</td>\n",
       "      <td>0.001235</td>\n",
       "    </tr>\n",
       "  </tbody>\n",
       "</table>\n",
       "</div>"
      ],
      "text/plain": [
       "                                    title  comments    views  \\\n",
       "744        The case for same-sex marriage       649   292395   \n",
       "803                E-voting without fraud       834   543551   \n",
       "96                       Militant atheism      6404  4374792   \n",
       "694   Inside a school for suicide bombers      1502  1057238   \n",
       "954          Taking imagination seriously      2492  1832930   \n",
       "840                  On reading the Koran      2374  1847256   \n",
       "876          Curating humanity's heritage       555   439180   \n",
       "1787    How do you explain consciousness?      2673  2162764   \n",
       "661          The danger of science denial      2272  1838628   \n",
       "561             Dance to change the world       595   481834   \n",
       "\n",
       "      comments_per_view  \n",
       "744            0.002220  \n",
       "803            0.001534  \n",
       "96             0.001464  \n",
       "694            0.001421  \n",
       "954            0.001360  \n",
       "840            0.001285  \n",
       "876            0.001264  \n",
       "1787           0.001236  \n",
       "661            0.001236  \n",
       "561            0.001235  "
      ]
     },
     "execution_count": 307,
     "metadata": {},
     "output_type": "execute_result"
    }
   ],
   "source": [
    "df.sort_values('comments_per_view', ascending=False)\\\n",
    "    [['title', 'comments', 'views', 'comments_per_view']].head(10)"
   ]
  },
  {
   "cell_type": "code",
   "execution_count": 308,
   "metadata": {},
   "outputs": [],
   "source": [
    "# Make it more interperetable by inverting the calculation.\n",
    "df['views_per_comment'] = df.views / df.comments"
   ]
  },
  {
   "cell_type": "code",
   "execution_count": 309,
   "metadata": {},
   "outputs": [
    {
     "data": {
      "text/html": [
       "<div>\n",
       "<style scoped>\n",
       "    .dataframe tbody tr th:only-of-type {\n",
       "        vertical-align: middle;\n",
       "    }\n",
       "\n",
       "    .dataframe tbody tr th {\n",
       "        vertical-align: top;\n",
       "    }\n",
       "\n",
       "    .dataframe thead th {\n",
       "        text-align: right;\n",
       "    }\n",
       "</style>\n",
       "<table border=\"1\" class=\"dataframe\">\n",
       "  <thead>\n",
       "    <tr style=\"text-align: right;\">\n",
       "      <th></th>\n",
       "      <th>comments</th>\n",
       "      <th>description</th>\n",
       "      <th>duration</th>\n",
       "      <th>event</th>\n",
       "      <th>film_date</th>\n",
       "      <th>languages</th>\n",
       "      <th>main_speaker</th>\n",
       "      <th>name</th>\n",
       "      <th>num_speaker</th>\n",
       "      <th>published_date</th>\n",
       "      <th>ratings</th>\n",
       "      <th>related_talks</th>\n",
       "      <th>speaker_occupation</th>\n",
       "      <th>tags</th>\n",
       "      <th>title</th>\n",
       "      <th>url</th>\n",
       "      <th>views</th>\n",
       "      <th>comments_per_view</th>\n",
       "      <th>views_per_comment</th>\n",
       "    </tr>\n",
       "  </thead>\n",
       "  <tbody>\n",
       "    <tr>\n",
       "      <th>2534</th>\n",
       "      <td>2</td>\n",
       "      <td>What the astronauts felt when they saw Earth f...</td>\n",
       "      <td>725</td>\n",
       "      <td>TEDxSkoll</td>\n",
       "      <td>1491523200</td>\n",
       "      <td>1</td>\n",
       "      <td>Benjamin Grant</td>\n",
       "      <td>Benjamin Grant: What it feels like to see Eart...</td>\n",
       "      <td>1</td>\n",
       "      <td>1504814438</td>\n",
       "      <td>[{'id': 10, 'name': 'Inspiring', 'count': 46},...</td>\n",
       "      <td>[{'id': 2511, 'hero': 'https://pe.tedcdn.com/i...</td>\n",
       "      <td>Author</td>\n",
       "      <td>['TEDx', 'art', 'climate change', 'environment...</td>\n",
       "      <td>What it feels like to see Earth from space</td>\n",
       "      <td>https://www.ted.com/talks/benjamin_grant_what_...</td>\n",
       "      <td>646174</td>\n",
       "      <td>0.000003</td>\n",
       "      <td>323087.000000</td>\n",
       "    </tr>\n",
       "    <tr>\n",
       "      <th>2501</th>\n",
       "      <td>3</td>\n",
       "      <td>Meet Françoise Mouly, The New Yorker's art dir...</td>\n",
       "      <td>509</td>\n",
       "      <td>TEDNYC</td>\n",
       "      <td>1488931200</td>\n",
       "      <td>12</td>\n",
       "      <td>Françoise Mouly</td>\n",
       "      <td>Françoise Mouly: The stories behind The New Yo...</td>\n",
       "      <td>1</td>\n",
       "      <td>1501770244</td>\n",
       "      <td>[{'id': 7, 'name': 'Funny', 'count': 10}, {'id...</td>\n",
       "      <td>[{'id': 2479, 'hero': 'https://pe.tedcdn.com/i...</td>\n",
       "      <td>Art editor</td>\n",
       "      <td>['TEDNYC', 'art', 'creativity', 'culture', 'de...</td>\n",
       "      <td>The stories behind The New Yorker's iconic covers</td>\n",
       "      <td>https://www.ted.com/talks/francoise_mouly_the_...</td>\n",
       "      <td>839040</td>\n",
       "      <td>0.000004</td>\n",
       "      <td>279680.000000</td>\n",
       "    </tr>\n",
       "    <tr>\n",
       "      <th>2542</th>\n",
       "      <td>3</td>\n",
       "      <td>In the century-old statues that occupy Cape To...</td>\n",
       "      <td>795</td>\n",
       "      <td>TEDGlobal 2017</td>\n",
       "      <td>1503792000</td>\n",
       "      <td>1</td>\n",
       "      <td>Sethembile Msezane</td>\n",
       "      <td>Sethembile Msezane: Living sculptures that sta...</td>\n",
       "      <td>1</td>\n",
       "      <td>1505488093</td>\n",
       "      <td>[{'id': 1, 'name': 'Beautiful', 'count': 41}, ...</td>\n",
       "      <td>[{'id': 2873, 'hero': 'https://pe.tedcdn.com/i...</td>\n",
       "      <td>Artist</td>\n",
       "      <td>['Africa', 'activism', 'art', 'community', 'hi...</td>\n",
       "      <td>Living sculptures that stand for history's truths</td>\n",
       "      <td>https://www.ted.com/talks/sethembile_msezane_l...</td>\n",
       "      <td>542088</td>\n",
       "      <td>0.000006</td>\n",
       "      <td>180696.000000</td>\n",
       "    </tr>\n",
       "    <tr>\n",
       "      <th>2528</th>\n",
       "      <td>3</td>\n",
       "      <td>Digital archaeologist Chance Coughenour is usi...</td>\n",
       "      <td>717</td>\n",
       "      <td>TEDxHamburg</td>\n",
       "      <td>1465344000</td>\n",
       "      <td>5</td>\n",
       "      <td>Chance Coughenour</td>\n",
       "      <td>Chance Coughenour: How your pictures can help ...</td>\n",
       "      <td>1</td>\n",
       "      <td>1504209631</td>\n",
       "      <td>[{'id': 9, 'name': 'Ingenious', 'count': 16}, ...</td>\n",
       "      <td>[{'id': 2673, 'hero': 'https://pe.tedcdn.com/i...</td>\n",
       "      <td>Digital archaeologist</td>\n",
       "      <td>['TEDx', 'ancient world', 'archaeology', 'cons...</td>\n",
       "      <td>How your pictures can help reclaim lost history</td>\n",
       "      <td>https://www.ted.com/talks/chance_coughenour_ho...</td>\n",
       "      <td>539207</td>\n",
       "      <td>0.000006</td>\n",
       "      <td>179735.666667</td>\n",
       "    </tr>\n",
       "    <tr>\n",
       "      <th>2494</th>\n",
       "      <td>7</td>\n",
       "      <td>Jimmy Lin is developing technologies to catch ...</td>\n",
       "      <td>730</td>\n",
       "      <td>TED2017</td>\n",
       "      <td>1492992000</td>\n",
       "      <td>10</td>\n",
       "      <td>Jimmy Lin</td>\n",
       "      <td>Jimmy Lin: A simple new blood test that can ca...</td>\n",
       "      <td>1</td>\n",
       "      <td>1500994384</td>\n",
       "      <td>[{'id': 1, 'name': 'Beautiful', 'count': 7}, {...</td>\n",
       "      <td>[{'id': 2498, 'hero': 'https://pe.tedcdn.com/i...</td>\n",
       "      <td>Geneticist</td>\n",
       "      <td>['DNA', 'TED Fellows', 'biology', 'cancer', 'd...</td>\n",
       "      <td>A simple new blood test that can catch cancer ...</td>\n",
       "      <td>https://www.ted.com/talks/jimmy_lin_a_simple_n...</td>\n",
       "      <td>1005506</td>\n",
       "      <td>0.000007</td>\n",
       "      <td>143643.714286</td>\n",
       "    </tr>\n",
       "  </tbody>\n",
       "</table>\n",
       "</div>"
      ],
      "text/plain": [
       "      comments                                        description  duration  \\\n",
       "2534         2  What the astronauts felt when they saw Earth f...       725   \n",
       "2501         3  Meet Françoise Mouly, The New Yorker's art dir...       509   \n",
       "2542         3  In the century-old statues that occupy Cape To...       795   \n",
       "2528         3  Digital archaeologist Chance Coughenour is usi...       717   \n",
       "2494         7  Jimmy Lin is developing technologies to catch ...       730   \n",
       "\n",
       "               event   film_date  languages        main_speaker  \\\n",
       "2534       TEDxSkoll  1491523200          1      Benjamin Grant   \n",
       "2501          TEDNYC  1488931200         12     Françoise Mouly   \n",
       "2542  TEDGlobal 2017  1503792000          1  Sethembile Msezane   \n",
       "2528     TEDxHamburg  1465344000          5   Chance Coughenour   \n",
       "2494         TED2017  1492992000         10           Jimmy Lin   \n",
       "\n",
       "                                                   name  num_speaker  \\\n",
       "2534  Benjamin Grant: What it feels like to see Eart...            1   \n",
       "2501  Françoise Mouly: The stories behind The New Yo...            1   \n",
       "2542  Sethembile Msezane: Living sculptures that sta...            1   \n",
       "2528  Chance Coughenour: How your pictures can help ...            1   \n",
       "2494  Jimmy Lin: A simple new blood test that can ca...            1   \n",
       "\n",
       "      published_date                                            ratings  \\\n",
       "2534      1504814438  [{'id': 10, 'name': 'Inspiring', 'count': 46},...   \n",
       "2501      1501770244  [{'id': 7, 'name': 'Funny', 'count': 10}, {'id...   \n",
       "2542      1505488093  [{'id': 1, 'name': 'Beautiful', 'count': 41}, ...   \n",
       "2528      1504209631  [{'id': 9, 'name': 'Ingenious', 'count': 16}, ...   \n",
       "2494      1500994384  [{'id': 1, 'name': 'Beautiful', 'count': 7}, {...   \n",
       "\n",
       "                                          related_talks  \\\n",
       "2534  [{'id': 2511, 'hero': 'https://pe.tedcdn.com/i...   \n",
       "2501  [{'id': 2479, 'hero': 'https://pe.tedcdn.com/i...   \n",
       "2542  [{'id': 2873, 'hero': 'https://pe.tedcdn.com/i...   \n",
       "2528  [{'id': 2673, 'hero': 'https://pe.tedcdn.com/i...   \n",
       "2494  [{'id': 2498, 'hero': 'https://pe.tedcdn.com/i...   \n",
       "\n",
       "         speaker_occupation  \\\n",
       "2534                 Author   \n",
       "2501             Art editor   \n",
       "2542                 Artist   \n",
       "2528  Digital archaeologist   \n",
       "2494             Geneticist   \n",
       "\n",
       "                                                   tags  \\\n",
       "2534  ['TEDx', 'art', 'climate change', 'environment...   \n",
       "2501  ['TEDNYC', 'art', 'creativity', 'culture', 'de...   \n",
       "2542  ['Africa', 'activism', 'art', 'community', 'hi...   \n",
       "2528  ['TEDx', 'ancient world', 'archaeology', 'cons...   \n",
       "2494  ['DNA', 'TED Fellows', 'biology', 'cancer', 'd...   \n",
       "\n",
       "                                                  title  \\\n",
       "2534         What it feels like to see Earth from space   \n",
       "2501  The stories behind The New Yorker's iconic covers   \n",
       "2542  Living sculptures that stand for history's truths   \n",
       "2528    How your pictures can help reclaim lost history   \n",
       "2494  A simple new blood test that can catch cancer ...   \n",
       "\n",
       "                                                    url    views  \\\n",
       "2534  https://www.ted.com/talks/benjamin_grant_what_...   646174   \n",
       "2501  https://www.ted.com/talks/francoise_mouly_the_...   839040   \n",
       "2542  https://www.ted.com/talks/sethembile_msezane_l...   542088   \n",
       "2528  https://www.ted.com/talks/chance_coughenour_ho...   539207   \n",
       "2494  https://www.ted.com/talks/jimmy_lin_a_simple_n...  1005506   \n",
       "\n",
       "      comments_per_view  views_per_comment  \n",
       "2534           0.000003      323087.000000  \n",
       "2501           0.000004      279680.000000  \n",
       "2542           0.000006      180696.000000  \n",
       "2528           0.000006      179735.666667  \n",
       "2494           0.000007      143643.714286  "
      ]
     },
     "execution_count": 309,
     "metadata": {},
     "output_type": "execute_result"
    }
   ],
   "source": [
    "df.sort_values('views_per_comment', ascending=False).head()"
   ]
  },
  {
   "cell_type": "code",
   "execution_count": 310,
   "metadata": {},
   "outputs": [
    {
     "data": {
      "text/html": [
       "<div>\n",
       "<style scoped>\n",
       "    .dataframe tbody tr th:only-of-type {\n",
       "        vertical-align: middle;\n",
       "    }\n",
       "\n",
       "    .dataframe tbody tr th {\n",
       "        vertical-align: top;\n",
       "    }\n",
       "\n",
       "    .dataframe thead th {\n",
       "        text-align: right;\n",
       "    }\n",
       "</style>\n",
       "<table border=\"1\" class=\"dataframe\">\n",
       "  <thead>\n",
       "    <tr style=\"text-align: right;\">\n",
       "      <th></th>\n",
       "      <th>title</th>\n",
       "      <th>comments</th>\n",
       "      <th>views</th>\n",
       "      <th>views_per_comment</th>\n",
       "    </tr>\n",
       "  </thead>\n",
       "  <tbody>\n",
       "    <tr>\n",
       "      <th>2534</th>\n",
       "      <td>What it feels like to see Earth from space</td>\n",
       "      <td>2</td>\n",
       "      <td>646174</td>\n",
       "      <td>323087.000000</td>\n",
       "    </tr>\n",
       "    <tr>\n",
       "      <th>2501</th>\n",
       "      <td>The stories behind The New Yorker's iconic covers</td>\n",
       "      <td>3</td>\n",
       "      <td>839040</td>\n",
       "      <td>279680.000000</td>\n",
       "    </tr>\n",
       "    <tr>\n",
       "      <th>2542</th>\n",
       "      <td>Living sculptures that stand for history's truths</td>\n",
       "      <td>3</td>\n",
       "      <td>542088</td>\n",
       "      <td>180696.000000</td>\n",
       "    </tr>\n",
       "    <tr>\n",
       "      <th>2528</th>\n",
       "      <td>How your pictures can help reclaim lost history</td>\n",
       "      <td>3</td>\n",
       "      <td>539207</td>\n",
       "      <td>179735.666667</td>\n",
       "    </tr>\n",
       "    <tr>\n",
       "      <th>2494</th>\n",
       "      <td>A simple new blood test that can catch cancer ...</td>\n",
       "      <td>7</td>\n",
       "      <td>1005506</td>\n",
       "      <td>143643.714286</td>\n",
       "    </tr>\n",
       "    <tr>\n",
       "      <th>2313</th>\n",
       "      <td>\"St. James Infirmary Blues\"</td>\n",
       "      <td>6</td>\n",
       "      <td>820295</td>\n",
       "      <td>136715.833333</td>\n",
       "    </tr>\n",
       "    <tr>\n",
       "      <th>2114</th>\n",
       "      <td>This is what happens when you reply to spam email</td>\n",
       "      <td>150</td>\n",
       "      <td>20475972</td>\n",
       "      <td>136506.480000</td>\n",
       "    </tr>\n",
       "    <tr>\n",
       "      <th>2407</th>\n",
       "      <td>\"Turceasca\"</td>\n",
       "      <td>5</td>\n",
       "      <td>640734</td>\n",
       "      <td>128146.800000</td>\n",
       "    </tr>\n",
       "    <tr>\n",
       "      <th>2392</th>\n",
       "      <td>Smelfies, and other experiments in synthetic b...</td>\n",
       "      <td>6</td>\n",
       "      <td>760537</td>\n",
       "      <td>126756.166667</td>\n",
       "    </tr>\n",
       "    <tr>\n",
       "      <th>2273</th>\n",
       "      <td>The agony of trying to unsubscribe</td>\n",
       "      <td>46</td>\n",
       "      <td>5711833</td>\n",
       "      <td>124170.282609</td>\n",
       "    </tr>\n",
       "  </tbody>\n",
       "</table>\n",
       "</div>"
      ],
      "text/plain": [
       "                                                  title  comments     views  \\\n",
       "2534         What it feels like to see Earth from space         2    646174   \n",
       "2501  The stories behind The New Yorker's iconic covers         3    839040   \n",
       "2542  Living sculptures that stand for history's truths         3    542088   \n",
       "2528    How your pictures can help reclaim lost history         3    539207   \n",
       "2494  A simple new blood test that can catch cancer ...         7   1005506   \n",
       "2313                        \"St. James Infirmary Blues\"         6    820295   \n",
       "2114  This is what happens when you reply to spam email       150  20475972   \n",
       "2407                                        \"Turceasca\"         5    640734   \n",
       "2392  Smelfies, and other experiments in synthetic b...         6    760537   \n",
       "2273                 The agony of trying to unsubscribe        46   5711833   \n",
       "\n",
       "      views_per_comment  \n",
       "2534      323087.000000  \n",
       "2501      279680.000000  \n",
       "2542      180696.000000  \n",
       "2528      179735.666667  \n",
       "2494      143643.714286  \n",
       "2313      136715.833333  \n",
       "2114      136506.480000  \n",
       "2407      128146.800000  \n",
       "2392      126756.166667  \n",
       "2273      124170.282609  "
      ]
     },
     "execution_count": 310,
     "metadata": {},
     "output_type": "execute_result"
    }
   ],
   "source": [
    "df.sort_values('views_per_comment', ascending=False)\\\n",
    "    [['title', 'comments', 'views', 'views_per_comment']]\\\n",
    "        .head(10)"
   ]
  },
  {
   "attachments": {},
   "cell_type": "markdown",
   "metadata": {},
   "source": [
    "[BACK TO TOP][def]\n",
    "\n",
    "[def]: #-TED-Talks-Dataset-Exploration"
   ]
  },
  {
   "attachments": {},
   "cell_type": "markdown",
   "metadata": {},
   "source": [
    "## 3.Visualize the distribution of comments."
   ]
  },
  {
   "attachments": {},
   "cell_type": "markdown",
   "metadata": {},
   "source": [
    "- `Line plots`: \n",
    "    - Best used to visualize trends in data over time or across a continuous variable. \n",
    "    - Work by plotting the value of the variable on the y-axis and the corresponding time or other continuous variable on the x-axis, resulting in a line that connects the data points. \n",
    "    - Are particularly useful for identifying patterns such as trends, seasonal variations, and cyclical fluctuations."
   ]
  },
  {
   "cell_type": "code",
   "execution_count": 311,
   "metadata": {},
   "outputs": [
    {
     "data": {
      "text/plain": [
       "<AxesSubplot:>"
      ]
     },
     "execution_count": 311,
     "metadata": {},
     "output_type": "execute_result"
    },
    {
     "data": {
      "image/png": "[encoded data removed]",
      "text/plain": [
       "<Figure size 432x288 with 1 Axes>"
      ]
     },
     "metadata": {
      "needs_background": "light"
     },
     "output_type": "display_data"
    }
   ],
   "source": [
    "# line plot would not work for this purpose\n",
    "df.comments.plot()"
   ]
  },
  {
   "attachments": {},
   "cell_type": "markdown",
   "metadata": {},
   "source": [
    "- `Histograms`: \n",
    "    - Best used to visualize the distribution of a single variable, particularly when the variable is continuous or can be grouped into intervals. \n",
    "    - Work by dividing the range of the variable into a set of bins and counting the number of observations that fall into each bin. The resulting chart shows the frequency of values in each bin, allowing you to quickly see the shape and spread of the data. \n",
    "    - Are particularly useful for identifying patterns in the data such as skewness, multimodality, and outliers."
   ]
  },
  {
   "cell_type": "code",
   "execution_count": 312,
   "metadata": {},
   "outputs": [
    {
     "data": {
      "text/plain": [
       "<AxesSubplot:ylabel='Frequency'>"
      ]
     },
     "execution_count": 312,
     "metadata": {},
     "output_type": "execute_result"
    },
    {
     "data": {
      "image/png": "[encoded data removed]",
      "text/plain": [
       "<Figure size 432x288 with 1 Axes>"
      ]
     },
     "metadata": {
      "needs_background": "light"
     },
     "output_type": "display_data"
    }
   ],
   "source": [
    "df.comments.plot(kind='hist')"
   ]
  },
  {
   "cell_type": "code",
   "execution_count": 313,
   "metadata": {},
   "outputs": [
    {
     "data": {
      "text/plain": [
       "<AxesSubplot:ylabel='Frequency'>"
      ]
     },
     "execution_count": 313,
     "metadata": {},
     "output_type": "execute_result"
    },
    {
     "data": {
      "image/png": "[encoded data removed]",
      "text/plain": [
       "<Figure size 432x288 with 1 Axes>"
      ]
     },
     "metadata": {
      "needs_background": "light"
     },
     "output_type": "display_data"
    }
   ],
   "source": [
    "# Filter the comments to make the plot more informative.\n",
    "df.query('comments <1000').comments.plot(kind='hist')"
   ]
  },
  {
   "cell_type": "code",
   "execution_count": 314,
   "metadata": {},
   "outputs": [
    {
     "data": {
      "text/plain": [
       "<AxesSubplot:ylabel='Frequency'>"
      ]
     },
     "execution_count": 314,
     "metadata": {},
     "output_type": "execute_result"
    },
    {
     "data": {
      "image/png": "[encoded data removed]",
      "text/plain": [
       "<Figure size 432x288 with 1 Axes>"
      ]
     },
     "metadata": {
      "needs_background": "light"
     },
     "output_type": "display_data"
    }
   ],
   "source": [
    "# alternative filtering method using loc accessor\n",
    "df.loc[df.comments < 1000, 'comments'].plot(kind='hist')"
   ]
  },
  {
   "cell_type": "code",
   "execution_count": 315,
   "metadata": {},
   "outputs": [
    {
     "data": {
      "text/plain": [
       "<AxesSubplot:ylabel='Frequency'>"
      ]
     },
     "execution_count": 315,
     "metadata": {},
     "output_type": "execute_result"
    },
    {
     "data": {
      "image/png": "[encoded data removed]",
      "text/plain": [
       "<Figure size 432x288 with 1 Axes>"
      ]
     },
     "metadata": {
      "needs_background": "light"
     },
     "output_type": "display_data"
    }
   ],
   "source": [
    "# alternative filtering method\n",
    "df[df.comments < 1000]['comments'].plot(kind='hist')"
   ]
  },
  {
   "cell_type": "code",
   "execution_count": 316,
   "metadata": {},
   "outputs": [
    {
     "data": {
      "text/plain": [
       "(32, 19)"
      ]
     },
     "execution_count": 316,
     "metadata": {},
     "output_type": "execute_result"
    }
   ],
   "source": [
    "# Increase the number of bins to see more details\n",
    "df.query('comments >= 1000').shape"
   ]
  },
  {
   "cell_type": "code",
   "execution_count": 317,
   "metadata": {},
   "outputs": [
    {
     "data": {
      "text/plain": [
       "<AxesSubplot:ylabel='Frequency'>"
      ]
     },
     "execution_count": 317,
     "metadata": {},
     "output_type": "execute_result"
    },
    {
     "data": {
      "image/png": "[encoded data removed]",
      "text/plain": [
       "<Figure size 432x288 with 1 Axes>"
      ]
     },
     "metadata": {
      "needs_background": "light"
     },
     "output_type": "display_data"
    }
   ],
   "source": [
    "# Increase the number of bins to see more details\n",
    "df.query('comments < 1000').comments.plot(kind='hist',\n",
    "                                          bins=20)"
   ]
  },
  {
   "attachments": {},
   "cell_type": "markdown",
   "metadata": {},
   "source": [
    "[BACK TO TOP][def]\n",
    "\n",
    "[def]: #-TED-Talks-Dataset-Exploration"
   ]
  },
  {
   "attachments": {},
   "cell_type": "markdown",
   "metadata": {},
   "source": [
    "## 4.Plot the number of talks that took place each year."
   ]
  },
  {
   "cell_type": "code",
   "execution_count": 318,
   "metadata": {},
   "outputs": [
    {
     "data": {
      "text/plain": [
       "45              TED2005\n",
       "569             EG 2008\n",
       "657         TEDMED 2009\n",
       "2022    TEDGlobalLondon\n",
       "475             TED2009\n",
       "117             TED2007\n",
       "1041     TEDGlobal 2011\n",
       "1124     TEDxWomen 2011\n",
       "409             TED2009\n",
       "2345        TEDxNewYork\n",
       "Name: event, dtype: object"
      ]
     },
     "execution_count": 318,
     "metadata": {},
     "output_type": "execute_result"
    }
   ],
   "source": [
    "# event column does not have consistent values for years.\n",
    "df.event.sample(10)"
   ]
  },
  {
   "cell_type": "code",
   "execution_count": 319,
   "metadata": {},
   "outputs": [
    {
     "data": {
      "text/plain": [
       "<bound method NDFrame.sample of 0       1140825600\n",
       "1       1140825600\n",
       "2       1140739200\n",
       "3       1140912000\n",
       "4       1140566400\n",
       "           ...    \n",
       "2545    1496707200\n",
       "2546    1492992000\n",
       "2547    1492992000\n",
       "2548    1499472000\n",
       "2549    1492992000\n",
       "Name: film_date, Length: 2550, dtype: int64>"
      ]
     },
     "execution_count": 319,
     "metadata": {},
     "output_type": "execute_result"
    }
   ],
   "source": [
    "# film_date column displays the Unix timestamp of the filming.\n",
    "df.film_date.sample"
   ]
  },
  {
   "cell_type": "code",
   "execution_count": 320,
   "metadata": {},
   "outputs": [
    {
     "data": {
      "text/plain": [
       "0   1970-01-01 00:00:01.140825600\n",
       "1   1970-01-01 00:00:01.140825600\n",
       "2   1970-01-01 00:00:01.140739200\n",
       "3   1970-01-01 00:00:01.140912000\n",
       "4   1970-01-01 00:00:01.140566400\n",
       "Name: film_date, dtype: datetime64[ns]"
      ]
     },
     "execution_count": 320,
     "metadata": {},
     "output_type": "execute_result"
    }
   ],
   "source": [
    "# making the Unix timestamp more human readable with to_datetime() method\n",
    "pd.to_datetime(df.film_date).head()"
   ]
  },
  {
   "cell_type": "code",
   "execution_count": 321,
   "metadata": {},
   "outputs": [
    {
     "data": {
      "text/plain": [
       "0   2006-02-25\n",
       "1   2006-02-25\n",
       "2   2006-02-24\n",
       "3   2006-02-26\n",
       "4   2006-02-22\n",
       "Name: film_date, dtype: datetime64[ns]"
      ]
     },
     "execution_count": 321,
     "metadata": {},
     "output_type": "execute_result"
    }
   ],
   "source": [
    "# Need to specify unit as 's' or 'ns'\n",
    "pd.to_datetime(df.film_date, unit='s').head()"
   ]
  },
  {
   "cell_type": "code",
   "execution_count": 322,
   "metadata": {},
   "outputs": [],
   "source": [
    "# save the results as 'film_datetime'\n",
    "df['film_datetime'] = pd.to_datetime(df.film_date, unit='s')"
   ]
  },
  {
   "cell_type": "code",
   "execution_count": 323,
   "metadata": {},
   "outputs": [
    {
     "data": {
      "text/html": [
       "<div>\n",
       "<style scoped>\n",
       "    .dataframe tbody tr th:only-of-type {\n",
       "        vertical-align: middle;\n",
       "    }\n",
       "\n",
       "    .dataframe tbody tr th {\n",
       "        vertical-align: top;\n",
       "    }\n",
       "\n",
       "    .dataframe thead th {\n",
       "        text-align: right;\n",
       "    }\n",
       "</style>\n",
       "<table border=\"1\" class=\"dataframe\">\n",
       "  <thead>\n",
       "    <tr style=\"text-align: right;\">\n",
       "      <th></th>\n",
       "      <th>title</th>\n",
       "      <th>film_datetime</th>\n",
       "      <th>event</th>\n",
       "    </tr>\n",
       "  </thead>\n",
       "  <tbody>\n",
       "    <tr>\n",
       "      <th>102</th>\n",
       "      <td>\"Black Men Ski\"</td>\n",
       "      <td>2006-03-03</td>\n",
       "      <td>TED2006</td>\n",
       "    </tr>\n",
       "    <tr>\n",
       "      <th>1193</th>\n",
       "      <td>The secret life of plankton</td>\n",
       "      <td>2012-04-02</td>\n",
       "      <td>TED-Ed</td>\n",
       "    </tr>\n",
       "    <tr>\n",
       "      <th>539</th>\n",
       "      <td>Animating a photo-real digital face</td>\n",
       "      <td>2009-03-23</td>\n",
       "      <td>TEDxUSC</td>\n",
       "    </tr>\n",
       "    <tr>\n",
       "      <th>1781</th>\n",
       "      <td>Why I love a country that once betrayed me</td>\n",
       "      <td>2014-06-04</td>\n",
       "      <td>TEDxKyoto</td>\n",
       "    </tr>\n",
       "    <tr>\n",
       "      <th>789</th>\n",
       "      <td>The art of the eco-mindshift</td>\n",
       "      <td>2009-10-09</td>\n",
       "      <td>Business Innovation Factory</td>\n",
       "    </tr>\n",
       "    <tr>\n",
       "      <th>1067</th>\n",
       "      <td>How games make kids smarter</td>\n",
       "      <td>2011-06-01</td>\n",
       "      <td>TEDxKids@Brussels</td>\n",
       "    </tr>\n",
       "    <tr>\n",
       "      <th>2090</th>\n",
       "      <td>Why are these 32 symbols found in ancient cave...</td>\n",
       "      <td>2015-08-26</td>\n",
       "      <td>TED Fellows Retreat 2015</td>\n",
       "    </tr>\n",
       "    <tr>\n",
       "      <th>2106</th>\n",
       "      <td>Refugees have the right to be protected</td>\n",
       "      <td>2015-12-08</td>\n",
       "      <td>TEDGlobal&gt;Geneva</td>\n",
       "    </tr>\n",
       "    <tr>\n",
       "      <th>1814</th>\n",
       "      <td>An engineer's vision for tiny forests, everywhere</td>\n",
       "      <td>2014-03-16</td>\n",
       "      <td>TED2014</td>\n",
       "    </tr>\n",
       "    <tr>\n",
       "      <th>1850</th>\n",
       "      <td>How I defend the rule of law</td>\n",
       "      <td>2014-10-10</td>\n",
       "      <td>TEDGlobal 2014</td>\n",
       "    </tr>\n",
       "  </tbody>\n",
       "</table>\n",
       "</div>"
      ],
      "text/plain": [
       "                                                  title film_datetime  \\\n",
       "102                                     \"Black Men Ski\"    2006-03-03   \n",
       "1193                        The secret life of plankton    2012-04-02   \n",
       "539                 Animating a photo-real digital face    2009-03-23   \n",
       "1781         Why I love a country that once betrayed me    2014-06-04   \n",
       "789                        The art of the eco-mindshift    2009-10-09   \n",
       "1067                        How games make kids smarter    2011-06-01   \n",
       "2090  Why are these 32 symbols found in ancient cave...    2015-08-26   \n",
       "2106            Refugees have the right to be protected    2015-12-08   \n",
       "1814  An engineer's vision for tiny forests, everywhere    2014-03-16   \n",
       "1850                       How I defend the rule of law    2014-10-10   \n",
       "\n",
       "                            event  \n",
       "102                       TED2006  \n",
       "1193                       TED-Ed  \n",
       "539                       TEDxUSC  \n",
       "1781                    TEDxKyoto  \n",
       "789   Business Innovation Factory  \n",
       "1067            TEDxKids@Brussels  \n",
       "2090     TED Fellows Retreat 2015  \n",
       "2106             TEDGlobal>Geneva  \n",
       "1814                      TED2014  \n",
       "1850               TEDGlobal 2014  "
      ]
     },
     "execution_count": 323,
     "metadata": {},
     "output_type": "execute_result"
    }
   ],
   "source": [
    "df[['title', 'film_datetime', 'event']].sample(10)"
   ]
  },
  {
   "cell_type": "code",
   "execution_count": 324,
   "metadata": {},
   "outputs": [
    {
     "data": {
      "text/plain": [
       "2013    270\n",
       "2011    270\n",
       "2010    267\n",
       "2012    267\n",
       "2016    246\n",
       "2015    239\n",
       "2014    237\n",
       "2009    232\n",
       "2007    114\n",
       "2017     98\n",
       "Name: film_datetime, dtype: int64"
      ]
     },
     "execution_count": 324,
     "metadata": {},
     "output_type": "execute_result"
    }
   ],
   "source": [
    "# get the number of talks that took place each year\n",
    "df.film_datetime.dt.year.value_counts().head(10)"
   ]
  },
  {
   "cell_type": "code",
   "execution_count": 325,
   "metadata": {},
   "outputs": [
    {
     "data": {
      "text/plain": [
       "<AxesSubplot:>"
      ]
     },
     "execution_count": 325,
     "metadata": {},
     "output_type": "execute_result"
    },
    {
     "data": {
      "image/png": "[encoded data removed]",
      "text/plain": [
       "<Figure size 432x288 with 1 Axes>"
      ]
     },
     "metadata": {
      "needs_background": "light"
     },
     "output_type": "display_data"
    }
   ],
   "source": [
    "# plot the value counts\n",
    "# the points are plotted and connected in the order given to the pandas\n",
    "df.film_datetime.dt.year.value_counts().plot()"
   ]
  },
  {
   "cell_type": "code",
   "execution_count": 326,
   "metadata": {},
   "outputs": [
    {
     "data": {
      "text/plain": [
       "<AxesSubplot:>"
      ]
     },
     "execution_count": 326,
     "metadata": {},
     "output_type": "execute_result"
    },
    {
     "data": {
      "image/png": "[encoded data removed]",
      "text/plain": [
       "<Figure size 432x288 with 1 Axes>"
      ]
     },
     "metadata": {
      "needs_background": "light"
     },
     "output_type": "display_data"
    }
   ],
   "source": [
    "df.film_datetime.dt.year\\\n",
    "    .value_counts()\\\n",
    "    .sort_index()\\\n",
    "    .plot()"
   ]
  },
  {
   "cell_type": "code",
   "execution_count": 327,
   "metadata": {},
   "outputs": [
    {
     "data": {
      "text/plain": [
       "<AxesSubplot:>"
      ]
     },
     "execution_count": 327,
     "metadata": {},
     "output_type": "execute_result"
    },
    {
     "data": {
      "image/png": "[encoded data removed]",
      "text/plain": [
       "<Figure size 432x288 with 1 Axes>"
      ]
     },
     "metadata": {
      "needs_background": "light"
     },
     "output_type": "display_data"
    }
   ],
   "source": [
    "df.film_datetime.dt.year\\\n",
    "    .value_counts()\\\n",
    "    .sort_index()\\\n",
    "    .plot(kind='bar')"
   ]
  },
  {
   "cell_type": "code",
   "execution_count": 328,
   "metadata": {},
   "outputs": [
    {
     "data": {
      "text/plain": [
       "Timestamp('2017-08-27 00:00:00')"
      ]
     },
     "execution_count": 328,
     "metadata": {},
     "output_type": "execute_result"
    }
   ],
   "source": [
    "# remember that we only have partial data for year 2017 hence the sharp drop in talk count in 2017.\n",
    "df.film_datetime.max()"
   ]
  },
  {
   "attachments": {},
   "cell_type": "markdown",
   "metadata": {},
   "source": [
    "[BACK TO TOP][def]\n",
    "\n",
    "[def]: #-TED-Talks-Dataset-Exploration"
   ]
  },
  {
   "attachments": {},
   "cell_type": "markdown",
   "metadata": {},
   "source": [
    "## 5.Unpack the ratings data."
   ]
  },
  {
   "cell_type": "code",
   "execution_count": 329,
   "metadata": {},
   "outputs": [
    {
     "data": {
      "text/plain": [
       "0    [{'id': 7, 'name': 'Funny', 'count': 19645}, {...\n",
       "1    [{'id': 7, 'name': 'Funny', 'count': 544}, {'i...\n",
       "2    [{'id': 7, 'name': 'Funny', 'count': 964}, {'i...\n",
       "3    [{'id': 3, 'name': 'Courageous', 'count': 760}...\n",
       "4    [{'id': 9, 'name': 'Ingenious', 'count': 3202}...\n",
       "Name: ratings, dtype: object"
      ]
     },
     "execution_count": 329,
     "metadata": {},
     "output_type": "execute_result"
    }
   ],
   "source": [
    "# ratings data consist of hashtags that users used to describe a talk \n",
    "df.ratings.head()"
   ]
  },
  {
   "cell_type": "code",
   "execution_count": 330,
   "metadata": {},
   "outputs": [
    {
     "data": {
      "text/plain": [
       "\"[{'id': 7, 'name': 'Funny', 'count': 19645}, {'id': 1, 'name': 'Beautiful', 'count': 4573}, {'id': 9, 'name': 'Ingenious', 'count': 6073}, {'id': 3, 'name': 'Courageous', 'count': 3253}, {'id': 11, 'name': 'Longwinded', 'count': 387}, {'id': 2, 'name': 'Confusing', 'count': 242}, {'id': 8, 'name': 'Informative', 'count': 7346}, {'id': 22, 'name': 'Fascinating', 'count': 10581}, {'id': 21, 'name': 'Unconvincing', 'count': 300}, {'id': 24, 'name': 'Persuasive', 'count': 10704}, {'id': 23, 'name': 'Jaw-dropping', 'count': 4439}, {'id': 25, 'name': 'OK', 'count': 1174}, {'id': 26, 'name': 'Obnoxious', 'count': 209}, {'id': 10, 'name': 'Inspiring', 'count': 24924}]\""
      ]
     },
     "execution_count": 330,
     "metadata": {},
     "output_type": "execute_result"
    }
   ],
   "source": [
    "# notice ratings compose of a list of dict wrapped in a string\n",
    "df.ratings[0]"
   ]
  },
  {
   "cell_type": "code",
   "execution_count": 331,
   "metadata": {},
   "outputs": [
    {
     "data": {
      "text/plain": [
       "['a', 'b', 'c']"
      ]
     },
     "execution_count": 331,
     "metadata": {},
     "output_type": "execute_result"
    }
   ],
   "source": [
    "# Python's built-in ast (Abstract Syntax Tree) library is one way to convert the str into a list\n",
    "import ast \n",
    "output = ast.literal_eval('[\"a\", \"b\", \"c\"]')\n",
    "output"
   ]
  },
  {
   "cell_type": "code",
   "execution_count": 332,
   "metadata": {},
   "outputs": [
    {
     "data": {
      "text/plain": [
       "list"
      ]
     },
     "execution_count": 332,
     "metadata": {},
     "output_type": "execute_result"
    }
   ],
   "source": [
    "type(output)"
   ]
  },
  {
   "cell_type": "code",
   "execution_count": 333,
   "metadata": {},
   "outputs": [
    {
     "data": {
      "text/plain": [
       "[{'id': 7, 'name': 'Funny', 'count': 19645},\n",
       " {'id': 1, 'name': 'Beautiful', 'count': 4573},\n",
       " {'id': 9, 'name': 'Ingenious', 'count': 6073},\n",
       " {'id': 3, 'name': 'Courageous', 'count': 3253},\n",
       " {'id': 11, 'name': 'Longwinded', 'count': 387},\n",
       " {'id': 2, 'name': 'Confusing', 'count': 242},\n",
       " {'id': 8, 'name': 'Informative', 'count': 7346},\n",
       " {'id': 22, 'name': 'Fascinating', 'count': 10581},\n",
       " {'id': 21, 'name': 'Unconvincing', 'count': 300},\n",
       " {'id': 24, 'name': 'Persuasive', 'count': 10704},\n",
       " {'id': 23, 'name': 'Jaw-dropping', 'count': 4439},\n",
       " {'id': 25, 'name': 'OK', 'count': 1174},\n",
       " {'id': 26, 'name': 'Obnoxious', 'count': 209},\n",
       " {'id': 10, 'name': 'Inspiring', 'count': 24924}]"
      ]
     },
     "execution_count": 333,
     "metadata": {},
     "output_type": "execute_result"
    }
   ],
   "source": [
    "# sample\n",
    "ast.literal_eval(df.ratings[0])"
   ]
  },
  {
   "cell_type": "code",
   "execution_count": 334,
   "metadata": {},
   "outputs": [],
   "source": [
    "# option 1: create the function inside the notebook\n",
    "import ast\n",
    "\n",
    "def str_to_list(ratings_str):\n",
    "    return ast.literal_eval(ratings_str)"
   ]
  },
  {
   "cell_type": "code",
   "execution_count": 335,
   "metadata": {},
   "outputs": [
    {
     "data": {
      "text/plain": [
       "0    [{'id': 7, 'name': 'Funny', 'count': 19645}, {...\n",
       "1    [{'id': 7, 'name': 'Funny', 'count': 544}, {'i...\n",
       "2    [{'id': 7, 'name': 'Funny', 'count': 964}, {'i...\n",
       "3    [{'id': 3, 'name': 'Courageous', 'count': 760}...\n",
       "4    [{'id': 9, 'name': 'Ingenious', 'count': 3202}...\n",
       "Name: ratings, dtype: object"
      ]
     },
     "execution_count": 335,
     "metadata": {},
     "output_type": "execute_result"
    }
   ],
   "source": [
    "# option 2: import the function from a module inside the project\n",
    "from ted_talks import str_to_list\n",
    "\n",
    "df.ratings.apply(str_to_list).head()\n"
   ]
  },
  {
   "cell_type": "code",
   "execution_count": 336,
   "metadata": {},
   "outputs": [
    {
     "data": {
      "text/plain": [
       "0    [{'id': 7, 'name': 'Funny', 'count': 19645}, {...\n",
       "1    [{'id': 7, 'name': 'Funny', 'count': 544}, {'i...\n",
       "2    [{'id': 7, 'name': 'Funny', 'count': 964}, {'i...\n",
       "3    [{'id': 3, 'name': 'Courageous', 'count': 760}...\n",
       "4    [{'id': 9, 'name': 'Ingenious', 'count': 3202}...\n",
       "Name: ratings, dtype: object"
      ]
     },
     "execution_count": 336,
     "metadata": {},
     "output_type": "execute_result"
    }
   ],
   "source": [
    "# option 3: simply use lambda expression for the simple function\n",
    "df.ratings.apply(lambda x: ast.literal_eval(x)).head()"
   ]
  },
  {
   "cell_type": "code",
   "execution_count": 337,
   "metadata": {},
   "outputs": [
    {
     "data": {
      "text/plain": [
       "0    [{'id': 7, 'name': 'Funny', 'count': 19645}, {...\n",
       "1    [{'id': 7, 'name': 'Funny', 'count': 544}, {'i...\n",
       "2    [{'id': 7, 'name': 'Funny', 'count': 964}, {'i...\n",
       "3    [{'id': 3, 'name': 'Courageous', 'count': 760}...\n",
       "4    [{'id': 9, 'name': 'Ingenious', 'count': 3202}...\n",
       "Name: ratings, dtype: object"
      ]
     },
     "execution_count": 337,
     "metadata": {},
     "output_type": "execute_result"
    }
   ],
   "source": [
    "# option 4: apply the function directly\n",
    "df.ratings.apply(ast.literal_eval).head()"
   ]
  },
  {
   "cell_type": "code",
   "execution_count": 338,
   "metadata": {},
   "outputs": [],
   "source": [
    "# creata a column named ratings_list \n",
    "df['ratings_list'] = df.ratings.apply(lambda x: ast.literal_eval(x))"
   ]
  },
  {
   "cell_type": "code",
   "execution_count": 339,
   "metadata": {},
   "outputs": [
    {
     "data": {
      "text/plain": [
       "list"
      ]
     },
     "execution_count": 339,
     "metadata": {},
     "output_type": "execute_result"
    }
   ],
   "source": [
    "type(df.ratings_list[0])"
   ]
  },
  {
   "cell_type": "code",
   "execution_count": 340,
   "metadata": {},
   "outputs": [
    {
     "data": {
      "text/plain": [
       "dtype('O')"
      ]
     },
     "execution_count": 340,
     "metadata": {},
     "output_type": "execute_result"
    }
   ],
   "source": [
    "# object type may include other Python data types - not just String\n",
    "df.ratings_list.dtype"
   ]
  },
  {
   "cell_type": "code",
   "execution_count": 341,
   "metadata": {},
   "outputs": [
    {
     "data": {
      "text/plain": [
       "comments                       int64\n",
       "description                   object\n",
       "duration                       int64\n",
       "event                         object\n",
       "film_date                      int64\n",
       "languages                      int64\n",
       "main_speaker                  object\n",
       "name                          object\n",
       "num_speaker                    int64\n",
       "published_date                 int64\n",
       "ratings                       object\n",
       "related_talks                 object\n",
       "speaker_occupation            object\n",
       "tags                          object\n",
       "title                         object\n",
       "url                           object\n",
       "views                          int64\n",
       "comments_per_view            float64\n",
       "views_per_comment            float64\n",
       "film_datetime         datetime64[ns]\n",
       "ratings_list                  object\n",
       "dtype: object"
      ]
     },
     "execution_count": 341,
     "metadata": {},
     "output_type": "execute_result"
    }
   ],
   "source": [
    "df.dtypes"
   ]
  },
  {
   "attachments": {},
   "cell_type": "markdown",
   "metadata": {},
   "source": [
    "[BACK TO TOP][def]\n",
    "\n",
    "[def]: #-TED-Talks-Dataset-Exploration"
   ]
  },
  {
   "attachments": {},
   "cell_type": "markdown",
   "metadata": {},
   "source": [
    "#### i.Calculate the total number of ratings per talk."
   ]
  },
  {
   "attachments": {},
   "cell_type": "markdown",
   "metadata": {},
   "source": [
    "#### I.Using regex."
   ]
  },
  {
   "cell_type": "code",
   "execution_count": 342,
   "metadata": {},
   "outputs": [
    {
     "data": {
      "text/plain": [
       "[{'id': 7, 'name': 'Funny', 'count': 19645},\n",
       " {'id': 1, 'name': 'Beautiful', 'count': 4573},\n",
       " {'id': 9, 'name': 'Ingenious', 'count': 6073},\n",
       " {'id': 3, 'name': 'Courageous', 'count': 3253},\n",
       " {'id': 11, 'name': 'Longwinded', 'count': 387},\n",
       " {'id': 2, 'name': 'Confusing', 'count': 242},\n",
       " {'id': 8, 'name': 'Informative', 'count': 7346},\n",
       " {'id': 22, 'name': 'Fascinating', 'count': 10581},\n",
       " {'id': 21, 'name': 'Unconvincing', 'count': 300},\n",
       " {'id': 24, 'name': 'Persuasive', 'count': 10704},\n",
       " {'id': 23, 'name': 'Jaw-dropping', 'count': 4439},\n",
       " {'id': 25, 'name': 'OK', 'count': 1174},\n",
       " {'id': 26, 'name': 'Obnoxious', 'count': 209},\n",
       " {'id': 10, 'name': 'Inspiring', 'count': 24924}]"
      ]
     },
     "execution_count": 342,
     "metadata": {},
     "output_type": "execute_result"
    }
   ],
   "source": [
    "df.ratings_list[0]"
   ]
  },
  {
   "cell_type": "code",
   "execution_count": 343,
   "metadata": {},
   "outputs": [
    {
     "data": {
      "text/plain": [
       "[19645,\n",
       " 4573,\n",
       " 6073,\n",
       " 3253,\n",
       " 387,\n",
       " 242,\n",
       " 7346,\n",
       " 10581,\n",
       " 300,\n",
       " 10704,\n",
       " 4439,\n",
       " 1174,\n",
       " 209,\n",
       " 24924]"
      ]
     },
     "execution_count": 343,
     "metadata": {},
     "output_type": "execute_result"
    }
   ],
   "source": [
    "import re \n",
    "\n",
    "sample_ratings_str = df.ratings[0]\n",
    "\n",
    "count_values = [int(i) for i in re.findall(r\"'count': (\\d+)\", sample_ratings_str)]\n",
    "\n",
    "count_values"
   ]
  },
  {
   "cell_type": "code",
   "execution_count": 344,
   "metadata": {},
   "outputs": [
    {
     "data": {
      "text/plain": [
       "93850"
      ]
     },
     "execution_count": 344,
     "metadata": {},
     "output_type": "execute_result"
    }
   ],
   "source": [
    "total_ratings_count = sum(count_values)\n",
    "total_ratings_count"
   ]
  },
  {
   "cell_type": "code",
   "execution_count": 345,
   "metadata": {},
   "outputs": [
    {
     "data": {
      "text/plain": [
       "[93850, 2936, 2824, 3728, 25620]"
      ]
     },
     "execution_count": 345,
     "metadata": {},
     "output_type": "execute_result"
    }
   ],
   "source": [
    "ratings_list = []\n",
    "for ratings in df.ratings:\n",
    "    count_values = [int(i) for i in re.findall(r\"'count': (\\d+)\", ratings)]\n",
    "    total_ratings_count = sum(count_values)\n",
    "    ratings_list.append(total_ratings_count)\n",
    "\n",
    "ratings_list[0:5]"
   ]
  },
  {
   "cell_type": "code",
   "execution_count": 346,
   "metadata": {},
   "outputs": [
    {
     "data": {
      "text/plain": [
       "0    93850\n",
       "1     2936\n",
       "2     2824\n",
       "3     3728\n",
       "4    25620\n",
       "Name: total_ratings_count, dtype: int64"
      ]
     },
     "execution_count": 346,
     "metadata": {},
     "output_type": "execute_result"
    }
   ],
   "source": [
    "df['total_ratings_count'] = ratings_list\n",
    "df.total_ratings_count.head()"
   ]
  },
  {
   "cell_type": "code",
   "execution_count": 347,
   "metadata": {},
   "outputs": [],
   "source": [
    "# drop the column to explore other ways \n",
    "df = df.drop('total_ratings_count', axis=1)"
   ]
  },
  {
   "cell_type": "code",
   "execution_count": 348,
   "metadata": {},
   "outputs": [],
   "source": [
    "# less readable one liner version\n",
    "df['total_ratings_count'] = df.ratings.map(lambda x: sum(map(int, re.findall(r\"'count': (\\d+)\", x))))\n"
   ]
  },
  {
   "cell_type": "code",
   "execution_count": 349,
   "metadata": {},
   "outputs": [
    {
     "data": {
      "text/plain": [
       "0    93850\n",
       "1     2936\n",
       "2     2824\n",
       "3     3728\n",
       "4    25620\n",
       "Name: total_ratings_count, dtype: int64"
      ]
     },
     "execution_count": 349,
     "metadata": {},
     "output_type": "execute_result"
    }
   ],
   "source": [
    "df.total_ratings_count.head()"
   ]
  },
  {
   "cell_type": "code",
   "execution_count": 350,
   "metadata": {},
   "outputs": [],
   "source": [
    "# drop the column to explore other ways \n",
    "df = df.drop('total_ratings_count', axis=1)"
   ]
  },
  {
   "attachments": {},
   "cell_type": "markdown",
   "metadata": {},
   "source": [
    "[BACK TO TOP][def]\n",
    "\n",
    "[def]: #-TED-Talks-Dataset-Exploration"
   ]
  },
  {
   "attachments": {},
   "cell_type": "markdown",
   "metadata": {},
   "source": [
    "#### II.Using custom function."
   ]
  },
  {
   "cell_type": "code",
   "execution_count": 351,
   "metadata": {},
   "outputs": [
    {
     "name": "stdout",
     "output_type": "stream",
     "text": [
      "{'id': 7, 'name': 'Funny', 'count': 19645}\n",
      "{'id': 1, 'name': 'Beautiful', 'count': 4573}\n",
      "{'id': 9, 'name': 'Ingenious', 'count': 6073}\n",
      "{'id': 3, 'name': 'Courageous', 'count': 3253}\n",
      "{'id': 11, 'name': 'Longwinded', 'count': 387}\n",
      "{'id': 2, 'name': 'Confusing', 'count': 242}\n",
      "{'id': 8, 'name': 'Informative', 'count': 7346}\n",
      "{'id': 22, 'name': 'Fascinating', 'count': 10581}\n",
      "{'id': 21, 'name': 'Unconvincing', 'count': 300}\n",
      "{'id': 24, 'name': 'Persuasive', 'count': 10704}\n",
      "{'id': 23, 'name': 'Jaw-dropping', 'count': 4439}\n",
      "{'id': 25, 'name': 'OK', 'count': 1174}\n",
      "{'id': 26, 'name': 'Obnoxious', 'count': 209}\n",
      "{'id': 10, 'name': 'Inspiring', 'count': 24924}\n"
     ]
    }
   ],
   "source": [
    "for d in df.ratings_list[0]:\n",
    "    print(d)"
   ]
  },
  {
   "cell_type": "code",
   "execution_count": 352,
   "metadata": {},
   "outputs": [
    {
     "name": "stdout",
     "output_type": "stream",
     "text": [
      "19645\n",
      "4573\n",
      "6073\n",
      "3253\n",
      "387\n",
      "242\n",
      "7346\n",
      "10581\n",
      "300\n",
      "10704\n",
      "4439\n",
      "1174\n",
      "209\n",
      "24924\n"
     ]
    }
   ],
   "source": [
    "for d in df.ratings_list[0]:\n",
    "    print(d['count'])"
   ]
  },
  {
   "cell_type": "code",
   "execution_count": 353,
   "metadata": {},
   "outputs": [
    {
     "data": {
      "text/plain": [
       "93850"
      ]
     },
     "execution_count": 353,
     "metadata": {},
     "output_type": "execute_result"
    }
   ],
   "source": [
    "sum(int(d['count']) for d in df.ratings_list[0])"
   ]
  },
  {
   "cell_type": "code",
   "execution_count": 354,
   "metadata": {},
   "outputs": [],
   "source": [
    "# create a function\n",
    "# def extract_count(dict_list):\n",
    "#     return sum(int(d['count']) for d in dict_list)"
   ]
  },
  {
   "cell_type": "code",
   "execution_count": 355,
   "metadata": {},
   "outputs": [],
   "source": [
    "from ted_talks import extract_count"
   ]
  },
  {
   "cell_type": "code",
   "execution_count": 356,
   "metadata": {},
   "outputs": [
    {
     "data": {
      "text/plain": [
       "93850"
      ]
     },
     "execution_count": 356,
     "metadata": {},
     "output_type": "execute_result"
    }
   ],
   "source": [
    "extract_count(df.ratings_list[0])"
   ]
  },
  {
   "cell_type": "code",
   "execution_count": 357,
   "metadata": {},
   "outputs": [
    {
     "data": {
      "text/plain": [
       "0    93850\n",
       "1     2936\n",
       "2     2824\n",
       "3     3728\n",
       "4    25620\n",
       "Name: ratings_list, dtype: int64"
      ]
     },
     "execution_count": 357,
     "metadata": {},
     "output_type": "execute_result"
    }
   ],
   "source": [
    "# apply the function to each series\n",
    "df.ratings_list.apply(extract_count).head()"
   ]
  },
  {
   "cell_type": "code",
   "execution_count": 358,
   "metadata": {},
   "outputs": [],
   "source": [
    "df['total_ratings_count'] = df.ratings_list.apply(extract_count)"
   ]
  },
  {
   "cell_type": "code",
   "execution_count": 359,
   "metadata": {},
   "outputs": [
    {
     "data": {
      "text/plain": [
       "0    93850\n",
       "1     2936\n",
       "2     2824\n",
       "3     3728\n",
       "4    25620\n",
       "Name: total_ratings_count, dtype: int64"
      ]
     },
     "execution_count": 359,
     "metadata": {},
     "output_type": "execute_result"
    }
   ],
   "source": [
    "df.total_ratings_count.head()"
   ]
  },
  {
   "cell_type": "code",
   "execution_count": 360,
   "metadata": {},
   "outputs": [],
   "source": [
    "df = df.drop('total_ratings_count', axis=1)"
   ]
  },
  {
   "attachments": {},
   "cell_type": "markdown",
   "metadata": {},
   "source": [
    "[BACK TO TOP][def]\n",
    "\n",
    "[def]: #-TED-Talks-Dataset-Exploration"
   ]
  },
  {
   "attachments": {},
   "cell_type": "markdown",
   "metadata": {},
   "source": [
    "#### III.Using lambda."
   ]
  },
  {
   "cell_type": "code",
   "execution_count": 361,
   "metadata": {},
   "outputs": [
    {
     "data": {
      "text/plain": [
       "0    93850\n",
       "1     2936\n",
       "2     2824\n",
       "3     3728\n",
       "4    25620\n",
       "Name: ratings_list, dtype: int64"
      ]
     },
     "execution_count": 361,
     "metadata": {},
     "output_type": "execute_result"
    }
   ],
   "source": [
    "df.ratings_list.apply(lambda x: sum(int(d['count']) for d in x)).head()"
   ]
  },
  {
   "cell_type": "code",
   "execution_count": 362,
   "metadata": {},
   "outputs": [
    {
     "data": {
      "text/plain": [
       "0    93850\n",
       "1     2936\n",
       "2     2824\n",
       "3     3728\n",
       "4    25620\n",
       "Name: total_ratings_count, dtype: int64"
      ]
     },
     "execution_count": 362,
     "metadata": {},
     "output_type": "execute_result"
    }
   ],
   "source": [
    "df['total_ratings_count'] = df.ratings_list.apply(lambda x: sum(int(d['count']) for d in x))\n",
    "\n",
    "df['total_ratings_count'].head()"
   ]
  },
  {
   "cell_type": "code",
   "execution_count": 363,
   "metadata": {},
   "outputs": [],
   "source": [
    "df = df.drop('total_ratings_count', axis=1)"
   ]
  },
  {
   "attachments": {},
   "cell_type": "markdown",
   "metadata": {},
   "source": [
    "[BACK TO TOP][def]\n",
    "\n",
    "[def]: #-TED-Talks-Dataset-Exploration"
   ]
  },
  {
   "attachments": {},
   "cell_type": "markdown",
   "metadata": {},
   "source": [
    "#### IV.Using pd.DataFrame()."
   ]
  },
  {
   "cell_type": "code",
   "execution_count": 364,
   "metadata": {},
   "outputs": [
    {
     "data": {
      "text/html": [
       "<div>\n",
       "<style scoped>\n",
       "    .dataframe tbody tr th:only-of-type {\n",
       "        vertical-align: middle;\n",
       "    }\n",
       "\n",
       "    .dataframe tbody tr th {\n",
       "        vertical-align: top;\n",
       "    }\n",
       "\n",
       "    .dataframe thead th {\n",
       "        text-align: right;\n",
       "    }\n",
       "</style>\n",
       "<table border=\"1\" class=\"dataframe\">\n",
       "  <thead>\n",
       "    <tr style=\"text-align: right;\">\n",
       "      <th></th>\n",
       "      <th>id</th>\n",
       "      <th>name</th>\n",
       "      <th>count</th>\n",
       "    </tr>\n",
       "  </thead>\n",
       "  <tbody>\n",
       "    <tr>\n",
       "      <th>0</th>\n",
       "      <td>7</td>\n",
       "      <td>Funny</td>\n",
       "      <td>19645</td>\n",
       "    </tr>\n",
       "    <tr>\n",
       "      <th>1</th>\n",
       "      <td>1</td>\n",
       "      <td>Beautiful</td>\n",
       "      <td>4573</td>\n",
       "    </tr>\n",
       "    <tr>\n",
       "      <th>2</th>\n",
       "      <td>9</td>\n",
       "      <td>Ingenious</td>\n",
       "      <td>6073</td>\n",
       "    </tr>\n",
       "    <tr>\n",
       "      <th>3</th>\n",
       "      <td>3</td>\n",
       "      <td>Courageous</td>\n",
       "      <td>3253</td>\n",
       "    </tr>\n",
       "    <tr>\n",
       "      <th>4</th>\n",
       "      <td>11</td>\n",
       "      <td>Longwinded</td>\n",
       "      <td>387</td>\n",
       "    </tr>\n",
       "    <tr>\n",
       "      <th>5</th>\n",
       "      <td>2</td>\n",
       "      <td>Confusing</td>\n",
       "      <td>242</td>\n",
       "    </tr>\n",
       "    <tr>\n",
       "      <th>6</th>\n",
       "      <td>8</td>\n",
       "      <td>Informative</td>\n",
       "      <td>7346</td>\n",
       "    </tr>\n",
       "    <tr>\n",
       "      <th>7</th>\n",
       "      <td>22</td>\n",
       "      <td>Fascinating</td>\n",
       "      <td>10581</td>\n",
       "    </tr>\n",
       "    <tr>\n",
       "      <th>8</th>\n",
       "      <td>21</td>\n",
       "      <td>Unconvincing</td>\n",
       "      <td>300</td>\n",
       "    </tr>\n",
       "    <tr>\n",
       "      <th>9</th>\n",
       "      <td>24</td>\n",
       "      <td>Persuasive</td>\n",
       "      <td>10704</td>\n",
       "    </tr>\n",
       "    <tr>\n",
       "      <th>10</th>\n",
       "      <td>23</td>\n",
       "      <td>Jaw-dropping</td>\n",
       "      <td>4439</td>\n",
       "    </tr>\n",
       "    <tr>\n",
       "      <th>11</th>\n",
       "      <td>25</td>\n",
       "      <td>OK</td>\n",
       "      <td>1174</td>\n",
       "    </tr>\n",
       "    <tr>\n",
       "      <th>12</th>\n",
       "      <td>26</td>\n",
       "      <td>Obnoxious</td>\n",
       "      <td>209</td>\n",
       "    </tr>\n",
       "    <tr>\n",
       "      <th>13</th>\n",
       "      <td>10</td>\n",
       "      <td>Inspiring</td>\n",
       "      <td>24924</td>\n",
       "    </tr>\n",
       "  </tbody>\n",
       "</table>\n",
       "</div>"
      ],
      "text/plain": [
       "    id          name  count\n",
       "0    7         Funny  19645\n",
       "1    1     Beautiful   4573\n",
       "2    9     Ingenious   6073\n",
       "3    3    Courageous   3253\n",
       "4   11    Longwinded    387\n",
       "5    2     Confusing    242\n",
       "6    8   Informative   7346\n",
       "7   22   Fascinating  10581\n",
       "8   21  Unconvincing    300\n",
       "9   24    Persuasive  10704\n",
       "10  23  Jaw-dropping   4439\n",
       "11  25            OK   1174\n",
       "12  26     Obnoxious    209\n",
       "13  10     Inspiring  24924"
      ]
     },
     "execution_count": 364,
     "metadata": {},
     "output_type": "execute_result"
    }
   ],
   "source": [
    "pd.DataFrame(df.ratings_list[0])"
   ]
  },
  {
   "cell_type": "code",
   "execution_count": 365,
   "metadata": {},
   "outputs": [
    {
     "data": {
      "text/plain": [
       "0     19645\n",
       "1      4573\n",
       "2      6073\n",
       "3      3253\n",
       "4       387\n",
       "5       242\n",
       "6      7346\n",
       "7     10581\n",
       "8       300\n",
       "9     10704\n",
       "10     4439\n",
       "11     1174\n",
       "12      209\n",
       "13    24924\n",
       "Name: count, dtype: int64"
      ]
     },
     "execution_count": 365,
     "metadata": {},
     "output_type": "execute_result"
    }
   ],
   "source": [
    "pd.DataFrame(df.ratings_list[0])['count']"
   ]
  },
  {
   "cell_type": "code",
   "execution_count": 366,
   "metadata": {},
   "outputs": [
    {
     "data": {
      "text/plain": [
       "93850"
      ]
     },
     "execution_count": 366,
     "metadata": {},
     "output_type": "execute_result"
    }
   ],
   "source": [
    "pd.DataFrame(df.ratings_list[0])['count'].sum()"
   ]
  },
  {
   "cell_type": "code",
   "execution_count": 367,
   "metadata": {},
   "outputs": [
    {
     "data": {
      "text/plain": [
       "0    93850\n",
       "1     2936\n",
       "2     2824\n",
       "3     3728\n",
       "4    25620\n",
       "Name: ratings_list, dtype: int64"
      ]
     },
     "execution_count": 367,
     "metadata": {},
     "output_type": "execute_result"
    }
   ],
   "source": [
    "# use lambda to apply the logic\n",
    "df.ratings_list.apply(lambda x: pd.DataFrame(x)['count'].sum()).head()"
   ]
  },
  {
   "cell_type": "code",
   "execution_count": 368,
   "metadata": {},
   "outputs": [
    {
     "data": {
      "text/plain": [
       "0    93850\n",
       "1     2936\n",
       "2     2824\n",
       "3     3728\n",
       "4    25620\n",
       "Name: total_ratings_count, dtype: int64"
      ]
     },
     "execution_count": 368,
     "metadata": {},
     "output_type": "execute_result"
    }
   ],
   "source": [
    "df['total_ratings_count'] = df.ratings_list.apply(lambda x: pd.DataFrame(x)['count'].sum())\n",
    "\n",
    "df['total_ratings_count'].head()"
   ]
  },
  {
   "cell_type": "code",
   "execution_count": 369,
   "metadata": {},
   "outputs": [
    {
     "data": {
      "text/plain": [
       "count     2550.000000\n",
       "mean      2436.408235\n",
       "std       4226.795631\n",
       "min         68.000000\n",
       "25%        870.750000\n",
       "50%       1452.500000\n",
       "75%       2506.750000\n",
       "max      93850.000000\n",
       "Name: total_ratings_count, dtype: float64"
      ]
     },
     "execution_count": 369,
     "metadata": {},
     "output_type": "execute_result"
    }
   ],
   "source": [
    "df.total_ratings_count.describe()"
   ]
  },
  {
   "attachments": {},
   "cell_type": "markdown",
   "metadata": {},
   "source": [
    "[BACK TO TOP][def]\n",
    "\n",
    "[def]: #-TED-Talks-Dataset-Exploration"
   ]
  },
  {
   "attachments": {},
   "cell_type": "markdown",
   "metadata": {},
   "source": [
    "### ii.Calculate the percentage of negative ratings.\n"
   ]
  },
  {
   "cell_type": "code",
   "execution_count": 370,
   "metadata": {},
   "outputs": [
    {
     "data": {
      "text/plain": [
       "[{'id': 7, 'name': 'Funny', 'count': 19645},\n",
       " {'id': 1, 'name': 'Beautiful', 'count': 4573},\n",
       " {'id': 9, 'name': 'Ingenious', 'count': 6073},\n",
       " {'id': 3, 'name': 'Courageous', 'count': 3253},\n",
       " {'id': 11, 'name': 'Longwinded', 'count': 387},\n",
       " {'id': 2, 'name': 'Confusing', 'count': 242},\n",
       " {'id': 8, 'name': 'Informative', 'count': 7346},\n",
       " {'id': 22, 'name': 'Fascinating', 'count': 10581},\n",
       " {'id': 21, 'name': 'Unconvincing', 'count': 300},\n",
       " {'id': 24, 'name': 'Persuasive', 'count': 10704},\n",
       " {'id': 23, 'name': 'Jaw-dropping', 'count': 4439},\n",
       " {'id': 25, 'name': 'OK', 'count': 1174},\n",
       " {'id': 26, 'name': 'Obnoxious', 'count': 209},\n",
       " {'id': 10, 'name': 'Inspiring', 'count': 24924}]"
      ]
     },
     "execution_count": 370,
     "metadata": {},
     "output_type": "execute_result"
    }
   ],
   "source": [
    "df.ratings_list[0]"
   ]
  },
  {
   "cell_type": "code",
   "execution_count": 371,
   "metadata": {},
   "outputs": [],
   "source": [
    "# create a list of negative remark keys\n",
    "negative_remarks = ['Longwinded', 'Unconvincing', 'Obnoxious']\n"
   ]
  },
  {
   "cell_type": "code",
   "execution_count": 372,
   "metadata": {},
   "outputs": [
    {
     "name": "stdout",
     "output_type": "stream",
     "text": [
      "Longwinded 387;Unconvincing 300;Obnoxious 209;"
     ]
    }
   ],
   "source": [
    "# iterative over all the ratings dictionaries in the first ratings list\n",
    "for d in df.ratings_list[0]:\n",
    "    # check if the name of the rating is in the negative_remakrs list\n",
    "    if d['name'] in negative_remarks:\n",
    "        # print the negative remark name and count value \n",
    "        print(d['name'], d['count'], end=\";\")"
   ]
  },
  {
   "cell_type": "code",
   "execution_count": 373,
   "metadata": {},
   "outputs": [
    {
     "name": "stdout",
     "output_type": "stream",
     "text": [
      "387\n",
      "300\n",
      "209\n"
     ]
    }
   ],
   "source": [
    "# Iterate over all the rows of the ratings_list column\n",
    "for rating_list in df['ratings_list']:\n",
    "    # Iterate over all the ratings in the rating_list\n",
    "    for rating in rating_list:\n",
    "        # Check if the name of the rating is in the negative_remarks list\n",
    "        if rating['name'] in negative_remarks:\n",
    "            # Get the corresponding count value and print it\n",
    "            count = rating['count']\n",
    "            print(count)\n",
    "    break # break after the first dict iteration"
   ]
  },
  {
   "cell_type": "code",
   "execution_count": 374,
   "metadata": {},
   "outputs": [
    {
     "data": {
      "text/plain": [
       "0    896\n",
       "1    502\n",
       "2    324\n",
       "3    124\n",
       "4    238\n",
       "Name: ratings_list, dtype: int64"
      ]
     },
     "execution_count": 374,
     "metadata": {},
     "output_type": "execute_result"
    }
   ],
   "source": [
    "df.ratings_list.apply(lambda x: sum(int(d['count']) for d in x if d['name'] in negative_remarks)).head()"
   ]
  },
  {
   "cell_type": "code",
   "execution_count": 375,
   "metadata": {},
   "outputs": [
    {
     "data": {
      "text/plain": [
       "0    0.009547\n",
       "1    0.170981\n",
       "2    0.114731\n",
       "3    0.033262\n",
       "4    0.009290\n",
       "dtype: float64"
      ]
     },
     "execution_count": 375,
     "metadata": {},
     "output_type": "execute_result"
    }
   ],
   "source": [
    "# negative remarks percentage \n",
    "# not readable \n",
    "(df.ratings_list.apply(lambda x: sum(int(d['count']) for d in x if d['name'] in negative_remarks))\\\n",
    "    /\n",
    "    df.total_ratings_count).head()"
   ]
  },
  {
   "cell_type": "code",
   "execution_count": 376,
   "metadata": {},
   "outputs": [],
   "source": [
    "# # create a function\n",
    "# def extract_negative_remark_count(dict_list: dict) -> int:\n",
    "#     remarks = ['Longwinded', 'Unconvincing', 'Obnoxious']\n",
    "#     total_count = 0\n",
    "#     for d in dict_list:\n",
    "#         if d['name'] in remarks:\n",
    "#             count = int(d['count'])\n",
    "#             total_count += count \n",
    "#     return total_count\n",
    "\n",
    "from ted_talks import extract_negative_remark_count\n",
    "    "
   ]
  },
  {
   "cell_type": "code",
   "execution_count": 377,
   "metadata": {},
   "outputs": [
    {
     "data": {
      "text/plain": [
       "896"
      ]
     },
     "execution_count": 377,
     "metadata": {},
     "output_type": "execute_result"
    }
   ],
   "source": [
    "# test the function\n",
    "extract_negative_remark_count(df.ratings_list[0])"
   ]
  },
  {
   "cell_type": "code",
   "execution_count": 378,
   "metadata": {},
   "outputs": [
    {
     "data": {
      "text/plain": [
       "0    896\n",
       "1    502\n",
       "2    324\n",
       "3    124\n",
       "4    238\n",
       "Name: ratings_list, dtype: int64"
      ]
     },
     "execution_count": 378,
     "metadata": {},
     "output_type": "execute_result"
    }
   ],
   "source": [
    "df.ratings_list.apply(extract_negative_remark_count).head()"
   ]
  },
  {
   "cell_type": "code",
   "execution_count": 379,
   "metadata": {},
   "outputs": [
    {
     "data": {
      "text/plain": [
       "0    896\n",
       "1    502\n",
       "2    324\n",
       "3    124\n",
       "4    238\n",
       "Name: negative_comment_count, dtype: int64"
      ]
     },
     "execution_count": 379,
     "metadata": {},
     "output_type": "execute_result"
    }
   ],
   "source": [
    "df['negative_comment_count'] = df.ratings_list.apply(extract_negative_remark_count)\n",
    "\n",
    "df.negative_comment_count.head()"
   ]
  },
  {
   "cell_type": "code",
   "execution_count": 380,
   "metadata": {},
   "outputs": [
    {
     "data": {
      "text/html": [
       "<div>\n",
       "<style scoped>\n",
       "    .dataframe tbody tr th:only-of-type {\n",
       "        vertical-align: middle;\n",
       "    }\n",
       "\n",
       "    .dataframe tbody tr th {\n",
       "        vertical-align: top;\n",
       "    }\n",
       "\n",
       "    .dataframe thead th {\n",
       "        text-align: right;\n",
       "    }\n",
       "</style>\n",
       "<table border=\"1\" class=\"dataframe\">\n",
       "  <thead>\n",
       "    <tr style=\"text-align: right;\">\n",
       "      <th></th>\n",
       "      <th>title</th>\n",
       "      <th>views</th>\n",
       "      <th>comments_per_view</th>\n",
       "      <th>total_ratings_count</th>\n",
       "      <th>negative_comment_count</th>\n",
       "    </tr>\n",
       "  </thead>\n",
       "  <tbody>\n",
       "    <tr>\n",
       "      <th>494</th>\n",
       "      <td>I believe we evolved from aquatic apes</td>\n",
       "      <td>1038576</td>\n",
       "      <td>0.000598</td>\n",
       "      <td>6680</td>\n",
       "      <td>3246</td>\n",
       "    </tr>\n",
       "    <tr>\n",
       "      <th>481</th>\n",
       "      <td>17 words of architectural inspiration</td>\n",
       "      <td>784642</td>\n",
       "      <td>0.000539</td>\n",
       "      <td>3779</td>\n",
       "      <td>2693</td>\n",
       "    </tr>\n",
       "    <tr>\n",
       "      <th>2314</th>\n",
       "      <td>Enough with the fear of fat</td>\n",
       "      <td>1594248</td>\n",
       "      <td>0.000204</td>\n",
       "      <td>4153</td>\n",
       "      <td>2049</td>\n",
       "    </tr>\n",
       "    <tr>\n",
       "      <th>677</th>\n",
       "      <td>How great leaders inspire action</td>\n",
       "      <td>34309432</td>\n",
       "      <td>0.000056</td>\n",
       "      <td>56779</td>\n",
       "      <td>1614</td>\n",
       "    </tr>\n",
       "    <tr>\n",
       "      <th>9</th>\n",
       "      <td>A life of purpose</td>\n",
       "      <td>3095993</td>\n",
       "      <td>0.000291</td>\n",
       "      <td>8327</td>\n",
       "      <td>1515</td>\n",
       "    </tr>\n",
       "  </tbody>\n",
       "</table>\n",
       "</div>"
      ],
      "text/plain": [
       "                                       title     views  comments_per_view  \\\n",
       "494   I believe we evolved from aquatic apes   1038576           0.000598   \n",
       "481    17 words of architectural inspiration    784642           0.000539   \n",
       "2314             Enough with the fear of fat   1594248           0.000204   \n",
       "677         How great leaders inspire action  34309432           0.000056   \n",
       "9                          A life of purpose   3095993           0.000291   \n",
       "\n",
       "      total_ratings_count  negative_comment_count  \n",
       "494                  6680                    3246  \n",
       "481                  3779                    2693  \n",
       "2314                 4153                    2049  \n",
       "677                 56779                    1614  \n",
       "9                    8327                    1515  "
      ]
     },
     "execution_count": 380,
     "metadata": {},
     "output_type": "execute_result"
    }
   ],
   "source": [
    "df[['title', 'views', 'comments_per_view', 'total_ratings_count', 'negative_comment_count']] \\\n",
    "    .sort_values('negative_comment_count', ascending=False) \\\n",
    "    .head()"
   ]
  },
  {
   "cell_type": "code",
   "execution_count": 381,
   "metadata": {},
   "outputs": [
    {
     "data": {
      "text/plain": [
       "comments                  17\n",
       "description               17\n",
       "duration                  17\n",
       "event                     17\n",
       "film_date                 17\n",
       "languages                 17\n",
       "main_speaker              17\n",
       "name                      17\n",
       "num_speaker               17\n",
       "published_date            17\n",
       "ratings                   17\n",
       "related_talks             17\n",
       "speaker_occupation        17\n",
       "tags                      17\n",
       "title                     17\n",
       "url                       17\n",
       "views                     17\n",
       "comments_per_view         17\n",
       "views_per_comment         17\n",
       "film_datetime             17\n",
       "ratings_list              17\n",
       "total_ratings_count       17\n",
       "negative_comment_count    17\n",
       "dtype: int64"
      ]
     },
     "execution_count": 381,
     "metadata": {},
     "output_type": "execute_result"
    }
   ],
   "source": [
    "# find the count of talks with no negative comments\n",
    "df.query('negative_comment_count == 0.0').count()"
   ]
  },
  {
   "cell_type": "code",
   "execution_count": 382,
   "metadata": {},
   "outputs": [
    {
     "name": "stdout",
     "output_type": "stream",
     "text": [
      "[{'id': 8, 'name': 'Informative', 'count': 209}, {'id': 9, 'name': 'Ingenious', 'count': 105}, {'id': 22, 'name': 'Fascinating', 'count': 168}, {'id': 1, 'name': 'Beautiful', 'count': 43}, {'id': 10, 'name': 'Inspiring', 'count': 111}, {'id': 23, 'name': 'Jaw-dropping', 'count': 13}, {'id': 25, 'name': 'OK', 'count': 38}, {'id': 24, 'name': 'Persuasive', 'count': 24}, {'id': 7, 'name': 'Funny', 'count': 18}, {'id': 2, 'name': 'Confusing', 'count': 1}, {'id': 3, 'name': 'Courageous', 'count': 8}, {'id': 11, 'name': 'Longwinded', 'count': 0}, {'id': 21, 'name': 'Unconvincing', 'count': 0}, {'id': 26, 'name': 'Obnoxious', 'count': 0}]\n"
     ]
    }
   ],
   "source": [
    "# Inspect a sample entry to find out \n",
    "# if the negative_comment_count is 0 because of missing negative remarks.\n",
    "for dict_list in df.query('negative_comment_count == 0.0')['ratings_list']:\n",
    "    print(dict_list)\n",
    "    break\n",
    "    "
   ]
  },
  {
   "cell_type": "code",
   "execution_count": 383,
   "metadata": {},
   "outputs": [
    {
     "data": {
      "text/plain": [
       "481     71.262239\n",
       "1704    55.412054\n",
       "2314    49.337828\n",
       "494     48.592814\n",
       "113     48.148148\n",
       "dtype: float64"
      ]
     },
     "execution_count": 383,
     "metadata": {},
     "output_type": "execute_result"
    }
   ],
   "source": [
    "# percentage negative comments \n",
    "((df.negative_comment_count / df.total_ratings_count) * 100).sort_values(ascending=False).head()"
   ]
  },
  {
   "cell_type": "code",
   "execution_count": 384,
   "metadata": {},
   "outputs": [
    {
     "data": {
      "text/html": [
       "<div>\n",
       "<style scoped>\n",
       "    .dataframe tbody tr th:only-of-type {\n",
       "        vertical-align: middle;\n",
       "    }\n",
       "\n",
       "    .dataframe tbody tr th {\n",
       "        vertical-align: top;\n",
       "    }\n",
       "\n",
       "    .dataframe thead th {\n",
       "        text-align: right;\n",
       "    }\n",
       "</style>\n",
       "<table border=\"1\" class=\"dataframe\">\n",
       "  <thead>\n",
       "    <tr style=\"text-align: right;\">\n",
       "      <th></th>\n",
       "      <th>comments</th>\n",
       "      <th>description</th>\n",
       "      <th>duration</th>\n",
       "      <th>event</th>\n",
       "      <th>film_date</th>\n",
       "      <th>languages</th>\n",
       "      <th>main_speaker</th>\n",
       "      <th>name</th>\n",
       "      <th>num_speaker</th>\n",
       "      <th>published_date</th>\n",
       "      <th>ratings</th>\n",
       "      <th>related_talks</th>\n",
       "      <th>speaker_occupation</th>\n",
       "      <th>tags</th>\n",
       "      <th>title</th>\n",
       "      <th>url</th>\n",
       "      <th>views</th>\n",
       "      <th>comments_per_view</th>\n",
       "      <th>views_per_comment</th>\n",
       "      <th>film_datetime</th>\n",
       "      <th>ratings_list</th>\n",
       "      <th>total_ratings_count</th>\n",
       "      <th>negative_comment_count</th>\n",
       "    </tr>\n",
       "  </thead>\n",
       "  <tbody>\n",
       "    <tr>\n",
       "      <th>481</th>\n",
       "      <td>423</td>\n",
       "      <td>Daniel Libeskind builds on very big ideas. Her...</td>\n",
       "      <td>1116</td>\n",
       "      <td>TED2009</td>\n",
       "      <td>1233878400</td>\n",
       "      <td>24</td>\n",
       "      <td>Daniel Libeskind</td>\n",
       "      <td>Daniel Libeskind: 17 words of architectural in...</td>\n",
       "      <td>1</td>\n",
       "      <td>1246410000</td>\n",
       "      <td>[{'id': 25, 'name': 'OK', 'count': 128}, {'id'...</td>\n",
       "      <td>[{'id': 197, 'hero': 'https://pe.tedcdn.com/im...</td>\n",
       "      <td>Architect</td>\n",
       "      <td>['architecture', 'cities', 'creativity', 'desi...</td>\n",
       "      <td>17 words of architectural inspiration</td>\n",
       "      <td>https://www.ted.com/talks/daniel_libeskind_s_1...</td>\n",
       "      <td>784642</td>\n",
       "      <td>0.000539</td>\n",
       "      <td>1854.945626</td>\n",
       "      <td>2009-02-06</td>\n",
       "      <td>[{'id': 25, 'name': 'OK', 'count': 128}, {'id'...</td>\n",
       "      <td>3779</td>\n",
       "      <td>2693</td>\n",
       "    </tr>\n",
       "    <tr>\n",
       "      <th>1704</th>\n",
       "      <td>440</td>\n",
       "      <td>After a surprise appearance by Edward Snowden ...</td>\n",
       "      <td>2010</td>\n",
       "      <td>TED2014</td>\n",
       "      <td>1395273600</td>\n",
       "      <td>22</td>\n",
       "      <td>Richard Ledgett</td>\n",
       "      <td>Richard Ledgett: The NSA responds to Edward Sn...</td>\n",
       "      <td>1</td>\n",
       "      <td>1395362789</td>\n",
       "      <td>[{'id': 21, 'name': 'Unconvincing', 'count': 6...</td>\n",
       "      <td>[{'id': 1950, 'hero': 'https://pe.tedcdn.com/i...</td>\n",
       "      <td>Deputy director, NSA</td>\n",
       "      <td>['Surveillance', 'culture', 'global issues', '...</td>\n",
       "      <td>The NSA responds to Edward Snowden's TED Talk</td>\n",
       "      <td>https://www.ted.com/talks/richard_ledgett_the_...</td>\n",
       "      <td>1191342</td>\n",
       "      <td>0.000369</td>\n",
       "      <td>2707.595455</td>\n",
       "      <td>2014-03-20</td>\n",
       "      <td>[{'id': 21, 'name': 'Unconvincing', 'count': 6...</td>\n",
       "      <td>1626</td>\n",
       "      <td>901</td>\n",
       "    </tr>\n",
       "  </tbody>\n",
       "</table>\n",
       "</div>"
      ],
      "text/plain": [
       "      comments                                        description  duration  \\\n",
       "481        423  Daniel Libeskind builds on very big ideas. Her...      1116   \n",
       "1704       440  After a surprise appearance by Edward Snowden ...      2010   \n",
       "\n",
       "        event   film_date  languages      main_speaker  \\\n",
       "481   TED2009  1233878400         24  Daniel Libeskind   \n",
       "1704  TED2014  1395273600         22   Richard Ledgett   \n",
       "\n",
       "                                                   name  num_speaker  \\\n",
       "481   Daniel Libeskind: 17 words of architectural in...            1   \n",
       "1704  Richard Ledgett: The NSA responds to Edward Sn...            1   \n",
       "\n",
       "      published_date                                            ratings  \\\n",
       "481       1246410000  [{'id': 25, 'name': 'OK', 'count': 128}, {'id'...   \n",
       "1704      1395362789  [{'id': 21, 'name': 'Unconvincing', 'count': 6...   \n",
       "\n",
       "                                          related_talks    speaker_occupation  \\\n",
       "481   [{'id': 197, 'hero': 'https://pe.tedcdn.com/im...             Architect   \n",
       "1704  [{'id': 1950, 'hero': 'https://pe.tedcdn.com/i...  Deputy director, NSA   \n",
       "\n",
       "                                                   tags  \\\n",
       "481   ['architecture', 'cities', 'creativity', 'desi...   \n",
       "1704  ['Surveillance', 'culture', 'global issues', '...   \n",
       "\n",
       "                                              title  \\\n",
       "481           17 words of architectural inspiration   \n",
       "1704  The NSA responds to Edward Snowden's TED Talk   \n",
       "\n",
       "                                                    url    views  \\\n",
       "481   https://www.ted.com/talks/daniel_libeskind_s_1...   784642   \n",
       "1704  https://www.ted.com/talks/richard_ledgett_the_...  1191342   \n",
       "\n",
       "      comments_per_view  views_per_comment film_datetime  \\\n",
       "481            0.000539        1854.945626    2009-02-06   \n",
       "1704           0.000369        2707.595455    2014-03-20   \n",
       "\n",
       "                                           ratings_list  total_ratings_count  \\\n",
       "481   [{'id': 25, 'name': 'OK', 'count': 128}, {'id'...                 3779   \n",
       "1704  [{'id': 21, 'name': 'Unconvincing', 'count': 6...                 1626   \n",
       "\n",
       "      negative_comment_count  \n",
       "481                     2693  \n",
       "1704                     901  "
      ]
     },
     "execution_count": 384,
     "metadata": {},
     "output_type": "execute_result"
    }
   ],
   "source": [
    "df.query('negative_comment_count / total_ratings_count >= 0.50')"
   ]
  },
  {
   "attachments": {},
   "cell_type": "markdown",
   "metadata": {},
   "source": [
    "[BACK TO TOP][def]\n",
    "\n",
    "[def]: #-TED-Talks-Dataset-Exploration"
   ]
  },
  {
   "attachments": {},
   "cell_type": "markdown",
   "metadata": {},
   "source": [
    "#### iii.Calculate the average number of ratings each talk received per day since it was published."
   ]
  },
  {
   "cell_type": "code",
   "execution_count": 385,
   "metadata": {},
   "outputs": [
    {
     "data": {
      "text/plain": [
       "0      2006-06-27 00:11:00\n",
       "1      2006-06-27 00:11:00\n",
       "2      2006-06-27 00:11:00\n",
       "3      2006-06-27 00:11:00\n",
       "4      2006-06-27 20:38:00\n",
       "               ...        \n",
       "2545   2017-09-19 20:00:16\n",
       "2546   2017-09-20 15:02:17\n",
       "2547   2017-09-21 15:01:35\n",
       "2548   2017-09-21 20:00:42\n",
       "2549   2017-09-22 15:00:22\n",
       "Name: published_date, Length: 2550, dtype: datetime64[ns]"
      ]
     },
     "execution_count": 385,
     "metadata": {},
     "output_type": "execute_result"
    }
   ],
   "source": [
    "pd.to_datetime(df.published_date, unit='s')"
   ]
  },
  {
   "cell_type": "code",
   "execution_count": 386,
   "metadata": {},
   "outputs": [],
   "source": [
    "df['published_datetime'] = pd.to_datetime(df.published_date, unit='s')"
   ]
  },
  {
   "cell_type": "code",
   "execution_count": 387,
   "metadata": {},
   "outputs": [
    {
     "data": {
      "text/plain": [
       "0   2006-06-27 00:11:00\n",
       "1   2006-06-27 00:11:00\n",
       "2   2006-06-27 00:11:00\n",
       "3   2006-06-27 00:11:00\n",
       "4   2006-06-27 20:38:00\n",
       "Name: published_datetime, dtype: datetime64[ns]"
      ]
     },
     "execution_count": 387,
     "metadata": {},
     "output_type": "execute_result"
    }
   ],
   "source": [
    "df.published_datetime.head()"
   ]
  },
  {
   "attachments": {},
   "cell_type": "markdown",
   "metadata": {},
   "source": [
    " - Per dataset documentation, the last date inputs were collected was `Sep 21, 2017`."
   ]
  },
  {
   "cell_type": "code",
   "execution_count": 388,
   "metadata": {},
   "outputs": [
    {
     "data": {
      "text/plain": [
       "Timestamp('2017-08-27 00:00:00')"
      ]
     },
     "execution_count": 388,
     "metadata": {},
     "output_type": "execute_result"
    }
   ],
   "source": [
    "df.film_datetime.max()"
   ]
  },
  {
   "cell_type": "code",
   "execution_count": 389,
   "metadata": {},
   "outputs": [
    {
     "data": {
      "text/plain": [
       "Timestamp('2017-09-22 00:00:00')"
      ]
     },
     "execution_count": 389,
     "metadata": {},
     "output_type": "execute_result"
    }
   ],
   "source": [
    "# add 26 days to the last film date and save it as final_data_day\n",
    "final_data_day = df.film_datetime.max() + np.timedelta64(26, 'D')\n",
    "final_data_day"
   ]
  },
  {
   "cell_type": "code",
   "execution_count": 390,
   "metadata": {},
   "outputs": [
    {
     "data": {
      "text/plain": [
       "count                            2550\n",
       "mean     1880 days 22:32:14.249411776\n",
       "std      1095 days 08:54:50.798582160\n",
       "min                 -1 days +08:59:38\n",
       "25%          956 days 02:11:09.750000\n",
       "50%         1910 days 21:55:53.500000\n",
       "75%                2749 days 17:10:30\n",
       "max                4104 days 23:49:00\n",
       "Name: published_datetime, dtype: object"
      ]
     },
     "execution_count": 390,
     "metadata": {},
     "output_type": "execute_result"
    }
   ],
   "source": [
    "# find the date difference\n",
    "(final_data_day - df.published_datetime).describe()"
   ]
  },
  {
   "cell_type": "code",
   "execution_count": 391,
   "metadata": {},
   "outputs": [
    {
     "data": {
      "text/plain": [
       "0    4227\n",
       "1    4227\n",
       "2    4228\n",
       "3    4226\n",
       "4    4230\n",
       "Name: film_datetime, dtype: int64"
      ]
     },
     "execution_count": 391,
     "metadata": {},
     "output_type": "execute_result"
    }
   ],
   "source": [
    "# extract the number of days\n",
    "(final_data_day - df.film_datetime).dt.days.head()"
   ]
  },
  {
   "cell_type": "code",
   "execution_count": 392,
   "metadata": {},
   "outputs": [],
   "source": [
    "# create a column named 'date_diff_days' \n",
    "df['date_diff_days'] = (final_data_day - df.published_datetime).dt.days"
   ]
  },
  {
   "cell_type": "code",
   "execution_count": 393,
   "metadata": {},
   "outputs": [
    {
     "data": {
      "text/plain": [
       "count    2550.000000\n",
       "mean     1880.453725\n",
       "std      1095.213772\n",
       "min        -1.000000\n",
       "25%       955.750000\n",
       "50%      1910.500000\n",
       "75%      2749.250000\n",
       "max      4104.000000\n",
       "Name: date_diff_days, dtype: float64"
      ]
     },
     "execution_count": 393,
     "metadata": {},
     "output_type": "execute_result"
    }
   ],
   "source": [
    "df.date_diff_days.describe()"
   ]
  },
  {
   "cell_type": "code",
   "execution_count": 394,
   "metadata": {},
   "outputs": [
    {
     "data": {
      "text/html": [
       "<div>\n",
       "<style scoped>\n",
       "    .dataframe tbody tr th:only-of-type {\n",
       "        vertical-align: middle;\n",
       "    }\n",
       "\n",
       "    .dataframe tbody tr th {\n",
       "        vertical-align: top;\n",
       "    }\n",
       "\n",
       "    .dataframe thead th {\n",
       "        text-align: right;\n",
       "    }\n",
       "</style>\n",
       "<table border=\"1\" class=\"dataframe\">\n",
       "  <thead>\n",
       "    <tr style=\"text-align: right;\">\n",
       "      <th></th>\n",
       "      <th>title</th>\n",
       "      <th>film_datetime</th>\n",
       "      <th>published_datetime</th>\n",
       "      <th>date_diff_days</th>\n",
       "      <th>total_ratings_count</th>\n",
       "    </tr>\n",
       "  </thead>\n",
       "  <tbody>\n",
       "    <tr>\n",
       "      <th>2549</th>\n",
       "      <td>How a video game might help us build better ci...</td>\n",
       "      <td>2017-04-24</td>\n",
       "      <td>2017-09-22 15:00:22</td>\n",
       "      <td>-1</td>\n",
       "      <td>142</td>\n",
       "    </tr>\n",
       "  </tbody>\n",
       "</table>\n",
       "</div>"
      ],
      "text/plain": [
       "                                                  title film_datetime  \\\n",
       "2549  How a video game might help us build better ci...    2017-04-24   \n",
       "\n",
       "      published_datetime  date_diff_days  total_ratings_count  \n",
       "2549 2017-09-22 15:00:22              -1                  142  "
      ]
     },
     "execution_count": 394,
     "metadata": {},
     "output_type": "execute_result"
    }
   ],
   "source": [
    "# find out about the inconsistent entry that was published past final_data_day\n",
    "df.query('date_diff_days < 0')[['title', \n",
    "                                'film_datetime', \n",
    "                                'published_datetime', \n",
    "                                'date_diff_days', \n",
    "                                'total_ratings_count']]"
   ]
  },
  {
   "cell_type": "code",
   "execution_count": 395,
   "metadata": {},
   "outputs": [],
   "source": [
    "# average difference rounded\n",
    "df['avg_ratings_count'] = df.total_ratings_count / df.date_diff_days"
   ]
  },
  {
   "cell_type": "code",
   "execution_count": 396,
   "metadata": {},
   "outputs": [
    {
     "data": {
      "text/plain": [
       "count    2550.000000\n",
       "mean             inf\n",
       "std              NaN\n",
       "min      -142.000000\n",
       "25%         0.508256\n",
       "50%         1.028473\n",
       "75%         2.289910\n",
       "max              inf\n",
       "Name: avg_ratings_count, dtype: float64"
      ]
     },
     "execution_count": 396,
     "metadata": {},
     "output_type": "execute_result"
    }
   ],
   "source": [
    "df.avg_ratings_count.describe()"
   ]
  },
  {
   "cell_type": "code",
   "execution_count": 397,
   "metadata": {},
   "outputs": [
    {
     "data": {
      "text/html": [
       "<div>\n",
       "<style scoped>\n",
       "    .dataframe tbody tr th:only-of-type {\n",
       "        vertical-align: middle;\n",
       "    }\n",
       "\n",
       "    .dataframe tbody tr th {\n",
       "        vertical-align: top;\n",
       "    }\n",
       "\n",
       "    .dataframe thead th {\n",
       "        text-align: right;\n",
       "    }\n",
       "</style>\n",
       "<table border=\"1\" class=\"dataframe\">\n",
       "  <thead>\n",
       "    <tr style=\"text-align: right;\">\n",
       "      <th></th>\n",
       "      <th>comments</th>\n",
       "      <th>description</th>\n",
       "      <th>duration</th>\n",
       "      <th>event</th>\n",
       "      <th>film_date</th>\n",
       "      <th>languages</th>\n",
       "      <th>main_speaker</th>\n",
       "      <th>name</th>\n",
       "      <th>num_speaker</th>\n",
       "      <th>published_date</th>\n",
       "      <th>ratings</th>\n",
       "      <th>related_talks</th>\n",
       "      <th>speaker_occupation</th>\n",
       "      <th>tags</th>\n",
       "      <th>title</th>\n",
       "      <th>url</th>\n",
       "      <th>views</th>\n",
       "      <th>comments_per_view</th>\n",
       "      <th>views_per_comment</th>\n",
       "      <th>film_datetime</th>\n",
       "      <th>ratings_list</th>\n",
       "      <th>total_ratings_count</th>\n",
       "      <th>negative_comment_count</th>\n",
       "      <th>published_datetime</th>\n",
       "      <th>date_diff_days</th>\n",
       "      <th>avg_ratings_count</th>\n",
       "    </tr>\n",
       "  </thead>\n",
       "  <tbody>\n",
       "    <tr>\n",
       "      <th>2547</th>\n",
       "      <td>10</td>\n",
       "      <td>Science fiction visions of the future show us ...</td>\n",
       "      <td>651</td>\n",
       "      <td>TED2017</td>\n",
       "      <td>1492992000</td>\n",
       "      <td>1</td>\n",
       "      <td>Radhika Nagpal</td>\n",
       "      <td>Radhika Nagpal: What intelligent machines can ...</td>\n",
       "      <td>1</td>\n",
       "      <td>1506006095</td>\n",
       "      <td>[{'id': 1, 'name': 'Beautiful', 'count': 14}, ...</td>\n",
       "      <td>[{'id': 2346, 'hero': 'https://pe.tedcdn.com/i...</td>\n",
       "      <td>Robotics engineer</td>\n",
       "      <td>['AI', 'ants', 'fish', 'future', 'innovation',...</td>\n",
       "      <td>What intelligent machines can learn from a sch...</td>\n",
       "      <td>https://www.ted.com/talks/radhika_nagpal_what_...</td>\n",
       "      <td>375647</td>\n",
       "      <td>0.000027</td>\n",
       "      <td>37564.70000</td>\n",
       "      <td>2017-04-24</td>\n",
       "      <td>[{'id': 1, 'name': 'Beautiful', 'count': 14}, ...</td>\n",
       "      <td>136</td>\n",
       "      <td>1</td>\n",
       "      <td>2017-09-21 15:01:35</td>\n",
       "      <td>0</td>\n",
       "      <td>inf</td>\n",
       "    </tr>\n",
       "    <tr>\n",
       "      <th>2548</th>\n",
       "      <td>32</td>\n",
       "      <td>In an unmissable talk about race and politics ...</td>\n",
       "      <td>1100</td>\n",
       "      <td>TEDxMileHigh</td>\n",
       "      <td>1499472000</td>\n",
       "      <td>1</td>\n",
       "      <td>Theo E.J. Wilson</td>\n",
       "      <td>Theo E.J. Wilson: A black man goes undercover ...</td>\n",
       "      <td>1</td>\n",
       "      <td>1506024042</td>\n",
       "      <td>[{'id': 11, 'name': 'Longwinded', 'count': 3},...</td>\n",
       "      <td>[{'id': 2512, 'hero': 'https://pe.tedcdn.com/i...</td>\n",
       "      <td>Public intellectual</td>\n",
       "      <td>['Internet', 'TEDx', 'United States', 'communi...</td>\n",
       "      <td>A black man goes undercover in the alt-right</td>\n",
       "      <td>https://www.ted.com/talks/theo_e_j_wilson_a_bl...</td>\n",
       "      <td>419309</td>\n",
       "      <td>0.000076</td>\n",
       "      <td>13103.40625</td>\n",
       "      <td>2017-07-08</td>\n",
       "      <td>[{'id': 11, 'name': 'Longwinded', 'count': 3},...</td>\n",
       "      <td>583</td>\n",
       "      <td>16</td>\n",
       "      <td>2017-09-21 20:00:42</td>\n",
       "      <td>0</td>\n",
       "      <td>inf</td>\n",
       "    </tr>\n",
       "    <tr>\n",
       "      <th>2549</th>\n",
       "      <td>8</td>\n",
       "      <td>With more than half of the world population li...</td>\n",
       "      <td>519</td>\n",
       "      <td>TED2017</td>\n",
       "      <td>1492992000</td>\n",
       "      <td>1</td>\n",
       "      <td>Karoliina Korppoo</td>\n",
       "      <td>Karoliina Korppoo: How a video game might help...</td>\n",
       "      <td>1</td>\n",
       "      <td>1506092422</td>\n",
       "      <td>[{'id': 21, 'name': 'Unconvincing', 'count': 2...</td>\n",
       "      <td>[{'id': 2682, 'hero': 'https://pe.tedcdn.com/i...</td>\n",
       "      <td>Game designer</td>\n",
       "      <td>['cities', 'design', 'future', 'infrastructure...</td>\n",
       "      <td>How a video game might help us build better ci...</td>\n",
       "      <td>https://www.ted.com/talks/karoliina_korppoo_ho...</td>\n",
       "      <td>391721</td>\n",
       "      <td>0.000020</td>\n",
       "      <td>48965.12500</td>\n",
       "      <td>2017-04-24</td>\n",
       "      <td>[{'id': 21, 'name': 'Unconvincing', 'count': 2...</td>\n",
       "      <td>142</td>\n",
       "      <td>34</td>\n",
       "      <td>2017-09-22 15:00:22</td>\n",
       "      <td>-1</td>\n",
       "      <td>-142.0</td>\n",
       "    </tr>\n",
       "  </tbody>\n",
       "</table>\n",
       "</div>"
      ],
      "text/plain": [
       "      comments                                        description  duration  \\\n",
       "2547        10  Science fiction visions of the future show us ...       651   \n",
       "2548        32  In an unmissable talk about race and politics ...      1100   \n",
       "2549         8  With more than half of the world population li...       519   \n",
       "\n",
       "             event   film_date  languages       main_speaker  \\\n",
       "2547       TED2017  1492992000          1     Radhika Nagpal   \n",
       "2548  TEDxMileHigh  1499472000          1   Theo E.J. Wilson   \n",
       "2549       TED2017  1492992000          1  Karoliina Korppoo   \n",
       "\n",
       "                                                   name  num_speaker  \\\n",
       "2547  Radhika Nagpal: What intelligent machines can ...            1   \n",
       "2548  Theo E.J. Wilson: A black man goes undercover ...            1   \n",
       "2549  Karoliina Korppoo: How a video game might help...            1   \n",
       "\n",
       "      published_date                                            ratings  \\\n",
       "2547      1506006095  [{'id': 1, 'name': 'Beautiful', 'count': 14}, ...   \n",
       "2548      1506024042  [{'id': 11, 'name': 'Longwinded', 'count': 3},...   \n",
       "2549      1506092422  [{'id': 21, 'name': 'Unconvincing', 'count': 2...   \n",
       "\n",
       "                                          related_talks   speaker_occupation  \\\n",
       "2547  [{'id': 2346, 'hero': 'https://pe.tedcdn.com/i...    Robotics engineer   \n",
       "2548  [{'id': 2512, 'hero': 'https://pe.tedcdn.com/i...  Public intellectual   \n",
       "2549  [{'id': 2682, 'hero': 'https://pe.tedcdn.com/i...        Game designer   \n",
       "\n",
       "                                                   tags  \\\n",
       "2547  ['AI', 'ants', 'fish', 'future', 'innovation',...   \n",
       "2548  ['Internet', 'TEDx', 'United States', 'communi...   \n",
       "2549  ['cities', 'design', 'future', 'infrastructure...   \n",
       "\n",
       "                                                  title  \\\n",
       "2547  What intelligent machines can learn from a sch...   \n",
       "2548       A black man goes undercover in the alt-right   \n",
       "2549  How a video game might help us build better ci...   \n",
       "\n",
       "                                                    url   views  \\\n",
       "2547  https://www.ted.com/talks/radhika_nagpal_what_...  375647   \n",
       "2548  https://www.ted.com/talks/theo_e_j_wilson_a_bl...  419309   \n",
       "2549  https://www.ted.com/talks/karoliina_korppoo_ho...  391721   \n",
       "\n",
       "      comments_per_view  views_per_comment film_datetime  \\\n",
       "2547           0.000027        37564.70000    2017-04-24   \n",
       "2548           0.000076        13103.40625    2017-07-08   \n",
       "2549           0.000020        48965.12500    2017-04-24   \n",
       "\n",
       "                                           ratings_list  total_ratings_count  \\\n",
       "2547  [{'id': 1, 'name': 'Beautiful', 'count': 14}, ...                  136   \n",
       "2548  [{'id': 11, 'name': 'Longwinded', 'count': 3},...                  583   \n",
       "2549  [{'id': 21, 'name': 'Unconvincing', 'count': 2...                  142   \n",
       "\n",
       "      negative_comment_count  published_datetime  date_diff_days  \\\n",
       "2547                       1 2017-09-21 15:01:35               0   \n",
       "2548                      16 2017-09-21 20:00:42               0   \n",
       "2549                      34 2017-09-22 15:00:22              -1   \n",
       "\n",
       "      avg_ratings_count  \n",
       "2547                inf  \n",
       "2548                inf  \n",
       "2549             -142.0  "
      ]
     },
     "execution_count": 397,
     "metadata": {},
     "output_type": "execute_result"
    }
   ],
   "source": [
    "# outliers in the data\n",
    "df.loc[(df.avg_ratings_count < 0) | (df.avg_ratings_count == np.inf)]"
   ]
  },
  {
   "cell_type": "code",
   "execution_count": 398,
   "metadata": {},
   "outputs": [
    {
     "data": {
      "text/plain": [
       "count    2541.000000\n",
       "mean        2.589828\n",
       "std         7.549794\n",
       "min         0.054863\n",
       "25%         0.508009\n",
       "50%         1.028249\n",
       "75%         2.278826\n",
       "max       223.222222\n",
       "Name: avg_ratings_count, dtype: float64"
      ]
     },
     "execution_count": 398,
     "metadata": {},
     "output_type": "execute_result"
    }
   ],
   "source": [
    "# 1.Filter out rows where avg_ratings_count is negative\n",
    "# 2.Replace inf values with np.nan \n",
    "# 3.Drop missing values\n",
    "# 4.Dislay avg_ratings_count column statistics\n",
    "df.query('avg_ratings_count >= 0') \\\n",
    "    .replace([np.inf, -np.inf], np.NaN) \\\n",
    "    .dropna() \\\n",
    "    .avg_ratings_count \\\n",
    "    .describe()"
   ]
  },
  {
   "attachments": {},
   "cell_type": "markdown",
   "metadata": {},
   "source": [
    "[BACK TO TOP][def]\n",
    "\n",
    "[def]: #-TED-Talks-Dataset-Exploration"
   ]
  },
  {
   "attachments": {},
   "cell_type": "markdown",
   "metadata": {},
   "source": [
    "## 6.Analyze the occupations delivering funniest talks."
   ]
  },
  {
   "attachments": {},
   "cell_type": "markdown",
   "metadata": {},
   "source": [
    "#### i.Plot the top 20 occupations.\n",
    "    "
   ]
  },
  {
   "cell_type": "code",
   "execution_count": 399,
   "metadata": {},
   "outputs": [
    {
     "name": "stdout",
     "output_type": "stream",
     "text": [
      "{'id': 7, 'name': 'Funny', 'count': 19645}\n",
      "{'id': 1, 'name': 'Beautiful', 'count': 4573}\n",
      "{'id': 9, 'name': 'Ingenious', 'count': 6073}\n",
      "{'id': 3, 'name': 'Courageous', 'count': 3253}\n",
      "{'id': 11, 'name': 'Longwinded', 'count': 387}\n",
      "{'id': 2, 'name': 'Confusing', 'count': 242}\n",
      "{'id': 8, 'name': 'Informative', 'count': 7346}\n",
      "{'id': 22, 'name': 'Fascinating', 'count': 10581}\n",
      "{'id': 21, 'name': 'Unconvincing', 'count': 300}\n",
      "{'id': 24, 'name': 'Persuasive', 'count': 10704}\n",
      "{'id': 23, 'name': 'Jaw-dropping', 'count': 4439}\n",
      "{'id': 25, 'name': 'OK', 'count': 1174}\n",
      "{'id': 26, 'name': 'Obnoxious', 'count': 209}\n",
      "{'id': 10, 'name': 'Inspiring', 'count': 24924}\n"
     ]
    }
   ],
   "source": [
    "for d in df.ratings_list[0]:\n",
    "    print(d)"
   ]
  },
  {
   "cell_type": "code",
   "execution_count": 400,
   "metadata": {},
   "outputs": [
    {
     "data": {
      "text/plain": [
       "19645"
      ]
     },
     "execution_count": 400,
     "metadata": {},
     "output_type": "execute_result"
    }
   ],
   "source": [
    "funny_count = 0\n",
    "for d in df.ratings_list[0]:\n",
    "    if d['name'] == 'Funny':\n",
    "        funny_count += int(d['count'])\n",
    "funny_count"
   ]
  },
  {
   "cell_type": "code",
   "execution_count": 401,
   "metadata": {},
   "outputs": [],
   "source": [
    "from ted_talks import extract_funny_count\n",
    "\n",
    "# def extract_funny_count(dict_list: dict) -> int:\n",
    "#     funny_count = 0\n",
    "#     for d in dict_list:\n",
    "#         if d['name'] == 'Funny':\n",
    "#             funny_count += int(d['count'])\n",
    "#     return funny_count"
   ]
  },
  {
   "cell_type": "code",
   "execution_count": 402,
   "metadata": {},
   "outputs": [
    {
     "data": {
      "text/plain": [
       "0       19645\n",
       "1         544\n",
       "2         964\n",
       "3          59\n",
       "4        1390\n",
       "        ...  \n",
       "2545        1\n",
       "2546       20\n",
       "2547        1\n",
       "2548       63\n",
       "2549        0\n",
       "Name: ratings_list, Length: 2550, dtype: int64"
      ]
     },
     "execution_count": 402,
     "metadata": {},
     "output_type": "execute_result"
    }
   ],
   "source": [
    "df.ratings_list.apply(extract_funny_count)"
   ]
  },
  {
   "cell_type": "code",
   "execution_count": 403,
   "metadata": {},
   "outputs": [],
   "source": [
    "df['funny_ratings_count'] = df.ratings_list.apply(extract_funny_count)"
   ]
  },
  {
   "cell_type": "code",
   "execution_count": 422,
   "metadata": {},
   "outputs": [
    {
     "data": {
      "text/plain": [
       "speaker_occupation\n",
       "Author/educator                         24760\n",
       "Writer                                  12752\n",
       "Psychologist                            11387\n",
       "Comedian                                11034\n",
       "Comedian and writer                      9941\n",
       "Entrepreneur                             7666\n",
       "Blogger                                  7546\n",
       "Actor, comedian, playwright              6509\n",
       "Vulnerability researcher                 6176\n",
       "Data scientist                           6098\n",
       "Global health expert; data visionary     5401\n",
       "Performance poet, multimedia artist      5073\n",
       "Humorist, web artist                     5037\n",
       "Artist                                   4359\n",
       "Author                                   4158\n",
       "Designer                                 4028\n",
       "Advertising guru                         3535\n",
       "Novelist                                 3483\n",
       "Filmmaker                                3338\n",
       "Marketer, success analyst                3273\n",
       "Name: funny_ratings_count, dtype: int64"
      ]
     },
     "execution_count": 422,
     "metadata": {},
     "output_type": "execute_result"
    }
   ],
   "source": [
    "# Funniest 20 occupations by funny ratings count\n",
    "df.groupby('speaker_occupation')['funny_ratings_count'].sum() \\\n",
    "  .sort_values(ascending=False) \\\n",
    "  .head(20)"
   ]
  },
  {
   "cell_type": "code",
   "execution_count": 432,
   "metadata": {},
   "outputs": [
    {
     "data": {
      "text/html": [
       "<div>\n",
       "<style scoped>\n",
       "    .dataframe tbody tr th:only-of-type {\n",
       "        vertical-align: middle;\n",
       "    }\n",
       "\n",
       "    .dataframe tbody tr th {\n",
       "        vertical-align: top;\n",
       "    }\n",
       "\n",
       "    .dataframe thead th {\n",
       "        text-align: right;\n",
       "    }\n",
       "</style>\n",
       "<table border=\"1\" class=\"dataframe\">\n",
       "  <thead>\n",
       "    <tr style=\"text-align: right;\">\n",
       "      <th></th>\n",
       "      <th>speaker_occupation</th>\n",
       "      <th>title</th>\n",
       "      <th>funny_ratings_count</th>\n",
       "    </tr>\n",
       "  </thead>\n",
       "  <tbody>\n",
       "    <tr>\n",
       "      <th>0</th>\n",
       "      <td>Author/educator</td>\n",
       "      <td>Do schools kill creativity?</td>\n",
       "      <td>19645</td>\n",
       "    </tr>\n",
       "    <tr>\n",
       "      <th>2114</th>\n",
       "      <td>Comedian and writer</td>\n",
       "      <td>This is what happens when you reply to spam email</td>\n",
       "      <td>7731</td>\n",
       "    </tr>\n",
       "    <tr>\n",
       "      <th>2161</th>\n",
       "      <td>Blogger</td>\n",
       "      <td>Inside the mind of a master procrastinator</td>\n",
       "      <td>7445</td>\n",
       "    </tr>\n",
       "    <tr>\n",
       "      <th>1129</th>\n",
       "      <td>Psychologist</td>\n",
       "      <td>The happy secret to better work</td>\n",
       "      <td>7315</td>\n",
       "    </tr>\n",
       "    <tr>\n",
       "      <th>675</th>\n",
       "      <td>Data scientist</td>\n",
       "      <td>Lies, damned lies and statistics (about TEDTalks)</td>\n",
       "      <td>5552</td>\n",
       "    </tr>\n",
       "    <tr>\n",
       "      <th>837</th>\n",
       "      <td>Vulnerability researcher</td>\n",
       "      <td>The power of vulnerability</td>\n",
       "      <td>5225</td>\n",
       "    </tr>\n",
       "    <tr>\n",
       "      <th>452</th>\n",
       "      <td>Writer</td>\n",
       "      <td>10 things you didn't know about orgasm</td>\n",
       "      <td>4166</td>\n",
       "    </tr>\n",
       "    <tr>\n",
       "      <th>685</th>\n",
       "      <td>Actor, comedian, playwright</td>\n",
       "      <td>It's time for \"The Talk\"</td>\n",
       "      <td>4025</td>\n",
       "    </tr>\n",
       "    <tr>\n",
       "      <th>747</th>\n",
       "      <td>Comedian</td>\n",
       "      <td>Did you hear the one about the Iranian-American?</td>\n",
       "      <td>4013</td>\n",
       "    </tr>\n",
       "    <tr>\n",
       "      <th>692</th>\n",
       "      <td>Author/educator</td>\n",
       "      <td>Bring on the learning revolution!</td>\n",
       "      <td>3000</td>\n",
       "    </tr>\n",
       "    <tr>\n",
       "      <th>47</th>\n",
       "      <td>Marketer, success analyst</td>\n",
       "      <td>8 secrets of success</td>\n",
       "      <td>2966</td>\n",
       "    </tr>\n",
       "    <tr>\n",
       "      <th>21</th>\n",
       "      <td>Humorist, web artist</td>\n",
       "      <td>Nerdcore comedy</td>\n",
       "      <td>2799</td>\n",
       "    </tr>\n",
       "    <tr>\n",
       "      <th>1651</th>\n",
       "      <td>Comedian and writer</td>\n",
       "      <td>I got 99 problems ... palsy is just one</td>\n",
       "      <td>2779</td>\n",
       "    </tr>\n",
       "    <tr>\n",
       "      <th>43</th>\n",
       "      <td>Skeptic</td>\n",
       "      <td>Why people believe weird things</td>\n",
       "      <td>2751</td>\n",
       "    </tr>\n",
       "    <tr>\n",
       "      <th>6</th>\n",
       "      <td>Actor, comedian, playwright</td>\n",
       "      <td>Letting go of God</td>\n",
       "      <td>2484</td>\n",
       "    </tr>\n",
       "    <tr>\n",
       "      <th>1398</th>\n",
       "      <td>Comedian</td>\n",
       "      <td>A Saudi, an Indian and an Iranian walk into a ...</td>\n",
       "      <td>2466</td>\n",
       "    </tr>\n",
       "    <tr>\n",
       "      <th>124</th>\n",
       "      <td>Performance poet, multimedia artist</td>\n",
       "      <td>The  4 a.m. mystery</td>\n",
       "      <td>2460</td>\n",
       "    </tr>\n",
       "    <tr>\n",
       "      <th>1059</th>\n",
       "      <td>Comedian</td>\n",
       "      <td>The shared experience of absurdity</td>\n",
       "      <td>2401</td>\n",
       "    </tr>\n",
       "    <tr>\n",
       "      <th>535</th>\n",
       "      <td>Advertising guru</td>\n",
       "      <td>Life lessons from an ad man</td>\n",
       "      <td>2306</td>\n",
       "    </tr>\n",
       "    <tr>\n",
       "      <th>2273</th>\n",
       "      <td>Comedian and writer</td>\n",
       "      <td>The agony of trying to unsubscribe</td>\n",
       "      <td>2210</td>\n",
       "    </tr>\n",
       "  </tbody>\n",
       "</table>\n",
       "</div>"
      ],
      "text/plain": [
       "                       speaker_occupation  \\\n",
       "0                         Author/educator   \n",
       "2114                  Comedian and writer   \n",
       "2161                              Blogger   \n",
       "1129                         Psychologist   \n",
       "675                        Data scientist   \n",
       "837              Vulnerability researcher   \n",
       "452                                Writer   \n",
       "685           Actor, comedian, playwright   \n",
       "747                              Comedian   \n",
       "692                       Author/educator   \n",
       "47              Marketer, success analyst   \n",
       "21                   Humorist, web artist   \n",
       "1651                 Comedian and writer    \n",
       "43                                Skeptic   \n",
       "6             Actor, comedian, playwright   \n",
       "1398                             Comedian   \n",
       "124   Performance poet, multimedia artist   \n",
       "1059                             Comedian   \n",
       "535                      Advertising guru   \n",
       "2273                  Comedian and writer   \n",
       "\n",
       "                                                  title  funny_ratings_count  \n",
       "0                           Do schools kill creativity?                19645  \n",
       "2114  This is what happens when you reply to spam email                 7731  \n",
       "2161         Inside the mind of a master procrastinator                 7445  \n",
       "1129                    The happy secret to better work                 7315  \n",
       "675   Lies, damned lies and statistics (about TEDTalks)                 5552  \n",
       "837                          The power of vulnerability                 5225  \n",
       "452              10 things you didn't know about orgasm                 4166  \n",
       "685                            It's time for \"The Talk\"                 4025  \n",
       "747    Did you hear the one about the Iranian-American?                 4013  \n",
       "692                   Bring on the learning revolution!                 3000  \n",
       "47                                 8 secrets of success                 2966  \n",
       "21                                      Nerdcore comedy                 2799  \n",
       "1651            I got 99 problems ... palsy is just one                 2779  \n",
       "43                      Why people believe weird things                 2751  \n",
       "6                                     Letting go of God                 2484  \n",
       "1398  A Saudi, an Indian and an Iranian walk into a ...                 2466  \n",
       "124                                 The  4 a.m. mystery                 2460  \n",
       "1059                 The shared experience of absurdity                 2401  \n",
       "535                         Life lessons from an ad man                 2306  \n",
       "2273                 The agony of trying to unsubscribe                 2210  "
      ]
     },
     "execution_count": 432,
     "metadata": {},
     "output_type": "execute_result"
    }
   ],
   "source": [
    "# Funniest 20 titles by funny ratings count\n",
    "df.sort_values('funny_ratings_count', ascending=False) \\\n",
    "    [['speaker_occupation', 'title', 'funny_ratings_count']] \\\n",
    "    .head(20)"
   ]
  },
  {
   "cell_type": "code",
   "execution_count": 424,
   "metadata": {},
   "outputs": [
    {
     "data": {
      "text/html": [
       "<div>\n",
       "<style scoped>\n",
       "    .dataframe tbody tr th:only-of-type {\n",
       "        vertical-align: middle;\n",
       "    }\n",
       "\n",
       "    .dataframe tbody tr th {\n",
       "        vertical-align: top;\n",
       "    }\n",
       "\n",
       "    .dataframe thead th {\n",
       "        text-align: right;\n",
       "    }\n",
       "</style>\n",
       "<table border=\"1\" class=\"dataframe\">\n",
       "  <thead>\n",
       "    <tr style=\"text-align: right;\">\n",
       "      <th></th>\n",
       "      <th>speaker_occupation</th>\n",
       "      <th>title</th>\n",
       "      <th>funny_ratings_count</th>\n",
       "    </tr>\n",
       "  </thead>\n",
       "  <tbody>\n",
       "    <tr>\n",
       "      <th>2549</th>\n",
       "      <td>Game designer</td>\n",
       "      <td>How a video game might help us build better ci...</td>\n",
       "      <td>0</td>\n",
       "    </tr>\n",
       "    <tr>\n",
       "      <th>593</th>\n",
       "      <td>Engineer</td>\n",
       "      <td>Making maps to fight disaster, build economies</td>\n",
       "      <td>0</td>\n",
       "    </tr>\n",
       "    <tr>\n",
       "      <th>2437</th>\n",
       "      <td>Environmental engineer</td>\n",
       "      <td>Science in service to the public good</td>\n",
       "      <td>0</td>\n",
       "    </tr>\n",
       "    <tr>\n",
       "      <th>1618</th>\n",
       "      <td>Spinal cord researcher</td>\n",
       "      <td>The paralyzed rat that walked</td>\n",
       "      <td>0</td>\n",
       "    </tr>\n",
       "    <tr>\n",
       "      <th>612</th>\n",
       "      <td>Sculptor</td>\n",
       "      <td>The painter and the pendulum</td>\n",
       "      <td>0</td>\n",
       "    </tr>\n",
       "    <tr>\n",
       "      <th>1612</th>\n",
       "      <td>Biologist</td>\n",
       "      <td>A simple solution to the coming phosphorus crisis</td>\n",
       "      <td>0</td>\n",
       "    </tr>\n",
       "    <tr>\n",
       "      <th>628</th>\n",
       "      <td>Technologist</td>\n",
       "      <td>Is Pivot a turning point for web exploration?</td>\n",
       "      <td>0</td>\n",
       "    </tr>\n",
       "    <tr>\n",
       "      <th>657</th>\n",
       "      <td>Inventor</td>\n",
       "      <td>The emotion behind invention</td>\n",
       "      <td>0</td>\n",
       "    </tr>\n",
       "    <tr>\n",
       "      <th>2294</th>\n",
       "      <td>Immigration scholar</td>\n",
       "      <td>Immigrant voices make democracy stronger</td>\n",
       "      <td>0</td>\n",
       "    </tr>\n",
       "    <tr>\n",
       "      <th>2459</th>\n",
       "      <td>Molecular biologist</td>\n",
       "      <td>A secret weapon against Zika and other mosquit...</td>\n",
       "      <td>0</td>\n",
       "    </tr>\n",
       "    <tr>\n",
       "      <th>2464</th>\n",
       "      <td>Physician</td>\n",
       "      <td>No one should die because they live too far fr...</td>\n",
       "      <td>0</td>\n",
       "    </tr>\n",
       "    <tr>\n",
       "      <th>1671</th>\n",
       "      <td>Violence and abuse prevention expert</td>\n",
       "      <td>How we turned the tide on domestic violence (H...</td>\n",
       "      <td>0</td>\n",
       "    </tr>\n",
       "    <tr>\n",
       "      <th>695</th>\n",
       "      <td>Vaccine visionary</td>\n",
       "      <td>HIV and flu -- the vaccine strategy</td>\n",
       "      <td>0</td>\n",
       "    </tr>\n",
       "    <tr>\n",
       "      <th>719</th>\n",
       "      <td>Architect</td>\n",
       "      <td>Retrofitting suburbia</td>\n",
       "      <td>0</td>\n",
       "    </tr>\n",
       "    <tr>\n",
       "      <th>1428</th>\n",
       "      <td>Activist</td>\n",
       "      <td>Why Libya's revolution didn't work -- and what...</td>\n",
       "      <td>0</td>\n",
       "    </tr>\n",
       "    <tr>\n",
       "      <th>739</th>\n",
       "      <td>Oceanographer</td>\n",
       "      <td>Wiring an interactive ocean</td>\n",
       "      <td>0</td>\n",
       "    </tr>\n",
       "    <tr>\n",
       "      <th>750</th>\n",
       "      <td>Journalist</td>\n",
       "      <td>Inside an Antarctic time machine</td>\n",
       "      <td>0</td>\n",
       "    </tr>\n",
       "    <tr>\n",
       "      <th>2485</th>\n",
       "      <td>Journalist, news anchor</td>\n",
       "      <td>Why journalists have an obligation to challeng...</td>\n",
       "      <td>0</td>\n",
       "    </tr>\n",
       "    <tr>\n",
       "      <th>1396</th>\n",
       "      <td>Medicine law expert</td>\n",
       "      <td>Pool medical patents, save lives</td>\n",
       "      <td>0</td>\n",
       "    </tr>\n",
       "    <tr>\n",
       "      <th>1391</th>\n",
       "      <td>Editor</td>\n",
       "      <td>Why global jihad is losing</td>\n",
       "      <td>0</td>\n",
       "    </tr>\n",
       "  </tbody>\n",
       "</table>\n",
       "</div>"
      ],
      "text/plain": [
       "                        speaker_occupation  \\\n",
       "2549                         Game designer   \n",
       "593                               Engineer   \n",
       "2437                Environmental engineer   \n",
       "1618                Spinal cord researcher   \n",
       "612                               Sculptor   \n",
       "1612                             Biologist   \n",
       "628                           Technologist   \n",
       "657                               Inventor   \n",
       "2294                   Immigration scholar   \n",
       "2459                   Molecular biologist   \n",
       "2464                             Physician   \n",
       "1671  Violence and abuse prevention expert   \n",
       "695                      Vaccine visionary   \n",
       "719                              Architect   \n",
       "1428                              Activist   \n",
       "739                          Oceanographer   \n",
       "750                             Journalist   \n",
       "2485               Journalist, news anchor   \n",
       "1396                   Medicine law expert   \n",
       "1391                                Editor   \n",
       "\n",
       "                                                  title  funny_ratings_count  \n",
       "2549  How a video game might help us build better ci...                    0  \n",
       "593      Making maps to fight disaster, build economies                    0  \n",
       "2437              Science in service to the public good                    0  \n",
       "1618                      The paralyzed rat that walked                    0  \n",
       "612                        The painter and the pendulum                    0  \n",
       "1612  A simple solution to the coming phosphorus crisis                    0  \n",
       "628       Is Pivot a turning point for web exploration?                    0  \n",
       "657                        The emotion behind invention                    0  \n",
       "2294           Immigrant voices make democracy stronger                    0  \n",
       "2459  A secret weapon against Zika and other mosquit...                    0  \n",
       "2464  No one should die because they live too far fr...                    0  \n",
       "1671  How we turned the tide on domestic violence (H...                    0  \n",
       "695                 HIV and flu -- the vaccine strategy                    0  \n",
       "719                               Retrofitting suburbia                    0  \n",
       "1428  Why Libya's revolution didn't work -- and what...                    0  \n",
       "739                         Wiring an interactive ocean                    0  \n",
       "750                    Inside an Antarctic time machine                    0  \n",
       "2485  Why journalists have an obligation to challeng...                    0  \n",
       "1396                   Pool medical patents, save lives                    0  \n",
       "1391                         Why global jihad is losing                    0  "
      ]
     },
     "execution_count": 424,
     "metadata": {},
     "output_type": "execute_result"
    }
   ],
   "source": [
    "# Least funny titles by funny ratings count\n",
    "df.sort_values('funny_ratings_count') \\\n",
    "    [['speaker_occupation', 'title', 'funny_ratings_count']] \\\n",
    "    .head(20)"
   ]
  },
  {
   "cell_type": "code",
   "execution_count": 431,
   "metadata": {},
   "outputs": [
    {
     "data": {
      "text/html": [
       "<div>\n",
       "<style scoped>\n",
       "    .dataframe tbody tr th:only-of-type {\n",
       "        vertical-align: middle;\n",
       "    }\n",
       "\n",
       "    .dataframe tbody tr th {\n",
       "        vertical-align: top;\n",
       "    }\n",
       "\n",
       "    .dataframe thead th {\n",
       "        text-align: right;\n",
       "    }\n",
       "</style>\n",
       "<table border=\"1\" class=\"dataframe\">\n",
       "  <thead>\n",
       "    <tr style=\"text-align: right;\">\n",
       "      <th></th>\n",
       "      <th>speaker_occupation</th>\n",
       "      <th>title</th>\n",
       "      <th>views</th>\n",
       "      <th>total_ratings_count</th>\n",
       "      <th>funny_ratings_count</th>\n",
       "    </tr>\n",
       "  </thead>\n",
       "  <tbody>\n",
       "    <tr>\n",
       "      <th>1491</th>\n",
       "      <td>Photojournalist</td>\n",
       "      <td>The silent drama of photography</td>\n",
       "      <td>1593382</td>\n",
       "      <td>2104</td>\n",
       "      <td>0</td>\n",
       "    </tr>\n",
       "    <tr>\n",
       "      <th>2504</th>\n",
       "      <td>Cognitive neuroscientist</td>\n",
       "      <td>How your brain decides what is beautiful</td>\n",
       "      <td>1436714</td>\n",
       "      <td>588</td>\n",
       "      <td>0</td>\n",
       "    </tr>\n",
       "    <tr>\n",
       "      <th>2195</th>\n",
       "      <td>Financial expert</td>\n",
       "      <td>A provocative way to finance the fight against...</td>\n",
       "      <td>1184083</td>\n",
       "      <td>528</td>\n",
       "      <td>0</td>\n",
       "    </tr>\n",
       "    <tr>\n",
       "      <th>2132</th>\n",
       "      <td>Computational geneticist</td>\n",
       "      <td>How we'll fight the next deadly virus</td>\n",
       "      <td>1169214</td>\n",
       "      <td>553</td>\n",
       "      <td>0</td>\n",
       "    </tr>\n",
       "    <tr>\n",
       "      <th>1999</th>\n",
       "      <td>Photographer</td>\n",
       "      <td>A visual history of inequality in industrial A...</td>\n",
       "      <td>1165313</td>\n",
       "      <td>571</td>\n",
       "      <td>0</td>\n",
       "    </tr>\n",
       "    <tr>\n",
       "      <th>...</th>\n",
       "      <td>...</td>\n",
       "      <td>...</td>\n",
       "      <td>...</td>\n",
       "      <td>...</td>\n",
       "      <td>...</td>\n",
       "    </tr>\n",
       "    <tr>\n",
       "      <th>264</th>\n",
       "      <td>Craft artist, product designer</td>\n",
       "      <td>The wonder of Zulu wire art</td>\n",
       "      <td>294961</td>\n",
       "      <td>284</td>\n",
       "      <td>0</td>\n",
       "    </tr>\n",
       "    <tr>\n",
       "      <th>209</th>\n",
       "      <td>Singer-songwriter</td>\n",
       "      <td>\"M'Bifo\"</td>\n",
       "      <td>294936</td>\n",
       "      <td>934</td>\n",
       "      <td>0</td>\n",
       "    </tr>\n",
       "    <tr>\n",
       "      <th>772</th>\n",
       "      <td>HIV/AIDS fighter</td>\n",
       "      <td>Mothers helping mothers fight HIV</td>\n",
       "      <td>235221</td>\n",
       "      <td>279</td>\n",
       "      <td>0</td>\n",
       "    </tr>\n",
       "    <tr>\n",
       "      <th>195</th>\n",
       "      <td>Kenyan MP</td>\n",
       "      <td>A parable for Kenya</td>\n",
       "      <td>200726</td>\n",
       "      <td>520</td>\n",
       "      <td>0</td>\n",
       "    </tr>\n",
       "    <tr>\n",
       "      <th>323</th>\n",
       "      <td>Spiritual leader</td>\n",
       "      <td>The balancing act of compassion</td>\n",
       "      <td>176245</td>\n",
       "      <td>209</td>\n",
       "      <td>0</td>\n",
       "    </tr>\n",
       "  </tbody>\n",
       "</table>\n",
       "<p>73 rows × 5 columns</p>\n",
       "</div>"
      ],
      "text/plain": [
       "                  speaker_occupation  \\\n",
       "1491                 Photojournalist   \n",
       "2504        Cognitive neuroscientist   \n",
       "2195                Financial expert   \n",
       "2132        Computational geneticist   \n",
       "1999                    Photographer   \n",
       "...                              ...   \n",
       "264   Craft artist, product designer   \n",
       "209                Singer-songwriter   \n",
       "772                 HIV/AIDS fighter   \n",
       "195                        Kenyan MP   \n",
       "323                 Spiritual leader   \n",
       "\n",
       "                                                  title    views  \\\n",
       "1491                    The silent drama of photography  1593382   \n",
       "2504           How your brain decides what is beautiful  1436714   \n",
       "2195  A provocative way to finance the fight against...  1184083   \n",
       "2132              How we'll fight the next deadly virus  1169214   \n",
       "1999  A visual history of inequality in industrial A...  1165313   \n",
       "...                                                 ...      ...   \n",
       "264                         The wonder of Zulu wire art   294961   \n",
       "209                                            \"M'Bifo\"   294936   \n",
       "772                   Mothers helping mothers fight HIV   235221   \n",
       "195                                 A parable for Kenya   200726   \n",
       "323                     The balancing act of compassion   176245   \n",
       "\n",
       "      total_ratings_count  funny_ratings_count  \n",
       "1491                 2104                    0  \n",
       "2504                  588                    0  \n",
       "2195                  528                    0  \n",
       "2132                  553                    0  \n",
       "1999                  571                    0  \n",
       "...                   ...                  ...  \n",
       "264                   284                    0  \n",
       "209                   934                    0  \n",
       "772                   279                    0  \n",
       "195                   520                    0  \n",
       "323                   209                    0  \n",
       "\n",
       "[73 rows x 5 columns]"
      ]
     },
     "execution_count": 431,
     "metadata": {},
     "output_type": "execute_result"
    }
   ],
   "source": [
    "# Least funny titles by funny ratings count\n",
    "# Sorts the titles based on total view count in descending order\n",
    "df.query('funny_ratings_count == 0')\\\n",
    "    .sort_values('views', ascending=False) \\\n",
    "    [['speaker_occupation', 'title', 'views', 'total_ratings_count', 'funny_ratings_count']]"
   ]
  },
  {
   "cell_type": "code",
   "execution_count": 404,
   "metadata": {},
   "outputs": [
    {
     "data": {
      "image/png": "[encoded data removed]",
      "text/plain": [
       "<Figure size 432x288 with 1 Axes>"
      ]
     },
     "metadata": {
      "needs_background": "light"
     },
     "output_type": "display_data"
    }
   ],
   "source": [
    "# group the DataFrame by occupation, sum the funny_ratings_count, and plot the top 20 occupations\n",
    "df.groupby('speaker_occupation')['funny_ratings_count'].sum() \\\n",
    "  .sort_values(ascending=False) \\\n",
    "  .head(20) \\\n",
    "  .plot(kind='bar')\n",
    "\n",
    "# set the plot title and labels\n",
    "plt.title('Top 20 Occupations by Highest Funny Ratings Count')\n",
    "plt.xlabel('Occupation')\n",
    "plt.ylabel('Funny Ratings Count')\n",
    "\n",
    "# display the plot\n",
    "plt.show()"
   ]
  },
  {
   "attachments": {},
   "cell_type": "markdown",
   "metadata": {},
   "source": [
    "[BACK TO TOP][def]\n",
    "\n",
    "[def]: #-TED-Talks-Dataset-Exploration"
   ]
  },
  {
   "attachments": {},
   "cell_type": "markdown",
   "metadata": {},
   "source": [
    "#### ii.Calculate the funny ratings rate."
   ]
  },
  {
   "cell_type": "code",
   "execution_count": 405,
   "metadata": {},
   "outputs": [
    {
     "data": {
      "text/plain": [
       "0       0.209323\n",
       "1       0.185286\n",
       "2       0.341360\n",
       "3       0.015826\n",
       "4       0.054254\n",
       "          ...   \n",
       "2545    0.005208\n",
       "2546    0.132450\n",
       "2547    0.007353\n",
       "2548    0.108062\n",
       "2549    0.000000\n",
       "Length: 2550, dtype: float64"
      ]
     },
     "execution_count": 405,
     "metadata": {},
     "output_type": "execute_result"
    }
   ],
   "source": [
    "df.funny_ratings_count / df.total_ratings_count"
   ]
  },
  {
   "cell_type": "code",
   "execution_count": 406,
   "metadata": {},
   "outputs": [],
   "source": [
    "df['funny_ratings_rate'] = df.funny_ratings_count / df.total_ratings_count"
   ]
  },
  {
   "cell_type": "code",
   "execution_count": 407,
   "metadata": {},
   "outputs": [
    {
     "data": {
      "text/plain": [
       "count    2550.000000\n",
       "mean        0.050361\n",
       "std         0.087779\n",
       "min         0.000000\n",
       "25%         0.005922\n",
       "50%         0.014981\n",
       "75%         0.047736\n",
       "max         0.702076\n",
       "Name: funny_ratings_rate, dtype: float64"
      ]
     },
     "execution_count": 407,
     "metadata": {},
     "output_type": "execute_result"
    }
   ],
   "source": [
    "df.funny_ratings_rate.describe()"
   ]
  },
  {
   "cell_type": "code",
   "execution_count": 408,
   "metadata": {},
   "outputs": [
    {
     "data": {
      "text/html": [
       "<div>\n",
       "<style scoped>\n",
       "    .dataframe tbody tr th:only-of-type {\n",
       "        vertical-align: middle;\n",
       "    }\n",
       "\n",
       "    .dataframe tbody tr th {\n",
       "        vertical-align: top;\n",
       "    }\n",
       "\n",
       "    .dataframe thead th {\n",
       "        text-align: right;\n",
       "    }\n",
       "</style>\n",
       "<table border=\"1\" class=\"dataframe\">\n",
       "  <thead>\n",
       "    <tr style=\"text-align: right;\">\n",
       "      <th></th>\n",
       "      <th>speaker_occupation</th>\n",
       "      <th>title</th>\n",
       "    </tr>\n",
       "  </thead>\n",
       "  <tbody>\n",
       "    <tr>\n",
       "      <th>685</th>\n",
       "      <td>Actor, comedian, playwright</td>\n",
       "      <td>It's time for \"The Talk\"</td>\n",
       "    </tr>\n",
       "    <tr>\n",
       "      <th>1398</th>\n",
       "      <td>Comedian</td>\n",
       "      <td>A Saudi, an Indian and an Iranian walk into a ...</td>\n",
       "    </tr>\n",
       "    <tr>\n",
       "      <th>747</th>\n",
       "      <td>Comedian</td>\n",
       "      <td>Did you hear the one about the Iranian-American?</td>\n",
       "    </tr>\n",
       "    <tr>\n",
       "      <th>173</th>\n",
       "      <td>Investor</td>\n",
       "      <td>We're worried about local warming ... in your lap</td>\n",
       "    </tr>\n",
       "    <tr>\n",
       "      <th>2114</th>\n",
       "      <td>Comedian and writer</td>\n",
       "      <td>This is what happens when you reply to spam email</td>\n",
       "    </tr>\n",
       "    <tr>\n",
       "      <th>2273</th>\n",
       "      <td>Comedian and writer</td>\n",
       "      <td>The agony of trying to unsubscribe</td>\n",
       "    </tr>\n",
       "    <tr>\n",
       "      <th>194</th>\n",
       "      <td>Jugglers</td>\n",
       "      <td>Juggle and jest</td>\n",
       "    </tr>\n",
       "    <tr>\n",
       "      <th>21</th>\n",
       "      <td>Humorist, web artist</td>\n",
       "      <td>Nerdcore comedy</td>\n",
       "    </tr>\n",
       "    <tr>\n",
       "      <th>675</th>\n",
       "      <td>Data scientist</td>\n",
       "      <td>Lies, damned lies and statistics (about TEDTalks)</td>\n",
       "    </tr>\n",
       "    <tr>\n",
       "      <th>568</th>\n",
       "      <td>Comedian</td>\n",
       "      <td>A one-man world summit</td>\n",
       "    </tr>\n",
       "    <tr>\n",
       "      <th>2297</th>\n",
       "      <td>Actor, writer</td>\n",
       "      <td>Ideas worth dating</td>\n",
       "    </tr>\n",
       "    <tr>\n",
       "      <th>97</th>\n",
       "      <td>Satirist</td>\n",
       "      <td>A comic sendup of TED2006</td>\n",
       "    </tr>\n",
       "    <tr>\n",
       "      <th>1534</th>\n",
       "      <td>Cartoon editor</td>\n",
       "      <td>Anatomy of a New Yorker cartoon</td>\n",
       "    </tr>\n",
       "    <tr>\n",
       "      <th>595</th>\n",
       "      <td>Comedian, voice artist</td>\n",
       "      <td>All things are Moleeds</td>\n",
       "    </tr>\n",
       "    <tr>\n",
       "      <th>1468</th>\n",
       "      <td>Ornithologist</td>\n",
       "      <td>How a dead duck changed my life</td>\n",
       "    </tr>\n",
       "    <tr>\n",
       "      <th>1168</th>\n",
       "      <td>Social energy entrepreneur</td>\n",
       "      <td>A TED speaker's worst nightmare</td>\n",
       "    </tr>\n",
       "    <tr>\n",
       "      <th>315</th>\n",
       "      <td>Expert</td>\n",
       "      <td>Aliens, love -- where are they?</td>\n",
       "    </tr>\n",
       "    <tr>\n",
       "      <th>124</th>\n",
       "      <td>Performance poet, multimedia artist</td>\n",
       "      <td>The  4 a.m. mystery</td>\n",
       "    </tr>\n",
       "    <tr>\n",
       "      <th>337</th>\n",
       "      <td>Comedian</td>\n",
       "      <td>Tidying up art</td>\n",
       "    </tr>\n",
       "    <tr>\n",
       "      <th>1849</th>\n",
       "      <td>Science humorist</td>\n",
       "      <td>A science award that makes you laugh, then think</td>\n",
       "    </tr>\n",
       "  </tbody>\n",
       "</table>\n",
       "</div>"
      ],
      "text/plain": [
       "                       speaker_occupation  \\\n",
       "685           Actor, comedian, playwright   \n",
       "1398                             Comedian   \n",
       "747                              Comedian   \n",
       "173                              Investor   \n",
       "2114                  Comedian and writer   \n",
       "2273                  Comedian and writer   \n",
       "194                              Jugglers   \n",
       "21                   Humorist, web artist   \n",
       "675                        Data scientist   \n",
       "568                              Comedian   \n",
       "2297                        Actor, writer   \n",
       "97                               Satirist   \n",
       "1534                       Cartoon editor   \n",
       "595                Comedian, voice artist   \n",
       "1468                        Ornithologist   \n",
       "1168           Social energy entrepreneur   \n",
       "315                                Expert   \n",
       "124   Performance poet, multimedia artist   \n",
       "337                              Comedian   \n",
       "1849                     Science humorist   \n",
       "\n",
       "                                                  title  \n",
       "685                            It's time for \"The Talk\"  \n",
       "1398  A Saudi, an Indian and an Iranian walk into a ...  \n",
       "747    Did you hear the one about the Iranian-American?  \n",
       "173   We're worried about local warming ... in your lap  \n",
       "2114  This is what happens when you reply to spam email  \n",
       "2273                 The agony of trying to unsubscribe  \n",
       "194                                     Juggle and jest  \n",
       "21                                      Nerdcore comedy  \n",
       "675   Lies, damned lies and statistics (about TEDTalks)  \n",
       "568                              A one-man world summit  \n",
       "2297                                 Ideas worth dating  \n",
       "97                            A comic sendup of TED2006  \n",
       "1534                    Anatomy of a New Yorker cartoon  \n",
       "595                              All things are Moleeds  \n",
       "1468                    How a dead duck changed my life  \n",
       "1168                    A TED speaker's worst nightmare  \n",
       "315                     Aliens, love -- where are they?  \n",
       "124                                 The  4 a.m. mystery  \n",
       "337                                      Tidying up art  \n",
       "1849   A science award that makes you laugh, then think  "
      ]
     },
     "execution_count": 408,
     "metadata": {},
     "output_type": "execute_result"
    }
   ],
   "source": [
    "# Funniest 20 occupations by funny_ratings_rate\n",
    "df.sort_values('funny_ratings_rate', ascending=False) \\\n",
    "    [['speaker_occupation', 'title']] \\\n",
    "    .head(20)"
   ]
  },
  {
   "cell_type": "code",
   "execution_count": 409,
   "metadata": {},
   "outputs": [
    {
     "data": {
      "text/html": [
       "<div>\n",
       "<style scoped>\n",
       "    .dataframe tbody tr th:only-of-type {\n",
       "        vertical-align: middle;\n",
       "    }\n",
       "\n",
       "    .dataframe tbody tr th {\n",
       "        vertical-align: top;\n",
       "    }\n",
       "\n",
       "    .dataframe thead th {\n",
       "        text-align: right;\n",
       "    }\n",
       "</style>\n",
       "<table border=\"1\" class=\"dataframe\">\n",
       "  <thead>\n",
       "    <tr style=\"text-align: right;\">\n",
       "      <th></th>\n",
       "      <th>speaker_occupation</th>\n",
       "      <th>title</th>\n",
       "    </tr>\n",
       "  </thead>\n",
       "  <tbody>\n",
       "    <tr>\n",
       "      <th>2549</th>\n",
       "      <td>Game designer</td>\n",
       "      <td>How a video game might help us build better ci...</td>\n",
       "    </tr>\n",
       "    <tr>\n",
       "      <th>1612</th>\n",
       "      <td>Biologist</td>\n",
       "      <td>A simple solution to the coming phosphorus crisis</td>\n",
       "    </tr>\n",
       "    <tr>\n",
       "      <th>612</th>\n",
       "      <td>Sculptor</td>\n",
       "      <td>The painter and the pendulum</td>\n",
       "    </tr>\n",
       "    <tr>\n",
       "      <th>998</th>\n",
       "      <td>Penguin expert</td>\n",
       "      <td>The great penguin rescue</td>\n",
       "    </tr>\n",
       "    <tr>\n",
       "      <th>593</th>\n",
       "      <td>Engineer</td>\n",
       "      <td>Making maps to fight disaster, build economies</td>\n",
       "    </tr>\n",
       "    <tr>\n",
       "      <th>284</th>\n",
       "      <td>Space activist</td>\n",
       "      <td>Our next giant leap</td>\n",
       "    </tr>\n",
       "    <tr>\n",
       "      <th>1041</th>\n",
       "      <td>Biomedical engineer</td>\n",
       "      <td>A prosthetic arm that \"feels\"</td>\n",
       "    </tr>\n",
       "    <tr>\n",
       "      <th>1618</th>\n",
       "      <td>Spinal cord researcher</td>\n",
       "      <td>The paralyzed rat that walked</td>\n",
       "    </tr>\n",
       "    <tr>\n",
       "      <th>2132</th>\n",
       "      <td>Computational geneticist</td>\n",
       "      <td>How we'll fight the next deadly virus</td>\n",
       "    </tr>\n",
       "    <tr>\n",
       "      <th>442</th>\n",
       "      <td>Sculptor</td>\n",
       "      <td>Anti-gravity sculpture</td>\n",
       "    </tr>\n",
       "    <tr>\n",
       "      <th>426</th>\n",
       "      <td>Author, thinker</td>\n",
       "      <td>To upgrade is human</td>\n",
       "    </tr>\n",
       "    <tr>\n",
       "      <th>458</th>\n",
       "      <td>Educator</td>\n",
       "      <td>Why we're storing billions of seeds</td>\n",
       "    </tr>\n",
       "    <tr>\n",
       "      <th>2437</th>\n",
       "      <td>Environmental engineer</td>\n",
       "      <td>Science in service to the public good</td>\n",
       "    </tr>\n",
       "    <tr>\n",
       "      <th>1491</th>\n",
       "      <td>Photojournalist</td>\n",
       "      <td>The silent drama of photography</td>\n",
       "    </tr>\n",
       "    <tr>\n",
       "      <th>1893</th>\n",
       "      <td>Forensic anthropologist</td>\n",
       "      <td>A forensic anthropologist who brings closure f...</td>\n",
       "    </tr>\n",
       "    <tr>\n",
       "      <th>783</th>\n",
       "      <td>Marine biologist</td>\n",
       "      <td>Tagging tuna in the deep ocean</td>\n",
       "    </tr>\n",
       "    <tr>\n",
       "      <th>195</th>\n",
       "      <td>Kenyan MP</td>\n",
       "      <td>A parable for Kenya</td>\n",
       "    </tr>\n",
       "    <tr>\n",
       "      <th>772</th>\n",
       "      <td>HIV/AIDS fighter</td>\n",
       "      <td>Mothers helping mothers fight HIV</td>\n",
       "    </tr>\n",
       "    <tr>\n",
       "      <th>788</th>\n",
       "      <td>Building activist</td>\n",
       "      <td>Haiti's disaster of engineering</td>\n",
       "    </tr>\n",
       "    <tr>\n",
       "      <th>936</th>\n",
       "      <td>Neuroengineer</td>\n",
       "      <td>A light switch for neurons</td>\n",
       "    </tr>\n",
       "  </tbody>\n",
       "</table>\n",
       "</div>"
      ],
      "text/plain": [
       "            speaker_occupation  \\\n",
       "2549             Game designer   \n",
       "1612                 Biologist   \n",
       "612                   Sculptor   \n",
       "998             Penguin expert   \n",
       "593                   Engineer   \n",
       "284             Space activist   \n",
       "1041       Biomedical engineer   \n",
       "1618    Spinal cord researcher   \n",
       "2132  Computational geneticist   \n",
       "442                   Sculptor   \n",
       "426            Author, thinker   \n",
       "458                   Educator   \n",
       "2437    Environmental engineer   \n",
       "1491           Photojournalist   \n",
       "1893   Forensic anthropologist   \n",
       "783           Marine biologist   \n",
       "195                  Kenyan MP   \n",
       "772           HIV/AIDS fighter   \n",
       "788          Building activist   \n",
       "936              Neuroengineer   \n",
       "\n",
       "                                                  title  \n",
       "2549  How a video game might help us build better ci...  \n",
       "1612  A simple solution to the coming phosphorus crisis  \n",
       "612                        The painter and the pendulum  \n",
       "998                            The great penguin rescue  \n",
       "593      Making maps to fight disaster, build economies  \n",
       "284                                 Our next giant leap  \n",
       "1041                      A prosthetic arm that \"feels\"  \n",
       "1618                      The paralyzed rat that walked  \n",
       "2132              How we'll fight the next deadly virus  \n",
       "442                              Anti-gravity sculpture  \n",
       "426                                 To upgrade is human  \n",
       "458                 Why we're storing billions of seeds  \n",
       "2437              Science in service to the public good  \n",
       "1491                    The silent drama of photography  \n",
       "1893  A forensic anthropologist who brings closure f...  \n",
       "783                      Tagging tuna in the deep ocean  \n",
       "195                                 A parable for Kenya  \n",
       "772                   Mothers helping mothers fight HIV  \n",
       "788                     Haiti's disaster of engineering  \n",
       "936                          A light switch for neurons  "
      ]
     },
     "execution_count": 409,
     "metadata": {},
     "output_type": "execute_result"
    }
   ],
   "source": [
    "# Least funny 20 occupations by funny ratings rate\n",
    "df.sort_values('funny_ratings_rate') \\\n",
    "    [['speaker_occupation', 'title']] \\\n",
    "    .head(20)"
   ]
  },
  {
   "cell_type": "code",
   "execution_count": 410,
   "metadata": {},
   "outputs": [
    {
     "data": {
      "image/png": "[encoded data removed]",
      "text/plain": [
       "<Figure size 432x288 with 1 Axes>"
      ]
     },
     "metadata": {
      "needs_background": "light"
     },
     "output_type": "display_data"
    }
   ],
   "source": [
    "# group the DataFrame by occupation, sum the funny_ratings_count, and plot the top 20 occupations\n",
    "df.groupby('speaker_occupation')['funny_ratings_rate'].mean() \\\n",
    "  .sort_values(ascending=False) \\\n",
    "  .head(20) \\\n",
    "  .plot(kind='bar')\n",
    "\n",
    "# set the plot title and labels\n",
    "plt.title('Top 20 Occupations by Funny Ratings Percentage')\n",
    "plt.xlabel('Occupation')\n",
    "plt.ylabel('Funny Ratings Rate %')\n",
    "\n",
    "# display the plot\n",
    "plt.show()"
   ]
  },
  {
   "attachments": {},
   "cell_type": "markdown",
   "metadata": {},
   "source": [
    "[BACK TO TOP][def]\n",
    "\n",
    "[def]: #-TED-Talks-Dataset-Exploration"
   ]
  },
  {
   "attachments": {},
   "cell_type": "markdown",
   "metadata": {},
   "source": [
    "#### iii.Subplot occupations by funny ratings rate and funny ratins count."
   ]
  },
  {
   "cell_type": "code",
   "execution_count": 411,
   "metadata": {},
   "outputs": [
    {
     "data": {
      "image/png": "[encoded data removed]",
      "text/plain": [
       "<Figure size 864x360 with 2 Axes>"
      ]
     },
     "metadata": {
      "needs_background": "light"
     },
     "output_type": "display_data"
    }
   ],
   "source": [
    "# create a grid of subplots\n",
    "fig, axs = plt.subplots(1, 2, figsize=(12, 5))\n",
    "\n",
    "# plot the funny ratings count on the first subplot\n",
    "df.groupby('speaker_occupation')['funny_ratings_count'].sum() \\\n",
    "  .sort_values(ascending=False) \\\n",
    "  .head(20) \\\n",
    "  .plot(kind='bar', ax=axs[0])\n",
    "axs[0].set_title('Top 20 Occupations by Funny Ratings Count')\n",
    "axs[0].set_xlabel('Occupation')\n",
    "axs[0].set_ylabel('Funny Ratings Count')\n",
    "\n",
    "# plot the funny ratings rate on the second subplot\n",
    "df.groupby('speaker_occupation')['funny_ratings_rate'].mean() \\\n",
    "  .sort_values(ascending=False) \\\n",
    "  .head(20) \\\n",
    "  .plot(kind='bar', ax=axs[1])\n",
    "axs[1].set_title('Top 20 Occupations by Funny Ratings Rate')\n",
    "axs[1].set_xlabel('Occupation')\n",
    "axs[1].set_ylabel('Funny Ratings Rate')\n",
    "\n",
    "# adjust the subplot spacing and display the plot\n",
    "fig.subplots_adjust(wspace=0.4)\n",
    "plt.show()"
   ]
  },
  {
   "cell_type": "code",
   "execution_count": 415,
   "metadata": {},
   "outputs": [
    {
     "data": {
      "image/png": "[encoded data removed]",
      "text/plain": [
       "<Figure size 864x360 with 2 Axes>"
      ]
     },
     "metadata": {
      "needs_background": "light"
     },
     "output_type": "display_data"
    }
   ],
   "source": [
    "# create a grid of subplots\n",
    "fig, axs = plt.subplots(1, 2, figsize=(12, 5))\n",
    "\n",
    "# plot the least funny occupations by count on the first subplot\n",
    "df.groupby('speaker_occupation')['funny_ratings_count'] \\\n",
    "    .sum() \\\n",
    "    .sort_values() \\\n",
    "    .head(20) \\\n",
    "    .plot(kind='bar', ax=axs[0])\n",
    "axs[0].set_title('Top 20 Least Funny Occupations by Funny Ratings Count')\n",
    "axs[0].set_xlabel('Occupation')\n",
    "axs[0].set_ylabel('Funny Ratings Count')\n",
    "\n",
    "# plot the least funny occupations by rate on the second subplot\n",
    "df.groupby('speaker_occupation')['funny_ratings_rate'] \\\n",
    "    .mean() \\\n",
    "    .sort_values() \\\n",
    "    .head(20) \\\n",
    "    .plot(kind='bar', ax=axs[1])\n",
    "axs[1].set_title('Top 20 Least Funny Occupations by Funny Ratings Rate')\n",
    "axs[1].set_xlabel('Occupation')\n",
    "axs[1].set_ylabel('Funny Ratings Count')\n",
    "\n",
    "# adjust the subplot spacing and display the plot\n",
    "fig.subplots_adjust(wspace=0.4)\n",
    "plt.show()"
   ]
  },
  {
   "attachments": {},
   "cell_type": "markdown",
   "metadata": {},
   "source": [
    "[BACK TO TOP][def]\n",
    "\n",
    "[def]: #-TED-Talks-Dataset-Exploration"
   ]
  }
 ],
 "metadata": {
  "kernelspec": {
   "display_name": "Python 3",
   "language": "python",
   "name": "python3"
  },
  "language_info": {
   "codemirror_mode": {
    "name": "ipython",
    "version": 3
   },
   "file_extension": ".py",
   "mimetype": "text/x-python",
   "name": "python",
   "nbconvert_exporter": "python",
   "pygments_lexer": "ipython3",
   "version": "3.10.4"
  },
  "orig_nbformat": 4,
  "vscode": {
   "interpreter": {
    "hash": "aee8b7b246df8f9039afb4144a1f6fd8d2ca17a180786b69acc140d282b71a49"
   }
  }
 },
 "nbformat": 4,
 "nbformat_minor": 2
}
