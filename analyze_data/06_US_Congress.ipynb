{
 "cells": [
  {
   "cell_type": "code",
   "execution_count": 1,
   "metadata": {},
   "outputs": [],
   "source": [
    "import pandas as pd \n",
    "import numpy as np\n",
    "pd.set_option('display.max_columns', 200)\n",
    "import matplotlib.pyplot as plt "
   ]
  },
  {
   "cell_type": "code",
   "execution_count": 2,
   "metadata": {},
   "outputs": [],
   "source": [
    "import sys \n",
    "sys.path.append('../') # add the parent directory to the path"
   ]
  },
  {
   "attachments": {},
   "cell_type": "markdown",
   "metadata": {},
   "source": [
    "### GENERATE MARKDOWN TEXT"
   ]
  },
  {
   "cell_type": "code",
   "execution_count": 24,
   "metadata": {},
   "outputs": [
    {
     "data": {
      "text/plain": [
       "'4. [Display the count of Congressional members on a state-by-state basis.](#-4.Display-the-count-of-Congressional-members-on-a-state-by-state-basis.)'"
      ]
     },
     "execution_count": 24,
     "metadata": {},
     "output_type": "execute_result"
    }
   ],
   "source": [
    "from helper.generate_markdown import generate_markdown_text\n",
    "generate_markdown_text('4.Display the count of Congressional members on a state-by-state basis.')"
   ]
  },
  {
   "attachments": {},
   "cell_type": "markdown",
   "metadata": {},
   "source": [
    "# Explore Pandas GroupBy and Memory Optimization using US Congress Dataset\n",
    "1. [Find columns composed of missing values only.](#-1.Find-columns-composed-of-missing-values-only.)\n",
    "2. [Compare the memory usage of each object column.](#-2.Compare-the-memory-usage-of-each-object-column.)\n",
    "3. [Create a new df and run dtype transformation.](#-3.Create-a-new-df-and-run-dtype-transformation.)\n",
    "4. [Display the count of Congressional members on a state-by-state basis.](#-4.Display-the-count-of-Congressional-members-on-a-state-by-state-basis.)"
   ]
  },
  {
   "cell_type": "code",
   "execution_count": 4,
   "metadata": {},
   "outputs": [
    {
     "data": {
      "text/plain": [
       "(11975, 34)"
      ]
     },
     "execution_count": 4,
     "metadata": {},
     "output_type": "execute_result"
    }
   ],
   "source": [
    "df = pd.read_csv('../data/external/legislators-historical.csv')\n",
    "\n",
    "df.shape"
   ]
  },
  {
   "cell_type": "code",
   "execution_count": 5,
   "metadata": {},
   "outputs": [
    {
     "data": {
      "text/plain": [
       "Index(['last_name', 'first_name', 'middle_name', 'suffix', 'nickname',\n",
       "       'full_name', 'birthday', 'gender', 'type', 'state', 'district',\n",
       "       'senate_class', 'party', 'url', 'address', 'phone', 'contact_form',\n",
       "       'rss_url', 'twitter', 'facebook', 'youtube', 'youtube_id',\n",
       "       'bioguide_id', 'thomas_id', 'opensecrets_id', 'lis_id', 'fec_ids',\n",
       "       'cspan_id', 'govtrack_id', 'votesmart_id', 'ballotpedia_id',\n",
       "       'washington_post_id', 'icpsr_id', 'wikipedia_id'],\n",
       "      dtype='object')"
      ]
     },
     "execution_count": 5,
     "metadata": {},
     "output_type": "execute_result"
    }
   ],
   "source": [
    "df.columns"
   ]
  },
  {
   "cell_type": "code",
   "execution_count": 6,
   "metadata": {},
   "outputs": [
    {
     "data": {
      "text/html": [
       "<div>\n",
       "<style scoped>\n",
       "    .dataframe tbody tr th:only-of-type {\n",
       "        vertical-align: middle;\n",
       "    }\n",
       "\n",
       "    .dataframe tbody tr th {\n",
       "        vertical-align: top;\n",
       "    }\n",
       "\n",
       "    .dataframe thead th {\n",
       "        text-align: right;\n",
       "    }\n",
       "</style>\n",
       "<table border=\"1\" class=\"dataframe\">\n",
       "  <thead>\n",
       "    <tr style=\"text-align: right;\">\n",
       "      <th></th>\n",
       "      <th>last_name</th>\n",
       "      <th>first_name</th>\n",
       "      <th>middle_name</th>\n",
       "      <th>suffix</th>\n",
       "      <th>nickname</th>\n",
       "      <th>full_name</th>\n",
       "      <th>birthday</th>\n",
       "      <th>gender</th>\n",
       "      <th>type</th>\n",
       "      <th>state</th>\n",
       "      <th>district</th>\n",
       "      <th>senate_class</th>\n",
       "      <th>party</th>\n",
       "      <th>url</th>\n",
       "      <th>address</th>\n",
       "      <th>phone</th>\n",
       "      <th>contact_form</th>\n",
       "      <th>rss_url</th>\n",
       "      <th>twitter</th>\n",
       "      <th>facebook</th>\n",
       "      <th>youtube</th>\n",
       "      <th>youtube_id</th>\n",
       "      <th>bioguide_id</th>\n",
       "      <th>thomas_id</th>\n",
       "      <th>opensecrets_id</th>\n",
       "      <th>lis_id</th>\n",
       "      <th>fec_ids</th>\n",
       "      <th>cspan_id</th>\n",
       "      <th>govtrack_id</th>\n",
       "      <th>votesmart_id</th>\n",
       "      <th>ballotpedia_id</th>\n",
       "      <th>washington_post_id</th>\n",
       "      <th>icpsr_id</th>\n",
       "      <th>wikipedia_id</th>\n",
       "    </tr>\n",
       "  </thead>\n",
       "  <tbody>\n",
       "    <tr>\n",
       "      <th>0</th>\n",
       "      <td>Bassett</td>\n",
       "      <td>Richard</td>\n",
       "      <td>NaN</td>\n",
       "      <td>NaN</td>\n",
       "      <td>NaN</td>\n",
       "      <td>NaN</td>\n",
       "      <td>1745-04-02</td>\n",
       "      <td>M</td>\n",
       "      <td>sen</td>\n",
       "      <td>DE</td>\n",
       "      <td>NaN</td>\n",
       "      <td>2.0</td>\n",
       "      <td>Anti-Administration</td>\n",
       "      <td>NaN</td>\n",
       "      <td>NaN</td>\n",
       "      <td>NaN</td>\n",
       "      <td>NaN</td>\n",
       "      <td>NaN</td>\n",
       "      <td>NaN</td>\n",
       "      <td>NaN</td>\n",
       "      <td>NaN</td>\n",
       "      <td>NaN</td>\n",
       "      <td>B000226</td>\n",
       "      <td>NaN</td>\n",
       "      <td>NaN</td>\n",
       "      <td>NaN</td>\n",
       "      <td>NaN</td>\n",
       "      <td>NaN</td>\n",
       "      <td>401222</td>\n",
       "      <td>NaN</td>\n",
       "      <td>NaN</td>\n",
       "      <td>NaN</td>\n",
       "      <td>507.0</td>\n",
       "      <td>Richard Bassett (politician)</td>\n",
       "    </tr>\n",
       "    <tr>\n",
       "      <th>1</th>\n",
       "      <td>Bland</td>\n",
       "      <td>Theodorick</td>\n",
       "      <td>NaN</td>\n",
       "      <td>NaN</td>\n",
       "      <td>NaN</td>\n",
       "      <td>NaN</td>\n",
       "      <td>1742-03-21</td>\n",
       "      <td>M</td>\n",
       "      <td>rep</td>\n",
       "      <td>VA</td>\n",
       "      <td>9.0</td>\n",
       "      <td>NaN</td>\n",
       "      <td>NaN</td>\n",
       "      <td>NaN</td>\n",
       "      <td>NaN</td>\n",
       "      <td>NaN</td>\n",
       "      <td>NaN</td>\n",
       "      <td>NaN</td>\n",
       "      <td>NaN</td>\n",
       "      <td>NaN</td>\n",
       "      <td>NaN</td>\n",
       "      <td>NaN</td>\n",
       "      <td>B000546</td>\n",
       "      <td>NaN</td>\n",
       "      <td>NaN</td>\n",
       "      <td>NaN</td>\n",
       "      <td>NaN</td>\n",
       "      <td>NaN</td>\n",
       "      <td>401521</td>\n",
       "      <td>NaN</td>\n",
       "      <td>NaN</td>\n",
       "      <td>NaN</td>\n",
       "      <td>786.0</td>\n",
       "      <td>Theodorick Bland (congressman)</td>\n",
       "    </tr>\n",
       "    <tr>\n",
       "      <th>2</th>\n",
       "      <td>Burke</td>\n",
       "      <td>Aedanus</td>\n",
       "      <td>NaN</td>\n",
       "      <td>NaN</td>\n",
       "      <td>NaN</td>\n",
       "      <td>NaN</td>\n",
       "      <td>1743-06-16</td>\n",
       "      <td>M</td>\n",
       "      <td>rep</td>\n",
       "      <td>SC</td>\n",
       "      <td>2.0</td>\n",
       "      <td>NaN</td>\n",
       "      <td>NaN</td>\n",
       "      <td>NaN</td>\n",
       "      <td>NaN</td>\n",
       "      <td>NaN</td>\n",
       "      <td>NaN</td>\n",
       "      <td>NaN</td>\n",
       "      <td>NaN</td>\n",
       "      <td>NaN</td>\n",
       "      <td>NaN</td>\n",
       "      <td>NaN</td>\n",
       "      <td>B001086</td>\n",
       "      <td>NaN</td>\n",
       "      <td>NaN</td>\n",
       "      <td>NaN</td>\n",
       "      <td>NaN</td>\n",
       "      <td>NaN</td>\n",
       "      <td>402032</td>\n",
       "      <td>NaN</td>\n",
       "      <td>NaN</td>\n",
       "      <td>NaN</td>\n",
       "      <td>1260.0</td>\n",
       "      <td>Aedanus Burke</td>\n",
       "    </tr>\n",
       "    <tr>\n",
       "      <th>3</th>\n",
       "      <td>Carroll</td>\n",
       "      <td>Daniel</td>\n",
       "      <td>NaN</td>\n",
       "      <td>NaN</td>\n",
       "      <td>NaN</td>\n",
       "      <td>NaN</td>\n",
       "      <td>1730-07-22</td>\n",
       "      <td>M</td>\n",
       "      <td>rep</td>\n",
       "      <td>MD</td>\n",
       "      <td>6.0</td>\n",
       "      <td>NaN</td>\n",
       "      <td>NaN</td>\n",
       "      <td>NaN</td>\n",
       "      <td>NaN</td>\n",
       "      <td>NaN</td>\n",
       "      <td>NaN</td>\n",
       "      <td>NaN</td>\n",
       "      <td>NaN</td>\n",
       "      <td>NaN</td>\n",
       "      <td>NaN</td>\n",
       "      <td>NaN</td>\n",
       "      <td>C000187</td>\n",
       "      <td>NaN</td>\n",
       "      <td>NaN</td>\n",
       "      <td>NaN</td>\n",
       "      <td>NaN</td>\n",
       "      <td>NaN</td>\n",
       "      <td>402334</td>\n",
       "      <td>NaN</td>\n",
       "      <td>NaN</td>\n",
       "      <td>NaN</td>\n",
       "      <td>1538.0</td>\n",
       "      <td>Daniel Carroll</td>\n",
       "    </tr>\n",
       "    <tr>\n",
       "      <th>4</th>\n",
       "      <td>Clymer</td>\n",
       "      <td>George</td>\n",
       "      <td>NaN</td>\n",
       "      <td>NaN</td>\n",
       "      <td>NaN</td>\n",
       "      <td>NaN</td>\n",
       "      <td>1739-03-16</td>\n",
       "      <td>M</td>\n",
       "      <td>rep</td>\n",
       "      <td>PA</td>\n",
       "      <td>-1.0</td>\n",
       "      <td>NaN</td>\n",
       "      <td>NaN</td>\n",
       "      <td>NaN</td>\n",
       "      <td>NaN</td>\n",
       "      <td>NaN</td>\n",
       "      <td>NaN</td>\n",
       "      <td>NaN</td>\n",
       "      <td>NaN</td>\n",
       "      <td>NaN</td>\n",
       "      <td>NaN</td>\n",
       "      <td>NaN</td>\n",
       "      <td>C000538</td>\n",
       "      <td>NaN</td>\n",
       "      <td>NaN</td>\n",
       "      <td>NaN</td>\n",
       "      <td>NaN</td>\n",
       "      <td>NaN</td>\n",
       "      <td>402671</td>\n",
       "      <td>NaN</td>\n",
       "      <td>NaN</td>\n",
       "      <td>NaN</td>\n",
       "      <td>1859.0</td>\n",
       "      <td>George Clymer</td>\n",
       "    </tr>\n",
       "  </tbody>\n",
       "</table>\n",
       "</div>"
      ],
      "text/plain": [
       "  last_name  first_name middle_name suffix nickname full_name    birthday  \\\n",
       "0   Bassett     Richard         NaN    NaN      NaN       NaN  1745-04-02   \n",
       "1     Bland  Theodorick         NaN    NaN      NaN       NaN  1742-03-21   \n",
       "2     Burke     Aedanus         NaN    NaN      NaN       NaN  1743-06-16   \n",
       "3   Carroll      Daniel         NaN    NaN      NaN       NaN  1730-07-22   \n",
       "4    Clymer      George         NaN    NaN      NaN       NaN  1739-03-16   \n",
       "\n",
       "  gender type state  district  senate_class                party  url address  \\\n",
       "0      M  sen    DE       NaN           2.0  Anti-Administration  NaN     NaN   \n",
       "1      M  rep    VA       9.0           NaN                  NaN  NaN     NaN   \n",
       "2      M  rep    SC       2.0           NaN                  NaN  NaN     NaN   \n",
       "3      M  rep    MD       6.0           NaN                  NaN  NaN     NaN   \n",
       "4      M  rep    PA      -1.0           NaN                  NaN  NaN     NaN   \n",
       "\n",
       "  phone contact_form rss_url  twitter  facebook  youtube  youtube_id  \\\n",
       "0   NaN          NaN     NaN      NaN       NaN      NaN         NaN   \n",
       "1   NaN          NaN     NaN      NaN       NaN      NaN         NaN   \n",
       "2   NaN          NaN     NaN      NaN       NaN      NaN         NaN   \n",
       "3   NaN          NaN     NaN      NaN       NaN      NaN         NaN   \n",
       "4   NaN          NaN     NaN      NaN       NaN      NaN         NaN   \n",
       "\n",
       "  bioguide_id  thomas_id opensecrets_id lis_id fec_ids  cspan_id  govtrack_id  \\\n",
       "0     B000226        NaN            NaN    NaN     NaN       NaN       401222   \n",
       "1     B000546        NaN            NaN    NaN     NaN       NaN       401521   \n",
       "2     B001086        NaN            NaN    NaN     NaN       NaN       402032   \n",
       "3     C000187        NaN            NaN    NaN     NaN       NaN       402334   \n",
       "4     C000538        NaN            NaN    NaN     NaN       NaN       402671   \n",
       "\n",
       "   votesmart_id ballotpedia_id  washington_post_id  icpsr_id  \\\n",
       "0           NaN            NaN                 NaN     507.0   \n",
       "1           NaN            NaN                 NaN     786.0   \n",
       "2           NaN            NaN                 NaN    1260.0   \n",
       "3           NaN            NaN                 NaN    1538.0   \n",
       "4           NaN            NaN                 NaN    1859.0   \n",
       "\n",
       "                     wikipedia_id  \n",
       "0    Richard Bassett (politician)  \n",
       "1  Theodorick Bland (congressman)  \n",
       "2                   Aedanus Burke  \n",
       "3                  Daniel Carroll  \n",
       "4                   George Clymer  "
      ]
     },
     "execution_count": 6,
     "metadata": {},
     "output_type": "execute_result"
    }
   ],
   "source": [
    "df.head()"
   ]
  },
  {
   "attachments": {},
   "cell_type": "markdown",
   "metadata": {},
   "source": [
    "### 1.Find columns composed of missing values only."
   ]
  },
  {
   "cell_type": "code",
   "execution_count": 7,
   "metadata": {},
   "outputs": [
    {
     "data": {
      "text/plain": [
       "last_name             False\n",
       "first_name            False\n",
       "middle_name           False\n",
       "suffix                False\n",
       "nickname              False\n",
       "full_name             False\n",
       "birthday              False\n",
       "gender                False\n",
       "type                  False\n",
       "state                 False\n",
       "district              False\n",
       "senate_class          False\n",
       "party                 False\n",
       "url                   False\n",
       "address               False\n",
       "phone                 False\n",
       "contact_form          False\n",
       "rss_url               False\n",
       "twitter                True\n",
       "facebook               True\n",
       "youtube                True\n",
       "youtube_id             True\n",
       "bioguide_id           False\n",
       "thomas_id             False\n",
       "opensecrets_id        False\n",
       "lis_id                False\n",
       "fec_ids               False\n",
       "cspan_id              False\n",
       "govtrack_id           False\n",
       "votesmart_id          False\n",
       "ballotpedia_id        False\n",
       "washington_post_id     True\n",
       "icpsr_id              False\n",
       "wikipedia_id          False\n",
       "dtype: bool"
      ]
     },
     "execution_count": 7,
     "metadata": {},
     "output_type": "execute_result"
    }
   ],
   "source": [
    "df.isnull().all()"
   ]
  },
  {
   "cell_type": "code",
   "execution_count": 8,
   "metadata": {},
   "outputs": [
    {
     "data": {
      "text/plain": [
       "Index(['twitter', 'facebook', 'youtube', 'youtube_id', 'washington_post_id'], dtype='object')"
      ]
     },
     "execution_count": 8,
     "metadata": {},
     "output_type": "execute_result"
    }
   ],
   "source": [
    "# filter the null-only columns\n",
    "df.columns[df.isnull().all()]"
   ]
  },
  {
   "cell_type": "code",
   "execution_count": 9,
   "metadata": {},
   "outputs": [
    {
     "data": {
      "text/plain": [
       "['twitter', 'facebook', 'youtube', 'youtube_id', 'washington_post_id']"
      ]
     },
     "execution_count": 9,
     "metadata": {},
     "output_type": "execute_result"
    }
   ],
   "source": [
    "# save the null only column as list\n",
    "null_col_list = df.columns[df.isnull().all()].to_list()\n",
    "null_col_list"
   ]
  },
  {
   "cell_type": "code",
   "execution_count": 10,
   "metadata": {},
   "outputs": [
    {
     "data": {
      "text/plain": [
       "Index(['last_name', 'first_name', 'middle_name', 'suffix', 'nickname',\n",
       "       'full_name', 'birthday', 'gender', 'type', 'state', 'district',\n",
       "       'senate_class', 'party', 'url', 'address', 'phone', 'contact_form',\n",
       "       'rss_url', 'bioguide_id', 'thomas_id', 'opensecrets_id', 'lis_id',\n",
       "       'fec_ids', 'cspan_id', 'govtrack_id', 'votesmart_id', 'ballotpedia_id',\n",
       "       'icpsr_id', 'wikipedia_id'],\n",
       "      dtype='object')"
      ]
     },
     "execution_count": 10,
     "metadata": {},
     "output_type": "execute_result"
    }
   ],
   "source": [
    "# method 1: pass in the null_col_list\n",
    "df.drop(null_col_list, axis=1).columns"
   ]
  },
  {
   "cell_type": "code",
   "execution_count": 11,
   "metadata": {},
   "outputs": [],
   "source": [
    "# method 2: use dropna(how='all') method\n",
    "df = df.dropna(how='all', axis=1)"
   ]
  },
  {
   "cell_type": "code",
   "execution_count": 12,
   "metadata": {},
   "outputs": [
    {
     "data": {
      "text/plain": [
       "(11975, 29)"
      ]
     },
     "execution_count": 12,
     "metadata": {},
     "output_type": "execute_result"
    }
   ],
   "source": [
    "df.shape"
   ]
  },
  {
   "attachments": {},
   "cell_type": "markdown",
   "metadata": {},
   "source": [
    "[BACK TO TOP][def]\n",
    "\n",
    "[def]: #explore-pandas-groupby-and-memory-optimization-using-us-congress-dataset "
   ]
  },
  {
   "attachments": {},
   "cell_type": "markdown",
   "metadata": {},
   "source": [
    "### 2.Compare the memory usage of each object column."
   ]
  },
  {
   "cell_type": "code",
   "execution_count": 13,
   "metadata": {},
   "outputs": [
    {
     "data": {
      "text/plain": [
       "'12 MB'"
      ]
     },
     "execution_count": 13,
     "metadata": {},
     "output_type": "execute_result"
    }
   ],
   "source": [
    "# calculate the dataframe memory usage\n",
    "df_memory_usage = f\"{round(df.memory_usage(index=False, deep=True).sum() / 1_048_576)} MB\" # exclude Index\n",
    "\n",
    "df_memory_usage"
   ]
  },
  {
   "cell_type": "code",
   "execution_count": 14,
   "metadata": {},
   "outputs": [
    {
     "data": {
      "text/plain": [
       "['last_name', 'first_name', 'middle_name', 'suffix', 'nickname']"
      ]
     },
     "execution_count": 14,
     "metadata": {},
     "output_type": "execute_result"
    }
   ],
   "source": [
    "# save the dataframe columns as python list\n",
    "col_list = df.columns.to_list()\n",
    "\n",
    "# check the first five elements\n",
    "col_list[:5]"
   ]
  },
  {
   "cell_type": "code",
   "execution_count": 15,
   "metadata": {},
   "outputs": [
    {
     "data": {
      "text/plain": [
       "['last_name',\n",
       " 'first_name',\n",
       " 'middle_name',\n",
       " 'suffix',\n",
       " 'nickname',\n",
       " 'full_name',\n",
       " 'birthday',\n",
       " 'gender',\n",
       " 'type',\n",
       " 'state',\n",
       " 'party',\n",
       " 'url',\n",
       " 'address',\n",
       " 'phone',\n",
       " 'contact_form',\n",
       " 'rss_url',\n",
       " 'bioguide_id',\n",
       " 'opensecrets_id',\n",
       " 'lis_id',\n",
       " 'fec_ids',\n",
       " 'ballotpedia_id',\n",
       " 'wikipedia_id']"
      ]
     },
     "execution_count": 15,
     "metadata": {},
     "output_type": "execute_result"
    }
   ],
   "source": [
    "# filter out the columns that are of object type\n",
    "col_list = [col for col in df.columns.to_list() if df[col].dtype == 'object' ]\n",
    "col_list"
   ]
  },
  {
   "cell_type": "code",
   "execution_count": 16,
   "metadata": {},
   "outputs": [
    {
     "data": {
      "text/plain": [
       "{'last_name': 762391,\n",
       " 'first_name': 752837,\n",
       " 'middle_name': 643952,\n",
       " 'suffix': 395006,\n",
       " 'nickname': 389830,\n",
       " 'full_name': 396610,\n",
       " 'birthday': 782970,\n",
       " 'gender': 694550,\n",
       " 'type': 718500,\n",
       " 'state': 706525,\n",
       " 'party': 781452,\n",
       " 'url': 416118,\n",
       " 'address': 408825,\n",
       " 'phone': 395965,\n",
       " 'contact_form': 398773,\n",
       " 'rss_url': 396687,\n",
       " 'bioguide_id': 766400,\n",
       " 'opensecrets_id': 405810,\n",
       " 'lis_id': 388739,\n",
       " 'fec_ids': 401912,\n",
       " 'ballotpedia_id': 390491,\n",
       " 'wikipedia_id': 896606,\n",
       " 'TOTAL MEMORY USAGE': 12290949}"
      ]
     },
     "execution_count": 16,
     "metadata": {},
     "output_type": "execute_result"
    }
   ],
   "source": [
    "memory_dict = dict()\n",
    "\n",
    "for col in col_list:\n",
    "    memory_dict[col] = df[col].memory_usage(deep=True, index=False)\n",
    "    \n",
    "memory_dict['TOTAL MEMORY USAGE'] = sum(memory_dict.values())\n",
    "\n",
    "object_memory_usage = memory_dict['TOTAL MEMORY USAGE']\n",
    "\n",
    "memory_dict"
   ]
  },
  {
   "cell_type": "code",
   "execution_count": 17,
   "metadata": {},
   "outputs": [
    {
     "data": {
      "text/plain": [
       "{'last_name': 506547,\n",
       " 'first_name': 154604,\n",
       " 'middle_name': 275704,\n",
       " 'suffix': 12445,\n",
       " 'nickname': 23900,\n",
       " 'full_name': 56568,\n",
       " 'birthday': 993960,\n",
       " 'gender': 12199,\n",
       " 'type': 12203,\n",
       " 'state': 17501,\n",
       " 'party': 18262,\n",
       " 'url': 94005,\n",
       " 'address': 68288,\n",
       " 'phone': 52187,\n",
       " 'contact_form': 54277,\n",
       " 'rss_url': 52117,\n",
       " 'bioguide_id': 1054582,\n",
       " 'opensecrets_id': 84392,\n",
       " 'lis_id': 39769,\n",
       " 'fec_ids': 76430,\n",
       " 'ballotpedia_id': 41521,\n",
       " 'wikipedia_id': 1184724,\n",
       " 'TOTAL MEMORY USAGE': 4886185}"
      ]
     },
     "execution_count": 17,
     "metadata": {},
     "output_type": "execute_result"
    }
   ],
   "source": [
    "memory_dict = dict()\n",
    "\n",
    "for col in col_list:\n",
    "    memory_dict[col] = df[col].astype('category').memory_usage(deep=True, index=False)\n",
    "\n",
    "# add the total usage to the dictionary\n",
    "memory_dict['TOTAL MEMORY USAGE'] = sum(memory_dict.values())\n",
    "\n",
    "# save the total usage for comparison\n",
    "category_memory_usage = memory_dict['TOTAL MEMORY USAGE']\n",
    "\n",
    "memory_dict"
   ]
  },
  {
   "cell_type": "code",
   "execution_count": 18,
   "metadata": {},
   "outputs": [
    {
     "name": "stdout",
     "output_type": "stream",
     "text": [
      "Approximate memory savings: 7 MB\n"
     ]
    }
   ],
   "source": [
    "# difference in bytes \n",
    "print(f\"Approximate memory savings: {round((object_memory_usage - category_memory_usage) / 1_048_576)} MB\" )"
   ]
  },
  {
   "cell_type": "code",
   "execution_count": 19,
   "metadata": {},
   "outputs": [
    {
     "data": {
      "text/plain": [
       "{'column_diff': {'last_name': {'diff_bytes': 256775, 'diff_percent': '34%'},\n",
       "  'first_name': {'diff_bytes': 598340, 'diff_percent': '79%'},\n",
       "  'middle_name': {'diff_bytes': 368248, 'diff_percent': '57%'},\n",
       "  'suffix': {'diff_bytes': 382561, 'diff_percent': '97%'},\n",
       "  'nickname': {'diff_bytes': 365930, 'diff_percent': '94%'},\n",
       "  'full_name': {'diff_bytes': 340042, 'diff_percent': '86%'},\n",
       "  'birthday': {'diff_bytes': -210990, 'diff_percent': '-27%'},\n",
       "  'gender': {'diff_bytes': 682351, 'diff_percent': '98%'},\n",
       "  'type': {'diff_bytes': 706297, 'diff_percent': '98%'},\n",
       "  'state': {'diff_bytes': 689024, 'diff_percent': '98%'},\n",
       "  'district': {'diff_bytes': 368697, 'diff_percent': '96%'},\n",
       "  'senate_class': {'diff_bytes': 371093, 'diff_percent': '97%'},\n",
       "  'party': {'diff_bytes': 763190, 'diff_percent': '98%'},\n",
       "  'url': {'diff_bytes': 322113, 'diff_percent': '77%'},\n",
       "  'address': {'diff_bytes': 340537, 'diff_percent': '83%'},\n",
       "  'phone': {'diff_bytes': 343778, 'diff_percent': '87%'},\n",
       "  'contact_form': {'diff_bytes': 344496, 'diff_percent': '86%'},\n",
       "  'rss_url': {'diff_bytes': 344570, 'diff_percent': '87%'},\n",
       "  'bioguide_id': {'diff_bytes': -288182, 'diff_percent': '-38%'},\n",
       "  'thomas_id': {'diff_bytes': 278762, 'diff_percent': '73%'},\n",
       "  'opensecrets_id': {'diff_bytes': 321418, 'diff_percent': '79%'},\n",
       "  'lis_id': {'diff_bytes': 348970, 'diff_percent': '90%'},\n",
       "  'fec_ids': {'diff_bytes': 325482, 'diff_percent': '81%'},\n",
       "  'cspan_id': {'diff_bytes': 339378, 'diff_percent': '89%'},\n",
       "  'govtrack_id': {'diff_bytes': 47118, 'diff_percent': '11%'},\n",
       "  'votesmart_id': {'diff_bytes': 338234, 'diff_percent': '88%'},\n",
       "  'ballotpedia_id': {'diff_bytes': 348970, 'diff_percent': '89%'},\n",
       "  'icpsr_id': {'diff_bytes': 914, 'diff_percent': '0%'},\n",
       "  'wikipedia_id': {'diff_bytes': -288118, 'diff_percent': '-32%'}},\n",
       " 'total_diff': {'diff_bytes': 9149998, 'diff_percent': '30%'}}"
      ]
     },
     "execution_count": 19,
     "metadata": {},
     "output_type": "execute_result"
    }
   ],
   "source": [
    "# import the helper module\n",
    "from US_Congress import memory_usage_difference\n",
    "\n",
    "output = memory_usage_difference(df)\n",
    "output"
   ]
  },
  {
   "cell_type": "code",
   "execution_count": 20,
   "metadata": {},
   "outputs": [
    {
     "name": "stdout",
     "output_type": "stream",
     "text": [
      "{   'column_diff': {   'address': {'diff_bytes': 340537, 'diff_percent': '83%'},\n",
      "                       'ballotpedia_id': {   'diff_bytes': 348970,\n",
      "                                             'diff_percent': '89%'},\n",
      "                       'bioguide_id': {   'diff_bytes': -288182,\n",
      "                                          'diff_percent': '-38%'},\n",
      "                       'birthday': {   'diff_bytes': -210990,\n",
      "                                       'diff_percent': '-27%'},\n",
      "                       'contact_form': {   'diff_bytes': 344496,\n",
      "                                           'diff_percent': '86%'},\n",
      "                       'cspan_id': {   'diff_bytes': 339378,\n",
      "                                       'diff_percent': '89%'},\n",
      "                       'district': {   'diff_bytes': 368697,\n",
      "                                       'diff_percent': '96%'},\n",
      "                       'fec_ids': {'diff_bytes': 325482, 'diff_percent': '81%'},\n",
      "                       'first_name': {   'diff_bytes': 598340,\n",
      "                                         'diff_percent': '79%'},\n",
      "                       'full_name': {   'diff_bytes': 340042,\n",
      "                                        'diff_percent': '86%'},\n",
      "                       'gender': {'diff_bytes': 682351, 'diff_percent': '98%'},\n",
      "                       'govtrack_id': {   'diff_bytes': 47118,\n",
      "                                          'diff_percent': '11%'},\n",
      "                       'icpsr_id': {'diff_bytes': 914, 'diff_percent': '0%'},\n",
      "                       'last_name': {   'diff_bytes': 256775,\n",
      "                                        'diff_percent': '34%'},\n",
      "                       'lis_id': {'diff_bytes': 348970, 'diff_percent': '90%'},\n",
      "                       'middle_name': {   'diff_bytes': 368248,\n",
      "                                          'diff_percent': '57%'},\n",
      "                       'nickname': {   'diff_bytes': 365930,\n",
      "                                       'diff_percent': '94%'},\n",
      "                       'opensecrets_id': {   'diff_bytes': 321418,\n",
      "                                             'diff_percent': '79%'},\n",
      "                       'party': {'diff_bytes': 763190, 'diff_percent': '98%'},\n",
      "                       'phone': {'diff_bytes': 343778, 'diff_percent': '87%'},\n",
      "                       'rss_url': {'diff_bytes': 344570, 'diff_percent': '87%'},\n",
      "                       'senate_class': {   'diff_bytes': 371093,\n",
      "                                           'diff_percent': '97%'},\n",
      "                       'state': {'diff_bytes': 689024, 'diff_percent': '98%'},\n",
      "                       'suffix': {'diff_bytes': 382561, 'diff_percent': '97%'},\n",
      "                       'thomas_id': {   'diff_bytes': 278762,\n",
      "                                        'diff_percent': '73%'},\n",
      "                       'type': {'diff_bytes': 706297, 'diff_percent': '98%'},\n",
      "                       'url': {'diff_bytes': 322113, 'diff_percent': '77%'},\n",
      "                       'votesmart_id': {   'diff_bytes': 338234,\n",
      "                                           'diff_percent': '88%'},\n",
      "                       'wikipedia_id': {   'diff_bytes': -288118,\n",
      "                                           'diff_percent': '-32%'}},\n",
      "    'total_diff': {'diff_bytes': 9149998, 'diff_percent': '30%'}}\n"
     ]
    }
   ],
   "source": [
    "# pretify the output using pprint\n",
    "import pprint\n",
    "\n",
    "pp = pprint.PrettyPrinter(indent=4)\n",
    "\n",
    "pp.pprint(output)"
   ]
  },
  {
   "attachments": {},
   "cell_type": "markdown",
   "metadata": {},
   "source": [
    "- Image presentation of the column difference."
   ]
  },
  {
   "attachments": {},
   "cell_type": "markdown",
   "metadata": {},
   "source": [
    "<!-- ![alt text](../assets/pprint.png) -->\n",
    "\n",
    "<img src=\"../assets/pprint.png\" alt=\"output image\" width=\"50%\"/>"
   ]
  },
  {
   "attachments": {},
   "cell_type": "markdown",
   "metadata": {},
   "source": [
    "[BACK TO TOP][def]\n",
    "\n",
    "[def]: #-explore-pandas-groupby-and-memory-optimization-using-us-congress-dataset"
   ]
  },
  {
   "attachments": {},
   "cell_type": "markdown",
   "metadata": {},
   "source": [
    "### 3.Create a new df and run dtype transformation."
   ]
  },
  {
   "cell_type": "code",
   "execution_count": 23,
   "metadata": {},
   "outputs": [
    {
     "data": {
      "text/html": [
       "<div>\n",
       "<style scoped>\n",
       "    .dataframe tbody tr th:only-of-type {\n",
       "        vertical-align: middle;\n",
       "    }\n",
       "\n",
       "    .dataframe tbody tr th {\n",
       "        vertical-align: top;\n",
       "    }\n",
       "\n",
       "    .dataframe thead th {\n",
       "        text-align: right;\n",
       "    }\n",
       "</style>\n",
       "<table border=\"1\" class=\"dataframe\">\n",
       "  <thead>\n",
       "    <tr style=\"text-align: right;\">\n",
       "      <th></th>\n",
       "      <th>last_name</th>\n",
       "      <th>first_name</th>\n",
       "      <th>birthday</th>\n",
       "      <th>gender</th>\n",
       "      <th>type</th>\n",
       "      <th>state</th>\n",
       "      <th>party</th>\n",
       "    </tr>\n",
       "  </thead>\n",
       "  <tbody>\n",
       "    <tr>\n",
       "      <th>11965</th>\n",
       "      <td>Lewis</td>\n",
       "      <td>Jason</td>\n",
       "      <td>1955-09-23</td>\n",
       "      <td>M</td>\n",
       "      <td>rep</td>\n",
       "      <td>MN</td>\n",
       "      <td>Republican</td>\n",
       "    </tr>\n",
       "    <tr>\n",
       "      <th>11966</th>\n",
       "      <td>Kihuen</td>\n",
       "      <td>Ruben</td>\n",
       "      <td>1980-04-25</td>\n",
       "      <td>M</td>\n",
       "      <td>rep</td>\n",
       "      <td>NV</td>\n",
       "      <td>Democrat</td>\n",
       "    </tr>\n",
       "    <tr>\n",
       "      <th>11967</th>\n",
       "      <td>Faso</td>\n",
       "      <td>John</td>\n",
       "      <td>1952-08-25</td>\n",
       "      <td>M</td>\n",
       "      <td>rep</td>\n",
       "      <td>NY</td>\n",
       "      <td>Republican</td>\n",
       "    </tr>\n",
       "    <tr>\n",
       "      <th>11968</th>\n",
       "      <td>Tenney</td>\n",
       "      <td>Claudia</td>\n",
       "      <td>1961-02-04</td>\n",
       "      <td>F</td>\n",
       "      <td>rep</td>\n",
       "      <td>NY</td>\n",
       "      <td>Republican</td>\n",
       "    </tr>\n",
       "    <tr>\n",
       "      <th>11969</th>\n",
       "      <td>Taylor</td>\n",
       "      <td>Scott</td>\n",
       "      <td>1979-06-27</td>\n",
       "      <td>M</td>\n",
       "      <td>rep</td>\n",
       "      <td>VA</td>\n",
       "      <td>Republican</td>\n",
       "    </tr>\n",
       "    <tr>\n",
       "      <th>11970</th>\n",
       "      <td>Garrett</td>\n",
       "      <td>Thomas</td>\n",
       "      <td>1972-03-27</td>\n",
       "      <td>M</td>\n",
       "      <td>rep</td>\n",
       "      <td>VA</td>\n",
       "      <td>Republican</td>\n",
       "    </tr>\n",
       "    <tr>\n",
       "      <th>11971</th>\n",
       "      <td>Handel</td>\n",
       "      <td>Karen</td>\n",
       "      <td>1962-04-18</td>\n",
       "      <td>F</td>\n",
       "      <td>rep</td>\n",
       "      <td>GA</td>\n",
       "      <td>Republican</td>\n",
       "    </tr>\n",
       "    <tr>\n",
       "      <th>11972</th>\n",
       "      <td>Jones</td>\n",
       "      <td>Brenda</td>\n",
       "      <td>1959-10-24</td>\n",
       "      <td>F</td>\n",
       "      <td>rep</td>\n",
       "      <td>MI</td>\n",
       "      <td>Democrat</td>\n",
       "    </tr>\n",
       "    <tr>\n",
       "      <th>11973</th>\n",
       "      <td>Marino</td>\n",
       "      <td>Tom</td>\n",
       "      <td>1952-08-15</td>\n",
       "      <td>M</td>\n",
       "      <td>rep</td>\n",
       "      <td>PA</td>\n",
       "      <td>Republican</td>\n",
       "    </tr>\n",
       "    <tr>\n",
       "      <th>11974</th>\n",
       "      <td>Jones</td>\n",
       "      <td>Walter</td>\n",
       "      <td>1943-02-10</td>\n",
       "      <td>M</td>\n",
       "      <td>rep</td>\n",
       "      <td>NC</td>\n",
       "      <td>Republican</td>\n",
       "    </tr>\n",
       "  </tbody>\n",
       "</table>\n",
       "</div>"
      ],
      "text/plain": [
       "      last_name first_name   birthday gender type state       party\n",
       "11965     Lewis      Jason 1955-09-23      M  rep    MN  Republican\n",
       "11966    Kihuen      Ruben 1980-04-25      M  rep    NV    Democrat\n",
       "11967      Faso       John 1952-08-25      M  rep    NY  Republican\n",
       "11968    Tenney    Claudia 1961-02-04      F  rep    NY  Republican\n",
       "11969    Taylor      Scott 1979-06-27      M  rep    VA  Republican\n",
       "11970   Garrett     Thomas 1972-03-27      M  rep    VA  Republican\n",
       "11971    Handel      Karen 1962-04-18      F  rep    GA  Republican\n",
       "11972     Jones     Brenda 1959-10-24      F  rep    MI    Democrat\n",
       "11973    Marino        Tom 1952-08-15      M  rep    PA  Republican\n",
       "11974     Jones     Walter 1943-02-10      M  rep    NC  Republican"
      ]
     },
     "execution_count": 23,
     "metadata": {},
     "output_type": "execute_result"
    }
   ],
   "source": [
    "# define dtypes, use categorical dtype\n",
    "dtypes = {\n",
    "    \"first_name\": \"category\",\n",
    "    \"last_name\": \"category\",\n",
    "    \"gender\": \"category\",\n",
    "    \"type\": \"category\",\n",
    "    \"state\": \"category\",\n",
    "    \"party\": \"category\",\n",
    "}\n",
    "\n",
    "df = pd.read_csv(\n",
    "    \"../data/external/legislators-historical.csv\",\n",
    "    dtype= dtypes,\n",
    "    usecols=list(dtypes) + ['birthday'], # add birthday column\n",
    "    parse_dates=['birthday']\n",
    ")\n",
    "\n",
    "# check the last 10 records\n",
    "df.tail(10)"
   ]
  },
  {
   "attachments": {},
   "cell_type": "markdown",
   "metadata": {},
   "source": [
    "[BACK TO TOP][def]\n",
    "\n",
    "[def]: #-explore-pandas-groupby-and-memory-optimization-using-us-congress-dataset"
   ]
  },
  {
   "attachments": {},
   "cell_type": "markdown",
   "metadata": {},
   "source": [
    "### 4.Display the count of Congressional members on a state-by-state basis."
   ]
  },
  {
   "cell_type": "code",
   "execution_count": 28,
   "metadata": {},
   "outputs": [
    {
     "data": {
      "text/plain": [
       "state\n",
       "AK      16\n",
       "AL     206\n",
       "AR     117\n",
       "AS       2\n",
       "AZ      48\n",
       "CA     361\n",
       "CO      90\n",
       "CT     240\n",
       "DC       2\n",
       "DE      97\n",
       "DK       9\n",
       "FL     155\n",
       "GA     309\n",
       "GU       4\n",
       "HI      23\n",
       "IA     202\n",
       "ID      59\n",
       "IL     486\n",
       "IN     341\n",
       "KS     141\n",
       "KY     373\n",
       "LA     197\n",
       "MA     426\n",
       "MD     305\n",
       "ME     175\n",
       "MI     294\n",
       "MN     160\n",
       "MO     333\n",
       "MS     155\n",
       "MT      52\n",
       "NC     354\n",
       "ND      44\n",
       "NE     127\n",
       "NH     181\n",
       "NJ     359\n",
       "NM      54\n",
       "NV      56\n",
       "NY    1461\n",
       "OH     674\n",
       "OK      92\n",
       "OL       2\n",
       "OR      89\n",
       "PA    1053\n",
       "PI      13\n",
       "PR      19\n",
       "RI     107\n",
       "SC     251\n",
       "SD      51\n",
       "TN     299\n",
       "TX     256\n",
       "UT      53\n",
       "VA     432\n",
       "VI       4\n",
       "VT     115\n",
       "WA      95\n",
       "WI     196\n",
       "WV     120\n",
       "WY      40\n",
       "Name: last_name, dtype: int64"
      ]
     },
     "execution_count": 28,
     "metadata": {},
     "output_type": "execute_result"
    }
   ],
   "source": [
    "df.groupby('state') \\\n",
    "    .last_name \\\n",
    "    .count()"
   ]
  }
 ],
 "metadata": {
  "kernelspec": {
   "display_name": "Python 3",
   "language": "python",
   "name": "python3"
  },
  "language_info": {
   "codemirror_mode": {
    "name": "ipython",
    "version": 3
   },
   "file_extension": ".py",
   "mimetype": "text/x-python",
   "name": "python",
   "nbconvert_exporter": "python",
   "pygments_lexer": "ipython3",
   "version": "3.10.4"
  },
  "orig_nbformat": 4
 },
 "nbformat": 4,
 "nbformat_minor": 2
}
