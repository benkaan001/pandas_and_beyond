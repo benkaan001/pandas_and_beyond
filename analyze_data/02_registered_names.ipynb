{
 "cells": [
  {
   "attachments": {},
   "cell_type": "markdown",
   "metadata": {},
   "source": [
    "### Explore [SocialSecurityNamesAllYears](https://github.com/benkaan001/pandas_and_beyond/blob/main/generate_data/02_create_dataset_with_wget.ipynb) dataset created earlier using `wget` and `zipfile` libraries.\n",
    "\n",
    "- Explore matplotlib `styles` and `colors`.\n",
    "- Create a df using `read_csv` method.\n",
    "- Explore and plot unique naming trends between 1880 and 2021.\n",
    "- Run and plot queries to observe the trends for a given name.\n",
    "- Create a `function` to visualize query results."
   ]
  },
  {
   "cell_type": "code",
   "execution_count": null,
   "metadata": {},
   "outputs": [],
   "source": [
    "import pandas as pd\n",
    "import numpy as np\n",
    "import matplotlib.pyplot as plt \n",
    "import seaborn as sns "
   ]
  },
  {
   "attachments": {},
   "cell_type": "markdown",
   "metadata": {},
   "source": [
    "## Explore matplotlib `styles` and `colors`."
   ]
  },
  {
   "attachments": {},
   "cell_type": "markdown",
   "metadata": {},
   "source": [
    "## Create a df using `read_csv` method.\n"
   ]
  },
  {
   "attachments": {},
   "cell_type": "markdown",
   "metadata": {},
   "source": [
    "## Explore and plot unique naming trends between 1880 and 2021.\n"
   ]
  },
  {
   "attachments": {},
   "cell_type": "markdown",
   "metadata": {},
   "source": [
    "## Run and plot queries to observe the trends for a given name.\n"
   ]
  },
  {
   "cell_type": "markdown",
   "metadata": {},
   "source": [
    "## Create a `function` to visualize query results."
   ]
  }
 ],
 "metadata": {
  "language_info": {
   "name": "python"
  },
  "orig_nbformat": 4
 },
 "nbformat": 4,
 "nbformat_minor": 2
}
