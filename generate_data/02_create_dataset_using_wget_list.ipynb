{
 "cells": [
  {
   "attachments": {},
   "cell_type": "markdown",
   "metadata": {},
   "source": [
    "##  Writing `zip` files to a Pandas DF as a `csv` file using `python list`. \n",
    "- 0. Download and inspect the zip file from the source using `wget.download()` method.\n",
    "- 1. Extract the `Year` value from text file.\n",
    "- 2. Iterate through zip file list\n",
    "- 3. `Join` all dfs and create `csv` file.\n",
    "- 4. Clean up."
   ]
  },
  {
   "cell_type": "code",
   "execution_count": 2,
   "metadata": {},
   "outputs": [],
   "source": [
    "import pandas as pd\n",
    "import numpy as np\n",
    "import os\n",
    "from glob import glob\n",
    "import wget\n",
    "from zipfile import ZipFile "
   ]
  },
  {
   "attachments": {},
   "cell_type": "markdown",
   "metadata": {},
   "source": [
    "- 0. Download and inspect the zip file from the source using `wget.download()` method."
   ]
  },
  {
   "cell_type": "code",
   "execution_count": 2,
   "metadata": {},
   "outputs": [
    {
     "data": {
      "text/plain": [
       "'names.zip'"
      ]
     },
     "execution_count": 2,
     "metadata": {},
     "output_type": "execute_result"
    }
   ],
   "source": [
    "url = 'http://www.ssa.gov/OACT/babynames/names.zip'\n",
    "babynames = wget.download(url)\n",
    "babynames"
   ]
  },
  {
   "attachments": {},
   "cell_type": "markdown",
   "metadata": {},
   "source": [
    "Check the content of the zip file"
   ]
  },
  {
   "cell_type": "code",
   "execution_count": 7,
   "metadata": {},
   "outputs": [
    {
     "name": "stdout",
     "output_type": "stream",
     "text": [
      "<ZipInfo filename='yob1880.txt' compress_type=deflate external_attr=0x20 file_size=24933 compress_size=8461>\n",
      "<ZipInfo filename='yob1881.txt' compress_type=deflate external_attr=0x20 file_size=24052 compress_size=8174>\n",
      "<ZipInfo filename='yob1882.txt' compress_type=deflate external_attr=0x20 file_size=26559 compress_size=8910>\n",
      "<ZipInfo filename='yob1883.txt' compress_type=deflate external_attr=0x20 file_size=26002 compress_size=8681>\n",
      "<ZipInfo filename='yob1884.txt' compress_type=deflate external_attr=0x20 file_size=28670 compress_size=9522>\n",
      "<ZipInfo filename='yob1885.txt' compress_type=deflate external_attr=0x20 file_size=28625 compress_size=9556>\n",
      "<ZipInfo filename='yob1886.txt' compress_type=deflate external_attr=0x20 file_size=29822 compress_size=9870>\n",
      "<ZipInfo filename='yob1887.txt' compress_type=deflate external_attr=0x20 file_size=29531 compress_size=9750>\n",
      "<ZipInfo filename='yob1888.txt' compress_type=deflate external_attr=0x20 file_size=33064 compress_size=10845>\n",
      "<ZipInfo filename='yob1889.txt' compress_type=deflate external_attr=0x20 file_size=32297 compress_size=10533>\n",
      "<ZipInfo filename='yob1890.txt' compress_type=deflate external_attr=0x20 file_size=33621 compress_size=11052>\n",
      "<ZipInfo filename='yob1891.txt' compress_type=deflate external_attr=0x20 file_size=33186 compress_size=10879>\n",
      "<ZipInfo filename='yob1892.txt' compress_type=deflate external_attr=0x20 file_size=36542 compress_size=11836>\n",
      "<ZipInfo filename='yob1893.txt' compress_type=deflate external_attr=0x20 file_size=35433 compress_size=11513>\n",
      "<ZipInfo filename='yob1894.txt' compress_type=deflate external_attr=0x20 file_size=36817 compress_size=11957>\n",
      "<ZipInfo filename='yob1895.txt' compress_type=deflate external_attr=0x20 file_size=38232 compress_size=12370>\n",
      "<ZipInfo filename='yob1896.txt' compress_type=deflate external_attr=0x20 file_size=38747 compress_size=12531>\n",
      "<ZipInfo filename='yob1897.txt' compress_type=deflate external_attr=0x20 file_size=37936 compress_size=12298>\n",
      "<ZipInfo filename='yob1898.txt' compress_type=deflate external_attr=0x20 file_size=40924 compress_size=13108>\n",
      "<ZipInfo filename='yob1899.txt' compress_type=deflate external_attr=0x20 file_size=38141 compress_size=12277>\n",
      "<ZipInfo filename='yob1900.txt' compress_type=deflate external_attr=0x20 file_size=46859 compress_size=14785>\n",
      "<ZipInfo filename='yob1901.txt' compress_type=deflate external_attr=0x20 file_size=39584 compress_size=12692>\n",
      "<ZipInfo filename='yob1902.txt' compress_type=deflate external_attr=0x20 file_size=42284 compress_size=13463>\n",
      "<ZipInfo filename='yob1903.txt' compress_type=deflate external_attr=0x20 file_size=42679 compress_size=13556>\n",
      "<ZipInfo filename='yob1904.txt' compress_type=deflate external_attr=0x20 file_size=44808 compress_size=14179>\n",
      "<ZipInfo filename='yob1905.txt' compress_type=deflate external_attr=0x20 file_size=46003 compress_size=14531>\n",
      "<ZipInfo filename='yob1906.txt' compress_type=deflate external_attr=0x20 file_size=45845 compress_size=14512>\n",
      "<ZipInfo filename='yob1907.txt' compress_type=deflate external_attr=0x20 file_size=49829 compress_size=15662>\n",
      "<ZipInfo filename='yob1908.txt' compress_type=deflate external_attr=0x20 file_size=50841 compress_size=15938>\n",
      "<ZipInfo filename='yob1909.txt' compress_type=deflate external_attr=0x20 file_size=53501 compress_size=16783>\n",
      "<ZipInfo filename='yob1910.txt' compress_type=deflate external_attr=0x20 file_size=58710 compress_size=18200>\n",
      "<ZipInfo filename='yob1911.txt' compress_type=deflate external_attr=0x20 file_size=61761 compress_size=19131>\n",
      "<ZipInfo filename='yob1912.txt' compress_type=deflate external_attr=0x20 file_size=80729 compress_size=24510>\n",
      "<ZipInfo filename='yob1913.txt' compress_type=deflate external_attr=0x20 file_size=88705 compress_size=26589>\n",
      "<ZipInfo filename='yob1914.txt' compress_type=deflate external_attr=0x20 file_size=101543 compress_size=30372>\n",
      "<ZipInfo filename='yob1915.txt' compress_type=deflate external_attr=0x20 file_size=119431 compress_size=34977>\n",
      "<ZipInfo filename='yob1916.txt' compress_type=deflate external_attr=0x20 file_size=123872 compress_size=36348>\n",
      "<ZipInfo filename='yob1917.txt' compress_type=deflate external_attr=0x20 file_size=126761 compress_size=37269>\n",
      "<ZipInfo filename='yob1918.txt' compress_type=deflate external_attr=0x20 file_size=133055 compress_size=38903>\n",
      "<ZipInfo filename='yob1919.txt' compress_type=deflate external_attr=0x20 file_size=132728 compress_size=38700>\n",
      "<ZipInfo filename='yob1920.txt' compress_type=deflate external_attr=0x20 file_size=137760 compress_size=40112>\n",
      "<ZipInfo filename='yob1921.txt' compress_type=deflate external_attr=0x20 file_size=139168 compress_size=40345>\n",
      "<ZipInfo filename='yob1922.txt' compress_type=deflate external_attr=0x20 file_size=138156 compress_size=40165>\n",
      "<ZipInfo filename='yob1923.txt' compress_type=deflate external_attr=0x20 file_size=136667 compress_size=39843>\n",
      "<ZipInfo filename='yob1924.txt' compress_type=deflate external_attr=0x20 file_size=139622 compress_size=40411>\n",
      "<ZipInfo filename='yob1925.txt' compress_type=deflate external_attr=0x20 file_size=136778 compress_size=39818>\n",
      "<ZipInfo filename='yob1926.txt' compress_type=deflate external_attr=0x20 file_size=134314 compress_size=39296>\n",
      "<ZipInfo filename='yob1927.txt' compress_type=deflate external_attr=0x20 file_size=133859 compress_size=39237>\n",
      "<ZipInfo filename='yob1928.txt' compress_type=deflate external_attr=0x20 file_size=130730 compress_size=38144>\n",
      "<ZipInfo filename='yob1929.txt' compress_type=deflate external_attr=0x20 file_size=126478 compress_size=37110>\n",
      "<ZipInfo filename='yob1930.txt' compress_type=deflate external_attr=0x20 file_size=125970 compress_size=36934>\n",
      "<ZipInfo filename='yob1931.txt' compress_type=deflate external_attr=0x20 file_size=119612 compress_size=35185>\n",
      "<ZipInfo filename='yob1932.txt' compress_type=deflate external_attr=0x20 file_size=120789 compress_size=35459>\n",
      "<ZipInfo filename='yob1933.txt' compress_type=deflate external_attr=0x20 file_size=115883 compress_size=34067>\n",
      "<ZipInfo filename='yob1934.txt' compress_type=deflate external_attr=0x20 file_size=118063 compress_size=34589>\n",
      "<ZipInfo filename='yob1935.txt' compress_type=deflate external_attr=0x20 file_size=116315 compress_size=34117>\n",
      "<ZipInfo filename='yob1936.txt' compress_type=deflate external_attr=0x20 file_size=114332 compress_size=33461>\n",
      "<ZipInfo filename='yob1937.txt' compress_type=deflate external_attr=0x20 file_size=115355 compress_size=33712>\n",
      "<ZipInfo filename='yob1938.txt' compress_type=deflate external_attr=0x20 file_size=116346 compress_size=34150>\n",
      "<ZipInfo filename='yob1939.txt' compress_type=deflate external_attr=0x20 file_size=114783 compress_size=33744>\n",
      "<ZipInfo filename='yob1940.txt' compress_type=deflate external_attr=0x20 file_size=115652 compress_size=33944>\n",
      "<ZipInfo filename='yob1941.txt' compress_type=deflate external_attr=0x20 file_size=117234 compress_size=34419>\n",
      "<ZipInfo filename='yob1942.txt' compress_type=deflate external_attr=0x20 file_size=121623 compress_size=35603>\n",
      "<ZipInfo filename='yob1943.txt' compress_type=deflate external_attr=0x20 file_size=121516 compress_size=35765>\n",
      "<ZipInfo filename='yob1944.txt' compress_type=deflate external_attr=0x20 file_size=118098 compress_size=34707>\n",
      "<ZipInfo filename='yob1945.txt' compress_type=deflate external_attr=0x20 file_size=116520 compress_size=34101>\n",
      "<ZipInfo filename='yob1946.txt' compress_type=deflate external_attr=0x20 file_size=125457 compress_size=36710>\n",
      "<ZipInfo filename='yob1947.txt' compress_type=deflate external_attr=0x20 file_size=134068 compress_size=39002>\n",
      "<ZipInfo filename='yob1948.txt' compress_type=deflate external_attr=0x20 file_size=132441 compress_size=38481>\n",
      "<ZipInfo filename='yob1949.txt' compress_type=deflate external_attr=0x20 file_size=132889 compress_size=38621>\n",
      "<ZipInfo filename='yob1950.txt' compress_type=deflate external_attr=0x20 file_size=133248 compress_size=38713>\n",
      "<ZipInfo filename='yob1951.txt' compress_type=deflate external_attr=0x20 file_size=135551 compress_size=39327>\n",
      "<ZipInfo filename='yob1952.txt' compress_type=deflate external_attr=0x20 file_size=137646 compress_size=39956>\n",
      "<ZipInfo filename='yob1953.txt' compress_type=deflate external_attr=0x20 file_size=140146 compress_size=40730>\n",
      "<ZipInfo filename='yob1954.txt' compress_type=deflate external_attr=0x20 file_size=141871 compress_size=41051>\n",
      "<ZipInfo filename='yob1955.txt' compress_type=deflate external_attr=0x20 file_size=143768 compress_size=41636>\n",
      "<ZipInfo filename='yob1956.txt' compress_type=deflate external_attr=0x20 file_size=146615 compress_size=42158>\n",
      "<ZipInfo filename='yob1957.txt' compress_type=deflate external_attr=0x20 file_size=149183 compress_size=42633>\n",
      "<ZipInfo filename='yob1958.txt' compress_type=deflate external_attr=0x20 file_size=148784 compress_size=42554>\n",
      "<ZipInfo filename='yob1959.txt' compress_type=deflate external_attr=0x20 file_size=151929 compress_size=43528>\n",
      "<ZipInfo filename='yob1960.txt' compress_type=deflate external_attr=0x20 file_size=154077 compress_size=44151>\n",
      "<ZipInfo filename='yob1961.txt' compress_type=deflate external_attr=0x20 file_size=157651 compress_size=45190>\n",
      "<ZipInfo filename='yob1962.txt' compress_type=deflate external_attr=0x20 file_size=158065 compress_size=45007>\n",
      "<ZipInfo filename='yob1963.txt' compress_type=deflate external_attr=0x20 file_size=158949 compress_size=45370>\n",
      "<ZipInfo filename='yob1964.txt' compress_type=deflate external_attr=0x20 file_size=160580 compress_size=45907>\n",
      "<ZipInfo filename='yob1965.txt' compress_type=deflate external_attr=0x20 file_size=155051 compress_size=44335>\n",
      "<ZipInfo filename='yob1966.txt' compress_type=deflate external_attr=0x20 file_size=157529 compress_size=44984>\n",
      "<ZipInfo filename='yob1967.txt' compress_type=deflate external_attr=0x20 file_size=160693 compress_size=45862>\n",
      "<ZipInfo filename='yob1968.txt' compress_type=deflate external_attr=0x20 file_size=167472 compress_size=47060>\n",
      "<ZipInfo filename='yob1969.txt' compress_type=deflate external_attr=0x20 file_size=178022 compress_size=49955>\n",
      "<ZipInfo filename='yob1970.txt' compress_type=deflate external_attr=0x20 file_size=191555 compress_size=53079>\n",
      "<ZipInfo filename='yob1971.txt' compress_type=deflate external_attr=0x20 file_size=198210 compress_size=55005>\n",
      "<ZipInfo filename='yob1972.txt' compress_type=deflate external_attr=0x20 file_size=199517 compress_size=55114>\n",
      "<ZipInfo filename='yob1973.txt' compress_type=deflate external_attr=0x20 file_size=203100 compress_size=56185>\n",
      "<ZipInfo filename='yob1974.txt' compress_type=deflate external_attr=0x20 file_size=210508 compress_size=58054>\n",
      "<ZipInfo filename='yob1975.txt' compress_type=deflate external_attr=0x20 file_size=219278 compress_size=59902>\n",
      "<ZipInfo filename='yob1976.txt' compress_type=deflate external_attr=0x20 file_size=225029 compress_size=61458>\n",
      "<ZipInfo filename='yob1977.txt' compress_type=deflate external_attr=0x20 file_size=235121 compress_size=64000>\n",
      "<ZipInfo filename='yob1978.txt' compress_type=deflate external_attr=0x20 file_size=236004 compress_size=64239>\n",
      "<ZipInfo filename='yob1979.txt' compress_type=deflate external_attr=0x20 file_size=246531 compress_size=66732>\n",
      "<ZipInfo filename='yob1980.txt' compress_type=deflate external_attr=0x20 file_size=251524 compress_size=67948>\n",
      "<ZipInfo filename='yob1981.txt' compress_type=deflate external_attr=0x20 file_size=251989 compress_size=68105>\n",
      "<ZipInfo filename='yob1982.txt' compress_type=deflate external_attr=0x20 file_size=254964 compress_size=68922>\n",
      "<ZipInfo filename='yob1983.txt' compress_type=deflate external_attr=0x20 file_size=251026 compress_size=67820>\n",
      "<ZipInfo filename='yob1984.txt' compress_type=deflate external_attr=0x20 file_size=252787 compress_size=68334>\n",
      "<ZipInfo filename='yob1985.txt' compress_type=deflate external_attr=0x20 file_size=260400 compress_size=70365>\n",
      "<ZipInfo filename='yob1986.txt' compress_type=deflate external_attr=0x20 file_size=268153 compress_size=71906>\n",
      "<ZipInfo filename='yob1987.txt' compress_type=deflate external_attr=0x20 file_size=278469 compress_size=74510>\n",
      "<ZipInfo filename='yob1988.txt' compress_type=deflate external_attr=0x20 file_size=291137 compress_size=77211>\n",
      "<ZipInfo filename='yob1989.txt' compress_type=deflate external_attr=0x20 file_size=309556 compress_size=82075>\n",
      "<ZipInfo filename='yob1990.txt' compress_type=deflate external_attr=0x20 file_size=322057 compress_size=85115>\n",
      "<ZipInfo filename='yob1991.txt' compress_type=deflate external_attr=0x20 file_size=327280 compress_size=86562>\n",
      "<ZipInfo filename='yob1992.txt' compress_type=deflate external_attr=0x20 file_size=331570 compress_size=87658>\n",
      "<ZipInfo filename='yob1993.txt' compress_type=deflate external_attr=0x20 file_size=337929 compress_size=89184>\n",
      "<ZipInfo filename='yob1994.txt' compress_type=deflate external_attr=0x20 file_size=338235 compress_size=89555>\n",
      "<ZipInfo filename='yob1995.txt' compress_type=deflate external_attr=0x20 file_size=339137 compress_size=89712>\n",
      "<ZipInfo filename='yob1996.txt' compress_type=deflate external_attr=0x20 file_size=343068 compress_size=90739>\n",
      "<ZipInfo filename='yob1997.txt' compress_type=deflate external_attr=0x20 file_size=350132 compress_size=92370>\n",
      "<ZipInfo filename='yob1998.txt' compress_type=deflate external_attr=0x20 file_size=361698 compress_size=95195>\n",
      "<ZipInfo filename='yob1999.txt' compress_type=deflate external_attr=0x20 file_size=369433 compress_size=97074>\n",
      "<ZipInfo filename='yob2000.txt' compress_type=deflate external_attr=0x20 file_size=385150 compress_size=100728>\n",
      "<ZipInfo filename='yob2001.txt' compress_type=deflate external_attr=0x20 file_size=391252 compress_size=102325>\n",
      "<ZipInfo filename='yob2002.txt' compress_type=deflate external_attr=0x20 file_size=394874 compress_size=103271>\n",
      "<ZipInfo filename='yob2003.txt' compress_type=deflate external_attr=0x20 file_size=402689 compress_size=105270>\n",
      "<ZipInfo filename='yob2004.txt' compress_type=deflate external_attr=0x20 file_size=413586 compress_size=107423>\n",
      "<ZipInfo filename='yob2005.txt' compress_type=deflate external_attr=0x20 file_size=420305 compress_size=109332>\n",
      "<ZipInfo filename='yob2006.txt' compress_type=deflate external_attr=0x20 file_size=440476 compress_size=113989>\n",
      "<ZipInfo filename='yob2007.txt' compress_type=deflate external_attr=0x20 file_size=451453 compress_size=116613>\n",
      "<ZipInfo filename='yob2008.txt' compress_type=deflate external_attr=0x20 file_size=452981 compress_size=117280>\n",
      "<ZipInfo filename='yob2009.txt' compress_type=deflate external_attr=0x20 file_size=448206 compress_size=116156>\n",
      "<ZipInfo filename='yob2010.txt' compress_type=deflate external_attr=0x20 file_size=439813 compress_size=114104>\n",
      "<ZipInfo filename='yob2011.txt' compress_type=deflate external_attr=0x20 file_size=437366 compress_size=113686>\n",
      "<ZipInfo filename='yob2012.txt' compress_type=deflate external_attr=0x20 file_size=435275 compress_size=113654>\n",
      "<ZipInfo filename='yob2013.txt' compress_type=deflate external_attr=0x20 file_size=429161 compress_size=112211>\n",
      "<ZipInfo filename='yob2014.txt' compress_type=deflate external_attr=0x20 file_size=428605 compress_size=112500>\n",
      "<ZipInfo filename='yob2015.txt' compress_type=deflate external_attr=0x20 file_size=426577 compress_size=112244>\n",
      "<ZipInfo filename='yob2016.txt' compress_type=deflate external_attr=0x20 file_size=424879 compress_size=111944>\n",
      "<ZipInfo filename='yob2017.txt' compress_type=deflate external_attr=0x20 file_size=419344 compress_size=111148>\n",
      "<ZipInfo filename='yob2018.txt' compress_type=deflate external_attr=0x20 file_size=413285 compress_size=109833>\n",
      "<ZipInfo filename='yob2019.txt' compress_type=deflate external_attr=0x20 file_size=411134 compress_size=109207>\n",
      "<ZipInfo filename='yob2020.txt' compress_type=deflate external_attr=0x20 file_size=402057 compress_size=106877>\n",
      "<ZipInfo filename='yob2021.txt' compress_type=deflate external_attr=0x20 file_size=403055 compress_size=107252>\n",
      "<ZipInfo filename='NationalReadMe.pdf' compress_type=deflate external_attr=0x20 file_size=124861 compress_size=108372>\n"
     ]
    }
   ],
   "source": [
    "zip_file = ZipFile(babynames)\n",
    "\n",
    "text_files = zip_file.infolist()\n",
    "\n",
    "for text_file in text_files:\n",
    "    print(text_file)"
   ]
  },
  {
   "attachments": {},
   "cell_type": "markdown",
   "metadata": {},
   "source": [
    "- 1. Extract the `Year` value from text file."
   ]
  },
  {
   "cell_type": "code",
   "execution_count": 12,
   "metadata": {},
   "outputs": [
    {
     "data": {
      "text/plain": [
       "'yob1880.txt'"
      ]
     },
     "execution_count": 12,
     "metadata": {},
     "output_type": "execute_result"
    }
   ],
   "source": [
    "zip_file.infolist()[0].filename"
   ]
  },
  {
   "cell_type": "code",
   "execution_count": 13,
   "metadata": {},
   "outputs": [
    {
     "data": {
      "text/plain": [
       "1880"
      ]
     },
     "execution_count": 13,
     "metadata": {},
     "output_type": "execute_result"
    }
   ],
   "source": [
    "year_str = zip_file.infolist()[0].filename\n",
    "year_str = year_str[3:7]\n",
    "year = int(year_str)\n",
    "year"
   ]
  },
  {
   "attachments": {},
   "cell_type": "markdown",
   "metadata": {},
   "source": [
    "- 2. Iterate through zip file list"
   ]
  },
  {
   "cell_type": "code",
   "execution_count": 15,
   "metadata": {},
   "outputs": [
    {
     "name": "stdout",
     "output_type": "stream",
     "text": [
      "           Name Sex  Count  Year\n",
      "0          Mary   F   7065  1880\n",
      "1          Anna   F   2604  1880\n",
      "2          Emma   F   2003  1880\n",
      "3     Elizabeth   F   1939  1880\n",
      "4        Minnie   F   1746  1880\n",
      "...         ...  ..    ...   ...\n",
      "1995     Woodie   M      5  1880\n",
      "1996     Worthy   M      5  1880\n",
      "1997     Wright   M      5  1880\n",
      "1998       York   M      5  1880\n",
      "1999  Zachariah   M      5  1880\n",
      "\n",
      "[2000 rows x 4 columns]\n"
     ]
    }
   ],
   "source": [
    "zip_file = ZipFile(babynames)\n",
    "\n",
    "# create a list to append all dfs \n",
    "df_list = []\n",
    "\n",
    "try:\n",
    "    for text_file in zip_file.infolist():\n",
    "        if text_file.filename.endswith('.txt'):     # exclude PDF file\n",
    "            columns = ['Name', 'Sex', 'Count']  # set column names\n",
    "            year = int(text_file.filename[3:7])\n",
    "            df = pd.read_csv(zip_file.open(text_file.filename)\n",
    "                            , header= None\n",
    "                            , names= columns)        \n",
    "            df['Year'] = year      # add Year column \n",
    "            df_list.append(df)     # add the df to the df_list\n",
    "except Exception as e:\n",
    "    print(e)\n",
    "else:\n",
    "    print(df_list[0])  # print the first df in the df_list"
   ]
  },
  {
   "attachments": {},
   "cell_type": "markdown",
   "metadata": {},
   "source": [
    "- 3. `Join` all dfs and create `csv` file."
   ]
  },
  {
   "cell_type": "code",
   "execution_count": 1,
   "metadata": {},
   "outputs": [],
   "source": [
    "# final_df = pd.concat(df_list)\n",
    "# final_df.to_csv('data/cleaned/SocialSecurityNamesAllYears.csv', index=False)"
   ]
  },
  {
   "attachments": {},
   "cell_type": "markdown",
   "metadata": {},
   "source": [
    "- 4. Clean up"
   ]
  },
  {
   "cell_type": "code",
   "execution_count": 3,
   "metadata": {},
   "outputs": [],
   "source": [
    "os.remove('names.zip')"
   ]
  }
 ],
 "metadata": {
  "kernelspec": {
   "display_name": "Python 3",
   "language": "python",
   "name": "python3"
  },
  "language_info": {
   "codemirror_mode": {
    "name": "ipython",
    "version": 3
   },
   "file_extension": ".py",
   "mimetype": "text/x-python",
   "name": "python",
   "nbconvert_exporter": "python",
   "pygments_lexer": "ipython3",
   "version": "3.10.4"
  },
  "orig_nbformat": 4,
  "vscode": {
   "interpreter": {
    "hash": "aee8b7b246df8f9039afb4144a1f6fd8d2ca17a180786b69acc140d282b71a49"
   }
  }
 },
 "nbformat": 4,
 "nbformat_minor": 2
}
