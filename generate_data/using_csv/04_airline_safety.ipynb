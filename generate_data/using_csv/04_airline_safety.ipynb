{
 "cells": [
  {
   "cell_type": "code",
   "execution_count": 1,
   "metadata": {},
   "outputs": [],
   "source": [
    "import requests\n",
    "import csv "
   ]
  },
  {
   "cell_type": "code",
   "execution_count": 2,
   "metadata": {},
   "outputs": [],
   "source": [
    "import sys \n",
    "sys.path.append('../../')"
   ]
  },
  {
   "attachments": {},
   "cell_type": "markdown",
   "metadata": {},
   "source": [
    "### Generate Markdown"
   ]
  },
  {
   "cell_type": "code",
   "execution_count": 3,
   "metadata": {},
   "outputs": [
    {
     "data": {
      "text/plain": [
       "'7. [Add safety ranking column based on total incidents per miles flown.](#-7.Add-safety-ranking-column-based-on-total-incidents-per-miles-flown.)'"
      ]
     },
     "execution_count": 3,
     "metadata": {},
     "output_type": "execute_result"
    }
   ],
   "source": [
    "from helper.generate_markdown import generate_markdown_text\n",
    "generate_markdown_text('7.Add safety ranking column based on total incidents per miles flown.')"
   ]
  },
  {
   "attachments": {},
   "cell_type": "markdown",
   "metadata": {},
   "source": [
    "# Airline Safety Data\n",
    "\n",
    "1. [Read in the data using requests and save the raw data.](#-1.Read-in-the-data-using-requests-and-save-the-raw-data.)\n",
    "2. [Seperate header from the rest of the data.](#-2.Seperate-header-from-the-rest-of-the-data.)\n",
    "3. [Using regex, clean up the airline_names.](#-4.Using-regex,-clean-up-the-airline_names.)\n",
    "4. [Add avail_seat_mile_per_year column.](#-4.Add-avail_seat_mile_per_year-column.)\n",
    "5. [Save the cleaned data as csv file.](#-5.Save-the-cleaned-data-as-csv-file.)\n",
    "6. [Append total_incidents_per_billion_miles column using a helper function.](#-6.Append-total_incidents_per_billion_miles-column-using-a-helper-function.)\n",
    "7. [Add safety ranking column based on total incidents per miles flown.](#-7.Add-safety-ranking-column-based-on-total-incidents-per-miles-flown.)\n",
    "8. [Add safety ranking column based on total fatalities per miles flown.](#-8.Add-safety-ranking-column-based-on-total-fatalities-per-miles-flown.)"
   ]
  },
  {
   "attachments": {},
   "cell_type": "markdown",
   "metadata": {},
   "source": [
    "### 1.Read in the data using requests and save the raw data."
   ]
  },
  {
   "cell_type": "code",
   "execution_count": 4,
   "metadata": {},
   "outputs": [
    {
     "data": {
      "text/plain": [
       "[['airline',\n",
       "  'avail_seat_km_per_week',\n",
       "  'incidents_85_99',\n",
       "  'fatal_accidents_85_99',\n",
       "  'fatalities_85_99',\n",
       "  'incidents_00_14',\n",
       "  'fatal_accidents_00_14',\n",
       "  'fatalities_00_14'],\n",
       " ['Aer Lingus', '320906734', '2', '0', '0', '0', '0', '0'],\n",
       " ['Aeroflot*', '1197672318', '76', '14', '128', '6', '1', '88'],\n",
       " ['Aerolineas Argentinas', '385803648', '6', '0', '0', '1', '0', '0']]"
      ]
     },
     "execution_count": 4,
     "metadata": {},
     "output_type": "execute_result"
    }
   ],
   "source": [
    "url = 'https://raw.githubusercontent.com/fivethirtyeight/data/master/airline-safety/airline-safety.csv'\n",
    "\n",
    "# Send a GET request to the URL using the requests library, and store the response in a variable 'r'.\n",
    "r = requests.get(url)\n",
    "\n",
    "# Use csv.reader() to iterate over each line in the response using iter_lines() method \n",
    "# with decode_unicode=True to ensure the returned lines are in Unicode format.\n",
    "data = [row for row in csv.reader(r.iter_lines(decode_unicode=True))]\n",
    "\n",
    "# Print the first four rows \n",
    "data[0:4]"
   ]
  },
  {
   "cell_type": "code",
   "execution_count": 5,
   "metadata": {},
   "outputs": [],
   "source": [
    "# Write the data using context manager\n",
    "with open('../data/raw/airline_safety_raw.csv', 'w') as csvfile:\n",
    "    csv_writer = csv.writer(csvfile)\n",
    "    \n",
    "    for row in data:\n",
    "        csv_writer.writerow(row)"
   ]
  },
  {
   "attachments": {},
   "cell_type": "markdown",
   "metadata": {},
   "source": [
    "[BACK TO TOP][def]\n",
    "\n",
    "[def]: #-Airline-Safety-Data"
   ]
  },
  {
   "attachments": {},
   "cell_type": "markdown",
   "metadata": {},
   "source": [
    "### 2.Seperate header from the rest of the data."
   ]
  },
  {
   "cell_type": "code",
   "execution_count": 6,
   "metadata": {},
   "outputs": [
    {
     "data": {
      "text/plain": [
       "['airline',\n",
       " 'avail_seat_km_per_week',\n",
       " 'incidents_85_99',\n",
       " 'fatal_accidents_85_99',\n",
       " 'fatalities_85_99',\n",
       " 'incidents_00_14',\n",
       " 'fatal_accidents_00_14',\n",
       " 'fatalities_00_14']"
      ]
     },
     "execution_count": 6,
     "metadata": {},
     "output_type": "execute_result"
    }
   ],
   "source": [
    "# Seperate the header from the rest of data\n",
    "header, data = data[0], data[1:]\n",
    "\n",
    "header"
   ]
  },
  {
   "attachments": {},
   "cell_type": "markdown",
   "metadata": {},
   "source": [
    "### 3.Using regex, clean up the airline_names."
   ]
  },
  {
   "cell_type": "code",
   "execution_count": 7,
   "metadata": {},
   "outputs": [
    {
     "data": {
      "text/plain": [
       "['Aer Lingus',\n",
       " 'Aeroflot*',\n",
       " 'Aerolineas Argentinas',\n",
       " 'Aeromexico*',\n",
       " 'Air Canada',\n",
       " 'Air France',\n",
       " 'Air India*',\n",
       " 'Air New Zealand*',\n",
       " 'Alaska Airlines*',\n",
       " 'Alitalia',\n",
       " 'All Nippon Airways',\n",
       " 'American*',\n",
       " 'Austrian Airlines',\n",
       " 'Avianca',\n",
       " 'British Airways*',\n",
       " 'Cathay Pacific*',\n",
       " 'China Airlines',\n",
       " 'Condor',\n",
       " 'COPA',\n",
       " 'Delta / Northwest*',\n",
       " 'Egyptair',\n",
       " 'El Al',\n",
       " 'Ethiopian Airlines',\n",
       " 'Finnair',\n",
       " 'Garuda Indonesia',\n",
       " 'Gulf Air',\n",
       " 'Hawaiian Airlines',\n",
       " 'Iberia',\n",
       " 'Japan Airlines',\n",
       " 'Kenya Airways',\n",
       " 'KLM*',\n",
       " 'Korean Air',\n",
       " 'LAN Airlines',\n",
       " 'Lufthansa*',\n",
       " 'Malaysia Airlines',\n",
       " 'Pakistan International',\n",
       " 'Philippine Airlines',\n",
       " 'Qantas*',\n",
       " 'Royal Air Maroc',\n",
       " 'SAS*',\n",
       " 'Saudi Arabian',\n",
       " 'Singapore Airlines',\n",
       " 'South African',\n",
       " 'Southwest Airlines',\n",
       " 'Sri Lankan / AirLanka',\n",
       " 'SWISS*',\n",
       " 'TACA',\n",
       " 'TAM',\n",
       " 'TAP - Air Portugal',\n",
       " 'Thai Airways',\n",
       " 'Turkish Airlines',\n",
       " 'United / Continental*',\n",
       " 'US Airways / America West*',\n",
       " 'Vietnam Airlines',\n",
       " 'Virgin Atlantic',\n",
       " 'Xiamen Airlines']"
      ]
     },
     "execution_count": 7,
     "metadata": {},
     "output_type": "execute_result"
    }
   ],
   "source": [
    "# Create a list of airline names\n",
    "airlines = []\n",
    "for row in data:\n",
    "    airline = row[0]\n",
    "    airlines.append(airline)  \n",
    "\n",
    "airlines "
   ]
  },
  {
   "cell_type": "code",
   "execution_count": 8,
   "metadata": {},
   "outputs": [
    {
     "data": {
      "text/plain": [
       "['Aer Lingus',\n",
       " 'Aeroflot',\n",
       " 'Aerolineas Argentinas',\n",
       " 'Aeromexico',\n",
       " 'Air Canada',\n",
       " 'Air France',\n",
       " 'Air India',\n",
       " 'Air New Zealand',\n",
       " 'Alaska Airlines',\n",
       " 'Alitalia',\n",
       " 'All Nippon Airways',\n",
       " 'American',\n",
       " 'Austrian Airlines',\n",
       " 'Avianca',\n",
       " 'British Airways',\n",
       " 'Cathay Pacific',\n",
       " 'China Airlines',\n",
       " 'Condor',\n",
       " 'COPA',\n",
       " 'Delta / Northwest',\n",
       " 'Egyptair',\n",
       " 'El Al',\n",
       " 'Ethiopian Airlines',\n",
       " 'Finnair',\n",
       " 'Garuda Indonesia',\n",
       " 'Gulf Air',\n",
       " 'Hawaiian Airlines',\n",
       " 'Iberia',\n",
       " 'Japan Airlines',\n",
       " 'Kenya Airways',\n",
       " 'KLM',\n",
       " 'Korean Air',\n",
       " 'LAN Airlines',\n",
       " 'Lufthansa',\n",
       " 'Malaysia Airlines',\n",
       " 'Pakistan International',\n",
       " 'Philippine Airlines',\n",
       " 'Qantas',\n",
       " 'Royal Air Maroc',\n",
       " 'SAS',\n",
       " 'Saudi Arabian',\n",
       " 'Singapore Airlines',\n",
       " 'South African',\n",
       " 'Southwest Airlines',\n",
       " 'Sri Lankan / AirLanka',\n",
       " 'SWISS',\n",
       " 'TACA',\n",
       " 'TAM',\n",
       " 'TAP - Air Portugal',\n",
       " 'Thai Airways',\n",
       " 'Turkish Airlines',\n",
       " 'United / Continental',\n",
       " 'US Airways / America West',\n",
       " 'Vietnam Airlines',\n",
       " 'Virgin Atlantic',\n",
       " 'Xiamen Airlines']"
      ]
     },
     "execution_count": 8,
     "metadata": {},
     "output_type": "execute_result"
    }
   ],
   "source": [
    "import re \n",
    "\n",
    "# Remove * from airline names\n",
    "pattern = '\\*'\n",
    "airlines = [re.sub(pattern, '', airline) for airline in airlines]\n",
    "airlines"
   ]
  },
  {
   "cell_type": "code",
   "execution_count": 9,
   "metadata": {},
   "outputs": [
    {
     "data": {
      "text/plain": [
       "[['AerLingus', '320906734', '2', '0', '0', '0', '0', '0'],\n",
       " ['Aeroflot', '1197672318', '76', '14', '128', '6', '1', '88'],\n",
       " ['AerolineasArgentinas', '385803648', '6', '0', '0', '1', '0', '0'],\n",
       " ['Aeromexico', '596871813', '3', '1', '64', '5', '0', '0'],\n",
       " ['AirCanada', '1865253802', '2', '0', '0', '2', '0', '0']]"
      ]
     },
     "execution_count": 9,
     "metadata": {},
     "output_type": "execute_result"
    }
   ],
   "source": [
    "for row in data:\n",
    "    # Define a regular expression pattern that matches either an asterisk (*) \n",
    "    # or a forward slash (/) or a whitespace (\\s)\n",
    "    pattern = r'[\\*\\/\\s]'\n",
    "\n",
    "    # Use the re.sub() function to replace all occurrences of the pattern \n",
    "    # in the string. Using a lambda function to determine \n",
    "    # the replacement string based on the matched character\n",
    "    row[0] = re.sub(pattern, lambda match: '_' if match.group() == '/' else '', row[0])\n",
    "\n",
    "# Inspect the first 5 columns\n",
    "data[:5]\n"
   ]
  },
  {
   "attachments": {},
   "cell_type": "markdown",
   "metadata": {},
   "source": [
    "[BACK TO TOP][def]\n",
    "\n",
    "[def]: #-Airline-Safety-Data"
   ]
  },
  {
   "attachments": {},
   "cell_type": "markdown",
   "metadata": {},
   "source": [
    "### 4.Add avail_seat_mile_per_year column."
   ]
  },
  {
   "cell_type": "code",
   "execution_count": 10,
   "metadata": {},
   "outputs": [],
   "source": [
    "# Add 'avail_seat_mile_per_year' column\n",
    "header.append('avail_seat_mile_per_year')"
   ]
  },
  {
   "cell_type": "code",
   "execution_count": 11,
   "metadata": {},
   "outputs": [
    {
     "data": {
      "text/plain": [
       "['airline',\n",
       " 'avail_seat_km_per_week',\n",
       " 'incidents_85_99',\n",
       " 'fatal_accidents_85_99',\n",
       " 'fatalities_85_99',\n",
       " 'incidents_00_14',\n",
       " 'fatal_accidents_00_14',\n",
       " 'fatalities_00_14',\n",
       " 'avail_seat_mile_per_year']"
      ]
     },
     "execution_count": 11,
     "metadata": {},
     "output_type": "execute_result"
    }
   ],
   "source": [
    "header"
   ]
  },
  {
   "cell_type": "code",
   "execution_count": 12,
   "metadata": {},
   "outputs": [
    {
     "name": "stdout",
     "output_type": "stream",
     "text": [
      "10368911187.040329\n"
     ]
    }
   ],
   "source": [
    "# Convert km_to_mil: 1 kilometer is equal to 0.621371 miles.\n",
    "# Convert week_to_year: There are 52 weeks in a year.\n",
    "for row in data:\n",
    "    col = row[1] # curent avail_seat_km_per_week value\n",
    "    new_col= int(col) * 0.621371 * 52\n",
    "    print(new_col)\n",
    "    break"
   ]
  },
  {
   "cell_type": "code",
   "execution_count": 13,
   "metadata": {},
   "outputs": [
    {
     "data": {
      "text/plain": [
       "[10368911187.040329,\n",
       " 38698339987.21486,\n",
       " 12465814325.193216,\n",
       " 19285699436.412395,\n",
       " 60268760250.53219]"
      ]
     },
     "execution_count": 13,
     "metadata": {},
     "output_type": "execute_result"
    }
   ],
   "source": [
    "# Define a lambda function that returns the convertion result as an integer.\n",
    "convert_to_mile = lambda x: int(x) * 0.621371 * 52\n",
    "# Apply the function to the avail_seat_km_per_week col\n",
    "miles_per_year = [convert_to_mile(col[1]) for col in data]\n",
    "# Inspect the first five rows\n",
    "miles_per_year[0:5]"
   ]
  },
  {
   "cell_type": "code",
   "execution_count": 14,
   "metadata": {},
   "outputs": [
    {
     "data": {
      "text/plain": [
       "['AerLingus', '320906734', '2', '0', '0', '0', '0', '0', 10368911187.040329]"
      ]
     },
     "execution_count": 14,
     "metadata": {},
     "output_type": "execute_result"
    }
   ],
   "source": [
    "# List comprehension for better performance for larger datasets\n",
    "[row + [miles_per_year[index]] for index, row in enumerate(data)][0]"
   ]
  },
  {
   "cell_type": "code",
   "execution_count": 15,
   "metadata": {},
   "outputs": [
    {
     "data": {
      "text/plain": [
       "['AerLingus', '320906734', '2', '0', '0', '0', '0', '0', 10368911187.040329]"
      ]
     },
     "execution_count": 15,
     "metadata": {},
     "output_type": "execute_result"
    }
   ],
   "source": [
    "# Update the data list using for loop\n",
    "for i,row in enumerate(miles_per_year):\n",
    "    data[i].append(row)\n",
    "data[0]"
   ]
  },
  {
   "attachments": {},
   "cell_type": "markdown",
   "metadata": {},
   "source": [
    "[BACK TO TOP][def]\n",
    "\n",
    "[def]: #-Airline-Safety-Data"
   ]
  },
  {
   "attachments": {},
   "cell_type": "markdown",
   "metadata": {},
   "source": [
    "### 5.Save the cleaned data as csv file."
   ]
  },
  {
   "cell_type": "code",
   "execution_count": 16,
   "metadata": {},
   "outputs": [],
   "source": [
    "with open('../data/cleaned/airline_safety_clean.csv', 'w') as csv_file:\n",
    "    writer = csv.writer(csv_file)\n",
    "    writer.writerow(header) # write header row first\n",
    "    \n",
    "    for row in data:\n",
    "        writer.writerow(row) # iterate thru each row"
   ]
  },
  {
   "attachments": {},
   "cell_type": "markdown",
   "metadata": {},
   "source": [
    "[BACK TO TOP][def]\n",
    "\n",
    "[def]: #-Airline-Safety-Data"
   ]
  },
  {
   "attachments": {},
   "cell_type": "markdown",
   "metadata": {},
   "source": [
    "### 6.Append total_incidents_per_billion_miles column using a helper function."
   ]
  },
  {
   "cell_type": "code",
   "execution_count": 17,
   "metadata": {},
   "outputs": [
    {
     "data": {
      "text/plain": [
       "[0.19288428301975385,\n",
       " 2.1189539403381747,\n",
       " 0.5615357182050761,\n",
       " 0.41481513421632277,\n",
       " 0.06636937583264789]"
      ]
     },
     "execution_count": 17,
     "metadata": {},
     "output_type": "execute_result"
    }
   ],
   "source": [
    "calculate_incidents_rate = lambda x: (int(x[2]) + int(x[5])) / int(x[-1]) * 1_000_000_000 \n",
    "\n",
    "incidents_list =[ calculate_incidents_rate(row) for row in data]\n",
    "# Inspect the first five rows\n",
    "incidents_list[0:5]\n"
   ]
  },
  {
   "cell_type": "code",
   "execution_count": 18,
   "metadata": {},
   "outputs": [
    {
     "name": "stdout",
     "output_type": "stream",
     "text": [
      "Added new column 'total_incidents_per_billion_miles' at position 9 to airline_safety_clean.csv file.\n"
     ]
    }
   ],
   "source": [
    "from airline_safety import add_column\n",
    "add_column(col_name='total_incidents_per_billion_miles', col_values=incidents_list)\n"
   ]
  },
  {
   "attachments": {},
   "cell_type": "markdown",
   "metadata": {},
   "source": [
    "[BACK TO TOP][def]\n",
    "\n",
    "[def]: #-Airline-Safety-Data"
   ]
  },
  {
   "attachments": {},
   "cell_type": "markdown",
   "metadata": {},
   "source": [
    "### 7.Add safety ranking column based on total incidents per miles flown."
   ]
  },
  {
   "cell_type": "code",
   "execution_count": 19,
   "metadata": {},
   "outputs": [],
   "source": [
    "# Read the data\n",
    "with open('../../generate_data/data/cleaned/airline_safety_clean.csv', 'r') as csv_file:\n",
    "    reader = csv.reader(csv_file)\n",
    "    reader_data = list(reader)"
   ]
  },
  {
   "cell_type": "code",
   "execution_count": 20,
   "metadata": {},
   "outputs": [
    {
     "name": "stdout",
     "output_type": "stream",
     "text": [
      "['airline', 'avail_seat_km_per_week', 'incidents_85_99', 'fatal_accidents_85_99', 'fatalities_85_99', 'incidents_00_14', 'fatal_accidents_00_14', 'fatalities_00_14', 'avail_seat_mile_per_year', 'total_incidents_per_billion_miles']\n"
     ]
    }
   ],
   "source": [
    "for row in reader_data:\n",
    "    print(row)\n",
    "    break"
   ]
  },
  {
   "cell_type": "code",
   "execution_count": 21,
   "metadata": {},
   "outputs": [],
   "source": [
    "# Extract and convert the string data from the last column to a list of floats\n",
    "total_incidents_data = [float(row[-1]) for row in reader_data[1:]]"
   ]
  },
  {
   "cell_type": "code",
   "execution_count": 22,
   "metadata": {},
   "outputs": [
    {
     "data": {
      "text/plain": [
       "[0.19288428301975385,\n",
       " 2.1189539403381747,\n",
       " 0.5615357182050761,\n",
       " 0.41481513421632277,\n",
       " 0.06636937583264789]"
      ]
     },
     "execution_count": 22,
     "metadata": {},
     "output_type": "execute_result"
    }
   ],
   "source": [
    "total_incidents_data[0:5]"
   ]
  },
  {
   "cell_type": "code",
   "execution_count": 23,
   "metadata": {},
   "outputs": [
    {
     "data": {
      "text/plain": [
       "4"
      ]
     },
     "execution_count": 23,
     "metadata": {},
     "output_type": "execute_result"
    }
   ],
   "source": [
    "# Get the index value of airline with 0.06636937583264789 total incidents\n",
    "total_incidents_data.index(0.06636937583264789)"
   ]
  },
  {
   "cell_type": "code",
   "execution_count": 24,
   "metadata": {},
   "outputs": [
    {
     "data": {
      "text/plain": [
       "[49, 16, 55, 42, 29, 24, 27, 5, 34, 44, 33, 38, 15, 31, 43, 52, 18, 11, 19, 13]"
      ]
     },
     "execution_count": 24,
     "metadata": {},
     "output_type": "execute_result"
    }
   ],
   "source": [
    "# Add 1 to the index value since ranking index starts at 1 not 0\n",
    "rank_list = [total_incidents_data.index(row)+1 \n",
    "             for row in sorted(total_incidents_data)]\n",
    "\n",
    "# Insect the first 20 values\n",
    "rank_list[0:20]"
   ]
  },
  {
   "cell_type": "code",
   "execution_count": 25,
   "metadata": {},
   "outputs": [
    {
     "name": "stdout",
     "output_type": "stream",
     "text": [
      "Added new column 'safety_ranking_per_incident' at position 1 to airline_safety_clean.csv file.\n"
     ]
    }
   ],
   "source": [
    "add_column(col_name='safety_ranking_per_incident', col_values=rank_list, position=1)"
   ]
  },
  {
   "attachments": {},
   "cell_type": "markdown",
   "metadata": {},
   "source": [
    "[BACK TO TOP][def]\n",
    "\n",
    "[def]: #-Airline-Safety-Data"
   ]
  },
  {
   "attachments": {},
   "cell_type": "markdown",
   "metadata": {},
   "source": [
    "### 8.Add safety ranking column based on total fatalities per miles flown."
   ]
  },
  {
   "cell_type": "code",
   "execution_count": 26,
   "metadata": {},
   "outputs": [],
   "source": [
    "# The fatality rate is calculated by adding the total number of fatalities in columns 4 and 7, \n",
    "# dividing by the total_incidents_per_billion_miles column and multiplying by 1 billion.\n",
    "calculate_fatality_rate = lambda x: (int(x[4]) + int(x[7])) / float(x[-2]) * 1_000_000_000"
   ]
  },
  {
   "cell_type": "code",
   "execution_count": 27,
   "metadata": {},
   "outputs": [
    {
     "data": {
      "text/plain": [
       "[0.0,\n",
       " 5.581634769640299,\n",
       " 0.0,\n",
       " 3.3185210736596207,\n",
       " 0.0,\n",
       " 4.285867036767085,\n",
       " 17.33916435168837,\n",
       " 0.30505521088121107,\n",
       " 2.8212722614618877,\n",
       " 2.2169325578307957]"
      ]
     },
     "execution_count": 27,
     "metadata": {},
     "output_type": "execute_result"
    }
   ],
   "source": [
    "total_fatalities =[ calculate_fatality_rate(row) for row in reader_data[1:]]\n",
    "total_fatalities[0:10]"
   ]
  },
  {
   "cell_type": "code",
   "execution_count": 28,
   "metadata": {},
   "outputs": [
    {
     "data": {
      "text/plain": [
       "[('AerLingus', (0.0, 1)),\n",
       " ('AerolineasArgentinas', (0.0, 3)),\n",
       " ('AirCanada', (0.0, 5)),\n",
       " ('AustrianAirlines', (0.0, 13)),\n",
       " ('BritishAirways', (0.0, 15)),\n",
       " ('CathayPacific', (0.0, 16)),\n",
       " ('Finnair', (0.0, 24)),\n",
       " ('HawaiianAirlines', (0.0, 27)),\n",
       " ('Qantas', (0.0, 38)),\n",
       " ('SouthwestAirlines', (0.0, 44)),\n",
       " ('TAP-AirPortugal', (0.0, 49)),\n",
       " ('VirginAtlantic', (0.0, 55)),\n",
       " ('AllNipponAirways', (0.016808797619760923, 11)),\n",
       " ('Lufthansa', (0.01806430244692273, 34)),\n",
       " ('KLM', (0.04952986841652627, 31)),\n",
       " ('AirNewZealand', (0.30505521088121107, 8)),\n",
       " ('ElAl', (0.3690459389206782, 22)),\n",
       " ('LANAirlines', (0.6486524057607679, 33)),\n",
       " ('TACA', (0.7159316821655235, 47)),\n",
       " ('SingaporeAirlines', (1.1588640263688075, 42))]"
      ]
     },
     "execution_count": 28,
     "metadata": {},
     "output_type": "execute_result"
    }
   ],
   "source": [
    "fatality_dict = {}\n",
    "\n",
    "# Loop through each row of the reader_data starting from the second row\n",
    "for i,row in enumerate(reader_data[1:]):\n",
    "    name = row[0]   # Get the name from the first column of the row\n",
    "    total_fatality = total_fatalities[i] # Get the corresponding total fatality from total_fatalities list\n",
    "    index_rank = i+1  # Get the index rank by adding 1 to the current index\n",
    "    fatality_dict[name] = (total_fatality, index_rank)\n",
    "   \n",
    "# Sort the fatality_dict by the total fatality value (first item in the tuple)\n",
    "sorted_fatalities = sorted(fatality_dict.items(), key= lambda x: float(x[1][0]))\n",
    "# Check the first 20 values\n",
    "sorted_fatalities[0:20]\n"
   ]
  },
  {
   "cell_type": "code",
   "execution_count": 29,
   "metadata": {},
   "outputs": [
    {
     "data": {
      "text/plain": [
       "[1, 3, 5, 13, 15, 16, 24, 27, 38, 44]"
      ]
     },
     "execution_count": 29,
     "metadata": {},
     "output_type": "execute_result"
    }
   ],
   "source": [
    "# loop through each tuple in sorted_fatalities and \n",
    "# get the second item in the tuple (the index rank)\n",
    "fatality_ranking_list = [index_rank for _,(_,index_rank) in sorted_fatalities]\n",
    "\n",
    "# check the first 10 values\n",
    "fatality_ranking_list[0:10]\n"
   ]
  },
  {
   "cell_type": "code",
   "execution_count": 30,
   "metadata": {},
   "outputs": [
    {
     "name": "stdout",
     "output_type": "stream",
     "text": [
      "Added new column 'safety_ranking_per_fatality' at position 2 to airline_safety_clean.csv file.\n"
     ]
    }
   ],
   "source": [
    "add_column(col_name='safety_ranking_per_fatality', \n",
    "           col_values=fatality_ranking_list, \n",
    "           position=2)"
   ]
  },
  {
   "attachments": {},
   "cell_type": "markdown",
   "metadata": {},
   "source": [
    "[BACK TO TOP][def]\n",
    "\n",
    "[def]: #-Airline-Safety-Data"
   ]
  },
  {
   "attachments": {},
   "cell_type": "markdown",
   "metadata": {},
   "source": [
    "# THE END"
   ]
  }
 ],
 "metadata": {
  "kernelspec": {
   "display_name": "Python 3",
   "language": "python",
   "name": "python3"
  },
  "language_info": {
   "codemirror_mode": {
    "name": "ipython",
    "version": 3
   },
   "file_extension": ".py",
   "mimetype": "text/x-python",
   "name": "python",
   "nbconvert_exporter": "python",
   "pygments_lexer": "ipython3",
   "version": "3.10.4"
  },
  "orig_nbformat": 4
 },
 "nbformat": 4,
 "nbformat_minor": 2
}
