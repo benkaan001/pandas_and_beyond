{
 "cells": [
  {
   "cell_type": "code",
   "execution_count": 1,
   "metadata": {},
   "outputs": [],
   "source": [
    "import requests\n",
    "import csv "
   ]
  },
  {
   "cell_type": "code",
   "execution_count": 2,
   "metadata": {},
   "outputs": [],
   "source": [
    "import sys \n",
    "sys.path.append('../../')"
   ]
  },
  {
   "attachments": {},
   "cell_type": "markdown",
   "metadata": {},
   "source": [
    "### Generate Markdown"
   ]
  },
  {
   "cell_type": "code",
   "execution_count": 3,
   "metadata": {},
   "outputs": [
    {
     "data": {
      "text/plain": [
       "'5. [Calculate and add average number of incidents per miles.](#-5.Calculate-and-add-average-number-of-incidents-per-miles.)'"
      ]
     },
     "execution_count": 3,
     "metadata": {},
     "output_type": "execute_result"
    }
   ],
   "source": [
    "from helper.generate_markdown import generate_markdown_text\n",
    "generate_markdown_text('5.Calculate and add average number of incidents per miles.')"
   ]
  },
  {
   "attachments": {},
   "cell_type": "markdown",
   "metadata": {},
   "source": [
    "# Airline Safety Data\n",
    "\n",
    "1. [Read in the data using requests and save the raw data.](#-1.Read-in-the-data-using-requests-and-save-the-raw-data.)\n",
    "2. [Seperate header from the rest of the data.](#-2.Seperate-header-from-the-rest-of-the-data.)\n",
    "3. [Explore airline_names column values.](#-3.Explore-airline_names-column-values.)\n",
    "4. [Using regex clean up the airline_names.](#-4.Using-regex-clean-up-the-airline_names.)\n",
    "5. [Calculate and add average number of incidents per miles.](#-5.Calculate-and-add-average-number-of-incidents-per-miles.)"
   ]
  },
  {
   "attachments": {},
   "cell_type": "markdown",
   "metadata": {},
   "source": [
    "### 1.Read in the data using requests and save the raw data."
   ]
  },
  {
   "cell_type": "code",
   "execution_count": 4,
   "metadata": {},
   "outputs": [
    {
     "data": {
      "text/plain": [
       "[['airline',\n",
       "  'avail_seat_km_per_week',\n",
       "  'incidents_85_99',\n",
       "  'fatal_accidents_85_99',\n",
       "  'fatalities_85_99',\n",
       "  'incidents_00_14',\n",
       "  'fatal_accidents_00_14',\n",
       "  'fatalities_00_14'],\n",
       " ['Aer Lingus', '320906734', '2', '0', '0', '0', '0', '0'],\n",
       " ['Aeroflot*', '1197672318', '76', '14', '128', '6', '1', '88'],\n",
       " ['Aerolineas Argentinas', '385803648', '6', '0', '0', '1', '0', '0']]"
      ]
     },
     "execution_count": 4,
     "metadata": {},
     "output_type": "execute_result"
    }
   ],
   "source": [
    "url = 'https://raw.githubusercontent.com/fivethirtyeight/data/master/airline-safety/airline-safety.csv'\n",
    "\n",
    "# Send a GET request to the URL using the requests library, and store the response in a variable 'r'.\n",
    "r = requests.get(url)\n",
    "\n",
    "# Use csv.reader() to iterate over each line in the response using iter_lines() method \n",
    "# with decode_unicode=True to ensure the returned lines are in Unicode format.\n",
    "data = [row for row in csv.reader(r.iter_lines(decode_unicode=True))]\n",
    "\n",
    "# print the first four rows \n",
    "data[0:4]"
   ]
  },
  {
   "cell_type": "code",
   "execution_count": 5,
   "metadata": {},
   "outputs": [],
   "source": [
    "# write the data using context manager\n",
    "with open('../data/raw/airline_safety_raw.csv', 'w') as csvfile:\n",
    "    csv_writer = csv.writer(csvfile)\n",
    "    \n",
    "    for row in data:\n",
    "        csv_writer.writerow(row)"
   ]
  },
  {
   "attachments": {},
   "cell_type": "markdown",
   "metadata": {},
   "source": [
    "## 2.Seperate header from the rest of the data."
   ]
  },
  {
   "cell_type": "code",
   "execution_count": 6,
   "metadata": {},
   "outputs": [
    {
     "data": {
      "text/plain": [
       "['airline',\n",
       " 'avail_seat_km_per_week',\n",
       " 'incidents_85_99',\n",
       " 'fatal_accidents_85_99',\n",
       " 'fatalities_85_99',\n",
       " 'incidents_00_14',\n",
       " 'fatal_accidents_00_14',\n",
       " 'fatalities_00_14']"
      ]
     },
     "execution_count": 6,
     "metadata": {},
     "output_type": "execute_result"
    }
   ],
   "source": [
    "# seperate the header from the rest of data\n",
    "header, data = data[0], data[1:]\n",
    "\n",
    "header"
   ]
  },
  {
   "attachments": {},
   "cell_type": "markdown",
   "metadata": {},
   "source": [
    "## 3.Explore airline_names column values."
   ]
  },
  {
   "cell_type": "code",
   "execution_count": 7,
   "metadata": {},
   "outputs": [
    {
     "data": {
      "text/plain": [
       "['Aer Lingus',\n",
       " 'Aeroflot*',\n",
       " 'Aerolineas Argentinas',\n",
       " 'Aeromexico*',\n",
       " 'Air Canada',\n",
       " 'Air France',\n",
       " 'Air India*',\n",
       " 'Air New Zealand*',\n",
       " 'Alaska Airlines*',\n",
       " 'Alitalia',\n",
       " 'All Nippon Airways',\n",
       " 'American*',\n",
       " 'Austrian Airlines',\n",
       " 'Avianca',\n",
       " 'British Airways*',\n",
       " 'Cathay Pacific*',\n",
       " 'China Airlines',\n",
       " 'Condor',\n",
       " 'COPA',\n",
       " 'Delta / Northwest*',\n",
       " 'Egyptair',\n",
       " 'El Al',\n",
       " 'Ethiopian Airlines',\n",
       " 'Finnair',\n",
       " 'Garuda Indonesia',\n",
       " 'Gulf Air',\n",
       " 'Hawaiian Airlines',\n",
       " 'Iberia',\n",
       " 'Japan Airlines',\n",
       " 'Kenya Airways',\n",
       " 'KLM*',\n",
       " 'Korean Air',\n",
       " 'LAN Airlines',\n",
       " 'Lufthansa*',\n",
       " 'Malaysia Airlines',\n",
       " 'Pakistan International',\n",
       " 'Philippine Airlines',\n",
       " 'Qantas*',\n",
       " 'Royal Air Maroc',\n",
       " 'SAS*',\n",
       " 'Saudi Arabian',\n",
       " 'Singapore Airlines',\n",
       " 'South African',\n",
       " 'Southwest Airlines',\n",
       " 'Sri Lankan / AirLanka',\n",
       " 'SWISS*',\n",
       " 'TACA',\n",
       " 'TAM',\n",
       " 'TAP - Air Portugal',\n",
       " 'Thai Airways',\n",
       " 'Turkish Airlines',\n",
       " 'United / Continental*',\n",
       " 'US Airways / America West*',\n",
       " 'Vietnam Airlines',\n",
       " 'Virgin Atlantic',\n",
       " 'Xiamen Airlines']"
      ]
     },
     "execution_count": 7,
     "metadata": {},
     "output_type": "execute_result"
    }
   ],
   "source": [
    "# create a list of airline names\n",
    "airlines = []\n",
    "for row in data:\n",
    "    airline = row[0]\n",
    "    airlines.append(airline)  \n",
    "\n",
    "airlines "
   ]
  },
  {
   "cell_type": "code",
   "execution_count": 8,
   "metadata": {},
   "outputs": [
    {
     "data": {
      "text/plain": [
       "['Aer Lingus',\n",
       " 'Aeroflot',\n",
       " 'Aerolineas Argentinas',\n",
       " 'Aeromexico',\n",
       " 'Air Canada',\n",
       " 'Air France',\n",
       " 'Air India',\n",
       " 'Air New Zealand',\n",
       " 'Alaska Airlines',\n",
       " 'Alitalia',\n",
       " 'All Nippon Airways',\n",
       " 'American',\n",
       " 'Austrian Airlines',\n",
       " 'Avianca',\n",
       " 'British Airways',\n",
       " 'Cathay Pacific',\n",
       " 'China Airlines',\n",
       " 'Condor',\n",
       " 'COPA',\n",
       " 'Delta / Northwest',\n",
       " 'Egyptair',\n",
       " 'El Al',\n",
       " 'Ethiopian Airlines',\n",
       " 'Finnair',\n",
       " 'Garuda Indonesia',\n",
       " 'Gulf Air',\n",
       " 'Hawaiian Airlines',\n",
       " 'Iberia',\n",
       " 'Japan Airlines',\n",
       " 'Kenya Airways',\n",
       " 'KLM',\n",
       " 'Korean Air',\n",
       " 'LAN Airlines',\n",
       " 'Lufthansa',\n",
       " 'Malaysia Airlines',\n",
       " 'Pakistan International',\n",
       " 'Philippine Airlines',\n",
       " 'Qantas',\n",
       " 'Royal Air Maroc',\n",
       " 'SAS',\n",
       " 'Saudi Arabian',\n",
       " 'Singapore Airlines',\n",
       " 'South African',\n",
       " 'Southwest Airlines',\n",
       " 'Sri Lankan / AirLanka',\n",
       " 'SWISS',\n",
       " 'TACA',\n",
       " 'TAM',\n",
       " 'TAP - Air Portugal',\n",
       " 'Thai Airways',\n",
       " 'Turkish Airlines',\n",
       " 'United / Continental',\n",
       " 'US Airways / America West',\n",
       " 'Vietnam Airlines',\n",
       " 'Virgin Atlantic',\n",
       " 'Xiamen Airlines']"
      ]
     },
     "execution_count": 8,
     "metadata": {},
     "output_type": "execute_result"
    }
   ],
   "source": [
    "import re \n",
    "pattern = '\\*'\n",
    "airlines = [re.sub(pattern, '', airline) for airline in airlines]\n",
    "airlines"
   ]
  },
  {
   "attachments": {},
   "cell_type": "markdown",
   "metadata": {},
   "source": [
    "## 4.Using regex clean up the airline_names."
   ]
  },
  {
   "cell_type": "code",
   "execution_count": 9,
   "metadata": {},
   "outputs": [
    {
     "data": {
      "text/plain": [
       "[['AerLingus', '320906734', '2', '0', '0', '0', '0', '0'],\n",
       " ['Aeroflot', '1197672318', '76', '14', '128', '6', '1', '88'],\n",
       " ['AerolineasArgentinas', '385803648', '6', '0', '0', '1', '0', '0'],\n",
       " ['Aeromexico', '596871813', '3', '1', '64', '5', '0', '0'],\n",
       " ['AirCanada', '1865253802', '2', '0', '0', '2', '0', '0'],\n",
       " ['AirFrance', '3004002661', '14', '4', '79', '6', '2', '337'],\n",
       " ['AirIndia', '869253552', '2', '1', '329', '4', '1', '158'],\n",
       " ['AirNewZealand', '710174817', '3', '0', '0', '5', '1', '7'],\n",
       " ['AlaskaAirlines', '965346773', '5', '0', '0', '5', '1', '88'],\n",
       " ['Alitalia', '698012498', '7', '2', '50', '4', '0', '0'],\n",
       " ['AllNipponAirways', '1841234177', '3', '1', '1', '7', '0', '0'],\n",
       " ['American', '5228357340', '21', '5', '101', '17', '3', '416'],\n",
       " ['AustrianAirlines', '358239823', '1', '0', '0', '1', '0', '0'],\n",
       " ['Avianca', '396922563', '5', '3', '323', '0', '0', '0'],\n",
       " ['BritishAirways', '3179760952', '4', '0', '0', '6', '0', '0'],\n",
       " ['CathayPacific', '2582459303', '0', '0', '0', '2', '0', '0'],\n",
       " ['ChinaAirlines', '813216487', '12', '6', '535', '2', '1', '225'],\n",
       " ['Condor', '417982610', '2', '1', '16', '0', '0', '0'],\n",
       " ['COPA', '550491507', '3', '1', '47', '0', '0', '0'],\n",
       " ['Delta_Northwest', '6525658894', '24', '12', '407', '24', '2', '51'],\n",
       " ['Egyptair', '557699891', '8', '3', '282', '4', '1', '14'],\n",
       " ['ElAl', '335448023', '1', '1', '4', '1', '0', '0'],\n",
       " ['EthiopianAirlines', '488560643', '25', '5', '167', '5', '2', '92'],\n",
       " ['Finnair', '506464950', '1', '0', '0', '0', '0', '0'],\n",
       " ['GarudaIndonesia', '613356665', '10', '3', '260', '4', '2', '22'],\n",
       " ['GulfAir', '301379762', '1', '0', '0', '3', '1', '143'],\n",
       " ['HawaiianAirlines', '493877795', '0', '0', '0', '1', '0', '0'],\n",
       " ['Iberia', '1173203126', '4', '1', '148', '5', '0', '0'],\n",
       " ['JapanAirlines', '1574217531', '3', '1', '520', '0', '0', '0'],\n",
       " ['KenyaAirways', '277414794', '2', '0', '0', '2', '2', '283'],\n",
       " ['KLM', '1874561773', '7', '1', '3', '1', '0', '0'],\n",
       " ['KoreanAir', '1734522605', '12', '5', '425', '1', '0', '0'],\n",
       " ['LANAirlines', '1001965891', '3', '2', '21', '0', '0', '0'],\n",
       " ['Lufthansa', '3426529504', '6', '1', '2', '3', '0', '0'],\n",
       " ['MalaysiaAirlines', '1039171244', '3', '1', '34', '3', '2', '537'],\n",
       " ['PakistanInternational', '348563137', '8', '3', '234', '10', '2', '46'],\n",
       " ['PhilippineAirlines', '413007158', '7', '4', '74', '2', '1', '1'],\n",
       " ['Qantas', '1917428984', '1', '0', '0', '5', '0', '0'],\n",
       " ['RoyalAirMaroc', '295705339', '5', '3', '51', '3', '0', '0'],\n",
       " ['SAS', '682971852', '5', '0', '0', '6', '1', '110'],\n",
       " ['SaudiArabian', '859673901', '7', '2', '313', '11', '0', '0'],\n",
       " ['SingaporeAirlines', '2376857805', '2', '2', '6', '2', '1', '83'],\n",
       " ['SouthAfrican', '651502442', '2', '1', '159', '1', '0', '0'],\n",
       " ['SouthwestAirlines', '3276525770', '1', '0', '0', '8', '0', '0'],\n",
       " ['SriLankan_AirLanka', '325582976', '2', '1', '14', '4', '0', '0'],\n",
       " ['SWISS', '792601299', '2', '1', '229', '3', '0', '0'],\n",
       " ['TACA', '259373346', '3', '1', '3', '1', '1', '3'],\n",
       " ['TAM', '1509195646', '8', '3', '98', '7', '2', '188'],\n",
       " ['TAP-AirPortugal', '619130754', '0', '0', '0', '0', '0', '0'],\n",
       " ['ThaiAirways', '1702802250', '8', '4', '308', '2', '1', '1'],\n",
       " ['TurkishAirlines', '1946098294', '8', '3', '64', '8', '2', '84'],\n",
       " ['United_Continental', '7139291291', '19', '8', '319', '14', '2', '109'],\n",
       " ['USAirways_AmericaWest', '2455687887', '16', '7', '224', '11', '2', '23'],\n",
       " ['VietnamAirlines', '625084918', '7', '3', '171', '1', '0', '0'],\n",
       " ['VirginAtlantic', '1005248585', '1', '0', '0', '0', '0', '0'],\n",
       " ['XiamenAirlines', '430462962', '9', '1', '82', '2', '0', '0']]"
      ]
     },
     "execution_count": 9,
     "metadata": {},
     "output_type": "execute_result"
    }
   ],
   "source": [
    "for row in data:\n",
    "    # Define a regular expression pattern that matches either an asterisk (*) \n",
    "    # or a forward slash (/) or a whitespace (\\s)\n",
    "    pattern = r'[\\*\\/\\s]'\n",
    "\n",
    "    # Use the re.sub() function to replace all occurrences of the pattern \n",
    "    # in the string. Using a lambda function to determine \n",
    "    # the replacement string based on the matched character\n",
    "    row[0] = re.sub(pattern, lambda match: '_' if match.group() == '/' else '', row[0])\n",
    "\n",
    "data\n"
   ]
  },
  {
   "attachments": {},
   "cell_type": "markdown",
   "metadata": {},
   "source": [
    "## 5.Calculate and add average number of incidents per miles."
   ]
  },
  {
   "cell_type": "code",
   "execution_count": 10,
   "metadata": {},
   "outputs": [],
   "source": [
    "# add 'avail_seat_mile_per_year' column\n",
    "header.append('avail_seat_mile_per_year')"
   ]
  },
  {
   "cell_type": "code",
   "execution_count": 11,
   "metadata": {},
   "outputs": [
    {
     "data": {
      "text/plain": [
       "['airline',\n",
       " 'avail_seat_km_per_week',\n",
       " 'incidents_85_99',\n",
       " 'fatal_accidents_85_99',\n",
       " 'fatalities_85_99',\n",
       " 'incidents_00_14',\n",
       " 'fatal_accidents_00_14',\n",
       " 'fatalities_00_14',\n",
       " 'avail_seat_mile_per_year']"
      ]
     },
     "execution_count": 11,
     "metadata": {},
     "output_type": "execute_result"
    }
   ],
   "source": [
    "header"
   ]
  },
  {
   "cell_type": "code",
   "execution_count": 12,
   "metadata": {},
   "outputs": [
    {
     "name": "stdout",
     "output_type": "stream",
     "text": [
      "10368911187.040329\n"
     ]
    }
   ],
   "source": [
    "# Convert km_to_mil: 1 kilometer is equal to 0.621371 miles.\n",
    "# Convert week_to_year: There are 52 weeks in a year.\n",
    "for row in data:\n",
    "    col = row[1] # curent avail_seat_km_per_week value\n",
    "    new_col= int(col) * 0.621371 * 52\n",
    "    print(new_col)\n",
    "    break"
   ]
  },
  {
   "cell_type": "code",
   "execution_count": 13,
   "metadata": {},
   "outputs": [
    {
     "data": {
      "text/plain": [
       "[10368911187.040329,\n",
       " 38698339987.21486,\n",
       " 12465814325.193216,\n",
       " 19285699436.412395,\n",
       " 60268760250.53219]"
      ]
     },
     "execution_count": 13,
     "metadata": {},
     "output_type": "execute_result"
    }
   ],
   "source": [
    "# define a lambda function that returns the convertion result as an integer.\n",
    "convert_to_mile = lambda x: int(x) * 0.621371 * 52\n",
    "# apply the function to the avail_seat_km_per_week col\n",
    "miles_per_year = [convert_to_mile(col[1]) for col in data]\n",
    "# inspect the first five rows\n",
    "miles_per_year[0:5]"
   ]
  },
  {
   "cell_type": "code",
   "execution_count": 14,
   "metadata": {},
   "outputs": [
    {
     "data": {
      "text/plain": [
       "['AerLingus', '320906734', '2', '0', '0', '0', '0', '0', 10368911187.040329]"
      ]
     },
     "execution_count": 14,
     "metadata": {},
     "output_type": "execute_result"
    }
   ],
   "source": [
    "for index,row in enumerate(miles_per_year):\n",
    "    data[index].append(row)\n",
    "data[0]"
   ]
  },
  {
   "cell_type": "code",
   "execution_count": 15,
   "metadata": {},
   "outputs": [],
   "source": [
    "# list comprehension for better performance for larger datasets\n",
    "\n",
    "# data = [row + [miles_per_year[index]] for index, row in enumerate(data)]"
   ]
  },
  {
   "cell_type": "code",
   "execution_count": 16,
   "metadata": {},
   "outputs": [],
   "source": [
    "# using csv writer\n",
    "with open('../data/cleaned/airline_safety_clean.csv', 'w') as csv_file:\n",
    "    writer = csv.writer(csv_file)\n",
    "    writer.writerow(header) # write header row first\n",
    "    \n",
    "    for row in data:\n",
    "        writer.writerow(row) # iterate thru each row"
   ]
  }
 ],
 "metadata": {
  "kernelspec": {
   "display_name": "Python 3",
   "language": "python",
   "name": "python3"
  },
  "language_info": {
   "codemirror_mode": {
    "name": "ipython",
    "version": 3
   },
   "file_extension": ".py",
   "mimetype": "text/x-python",
   "name": "python",
   "nbconvert_exporter": "python",
   "pygments_lexer": "ipython3",
   "version": "3.10.4"
  },
  "orig_nbformat": 4
 },
 "nbformat": 4,
 "nbformat_minor": 2
}
