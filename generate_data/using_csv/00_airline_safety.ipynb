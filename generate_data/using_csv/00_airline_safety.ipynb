{
 "cells": [
  {
   "cell_type": "code",
   "execution_count": 1,
   "metadata": {},
   "outputs": [],
   "source": [
    "import requests\n",
    "import csv "
   ]
  },
  {
   "cell_type": "code",
   "execution_count": 2,
   "metadata": {},
   "outputs": [],
   "source": [
    "import sys \n",
    "sys.path.append('../../')"
   ]
  },
  {
   "attachments": {},
   "cell_type": "markdown",
   "metadata": {},
   "source": [
    "### Generate Markdown"
   ]
  },
  {
   "cell_type": "code",
   "execution_count": 3,
   "metadata": {},
   "outputs": [
    {
     "data": {
      "text/plain": [
       "'7. [Add safety ranking column based on total incidents per miles flown.](#-7.Add-safety-ranking-column-based-on-total-incidents-per-miles-flown.)'"
      ]
     },
     "execution_count": 3,
     "metadata": {},
     "output_type": "execute_result"
    }
   ],
   "source": [
    "from helper.generate_markdown import generate_markdown_text\n",
    "generate_markdown_text('7.Add safety ranking column based on total incidents per miles flown.')"
   ]
  },
  {
   "attachments": {},
   "cell_type": "markdown",
   "metadata": {},
   "source": [
    "# Airline Safety Data\n",
    "\n",
    "1. [Read in the data using requests and save the raw data.](#-1.Read-in-the-data-using-requests-and-save-the-raw-data.)\n",
    "2. [Seperate header from the rest of the data.](#-2.Seperate-header-from-the-rest-of-the-data.)\n",
    "3. [Using regex clean up the airline_names.](#-4.Using-regex-clean-up-the-airline_names.)\n",
    "4. [Add avail_seat_mile_per_year column.](#-4.Add-avail_seat_mile_per_year-column.)\n",
    "5. [Save the cleaned data as csv file.](#-5.Save-the-cleaned-data-as-csv-file.)\n",
    "6. [Append total_incidents_per_billion_miles column using a helper function.](#-6.Append-total_incidents_per_billion_miles-column-using-a-helper-function.)\n",
    "7. [Add safety ranking column based on total incidents per miles flown.](#-7.Add-safety-ranking-column-based-on-total-incidents-per-miles-flown.)\n",
    "8. [Add safety ranking column based on total fatalities per miles flown.](#-8.Add-safety-ranking-column-based-on-total-fatalities-per-miles-flown.)"
   ]
  },
  {
   "attachments": {},
   "cell_type": "markdown",
   "metadata": {},
   "source": [
    "### 1.Read in the data using requests and save the raw data."
   ]
  },
  {
   "cell_type": "code",
   "execution_count": 4,
   "metadata": {},
   "outputs": [
    {
     "data": {
      "text/plain": [
       "[['airline',\n",
       "  'avail_seat_km_per_week',\n",
       "  'incidents_85_99',\n",
       "  'fatal_accidents_85_99',\n",
       "  'fatalities_85_99',\n",
       "  'incidents_00_14',\n",
       "  'fatal_accidents_00_14',\n",
       "  'fatalities_00_14'],\n",
       " ['Aer Lingus', '320906734', '2', '0', '0', '0', '0', '0'],\n",
       " ['Aeroflot*', '1197672318', '76', '14', '128', '6', '1', '88'],\n",
       " ['Aerolineas Argentinas', '385803648', '6', '0', '0', '1', '0', '0']]"
      ]
     },
     "execution_count": 4,
     "metadata": {},
     "output_type": "execute_result"
    }
   ],
   "source": [
    "url = 'https://raw.githubusercontent.com/fivethirtyeight/data/master/airline-safety/airline-safety.csv'\n",
    "\n",
    "# Send a GET request to the URL using the requests library, and store the response in a variable 'r'.\n",
    "r = requests.get(url)\n",
    "\n",
    "# Use csv.reader() to iterate over each line in the response using iter_lines() method \n",
    "# with decode_unicode=True to ensure the returned lines are in Unicode format.\n",
    "data = [row for row in csv.reader(r.iter_lines(decode_unicode=True))]\n",
    "\n",
    "# print the first four rows \n",
    "data[0:4]"
   ]
  },
  {
   "cell_type": "code",
   "execution_count": 5,
   "metadata": {},
   "outputs": [],
   "source": [
    "# write the data using context manager\n",
    "with open('../data/raw/airline_safety_raw.csv', 'w') as csvfile:\n",
    "    csv_writer = csv.writer(csvfile)\n",
    "    \n",
    "    for row in data:\n",
    "        csv_writer.writerow(row)"
   ]
  },
  {
   "attachments": {},
   "cell_type": "markdown",
   "metadata": {},
   "source": [
    "[BACK TO TOP][def]\n",
    "\n",
    "[def]: #-Airline-Safety-Data"
   ]
  },
  {
   "attachments": {},
   "cell_type": "markdown",
   "metadata": {},
   "source": [
    "### 2.Seperate header from the rest of the data."
   ]
  },
  {
   "cell_type": "code",
   "execution_count": 6,
   "metadata": {},
   "outputs": [
    {
     "data": {
      "text/plain": [
       "['airline',\n",
       " 'avail_seat_km_per_week',\n",
       " 'incidents_85_99',\n",
       " 'fatal_accidents_85_99',\n",
       " 'fatalities_85_99',\n",
       " 'incidents_00_14',\n",
       " 'fatal_accidents_00_14',\n",
       " 'fatalities_00_14']"
      ]
     },
     "execution_count": 6,
     "metadata": {},
     "output_type": "execute_result"
    }
   ],
   "source": [
    "# seperate the header from the rest of data\n",
    "header, data = data[0], data[1:]\n",
    "\n",
    "header"
   ]
  },
  {
   "attachments": {},
   "cell_type": "markdown",
   "metadata": {},
   "source": [
    "### 3.Using regex clean up the airline_names."
   ]
  },
  {
   "cell_type": "code",
   "execution_count": 7,
   "metadata": {},
   "outputs": [
    {
     "data": {
      "text/plain": [
       "['Aer Lingus',\n",
       " 'Aeroflot*',\n",
       " 'Aerolineas Argentinas',\n",
       " 'Aeromexico*',\n",
       " 'Air Canada',\n",
       " 'Air France',\n",
       " 'Air India*',\n",
       " 'Air New Zealand*',\n",
       " 'Alaska Airlines*',\n",
       " 'Alitalia',\n",
       " 'All Nippon Airways',\n",
       " 'American*',\n",
       " 'Austrian Airlines',\n",
       " 'Avianca',\n",
       " 'British Airways*',\n",
       " 'Cathay Pacific*',\n",
       " 'China Airlines',\n",
       " 'Condor',\n",
       " 'COPA',\n",
       " 'Delta / Northwest*',\n",
       " 'Egyptair',\n",
       " 'El Al',\n",
       " 'Ethiopian Airlines',\n",
       " 'Finnair',\n",
       " 'Garuda Indonesia',\n",
       " 'Gulf Air',\n",
       " 'Hawaiian Airlines',\n",
       " 'Iberia',\n",
       " 'Japan Airlines',\n",
       " 'Kenya Airways',\n",
       " 'KLM*',\n",
       " 'Korean Air',\n",
       " 'LAN Airlines',\n",
       " 'Lufthansa*',\n",
       " 'Malaysia Airlines',\n",
       " 'Pakistan International',\n",
       " 'Philippine Airlines',\n",
       " 'Qantas*',\n",
       " 'Royal Air Maroc',\n",
       " 'SAS*',\n",
       " 'Saudi Arabian',\n",
       " 'Singapore Airlines',\n",
       " 'South African',\n",
       " 'Southwest Airlines',\n",
       " 'Sri Lankan / AirLanka',\n",
       " 'SWISS*',\n",
       " 'TACA',\n",
       " 'TAM',\n",
       " 'TAP - Air Portugal',\n",
       " 'Thai Airways',\n",
       " 'Turkish Airlines',\n",
       " 'United / Continental*',\n",
       " 'US Airways / America West*',\n",
       " 'Vietnam Airlines',\n",
       " 'Virgin Atlantic',\n",
       " 'Xiamen Airlines']"
      ]
     },
     "execution_count": 7,
     "metadata": {},
     "output_type": "execute_result"
    }
   ],
   "source": [
    "# create a list of airline names\n",
    "airlines = []\n",
    "for row in data:\n",
    "    airline = row[0]\n",
    "    airlines.append(airline)  \n",
    "\n",
    "airlines "
   ]
  },
  {
   "cell_type": "code",
   "execution_count": 8,
   "metadata": {},
   "outputs": [
    {
     "data": {
      "text/plain": [
       "['Aer Lingus',\n",
       " 'Aeroflot',\n",
       " 'Aerolineas Argentinas',\n",
       " 'Aeromexico',\n",
       " 'Air Canada',\n",
       " 'Air France',\n",
       " 'Air India',\n",
       " 'Air New Zealand',\n",
       " 'Alaska Airlines',\n",
       " 'Alitalia',\n",
       " 'All Nippon Airways',\n",
       " 'American',\n",
       " 'Austrian Airlines',\n",
       " 'Avianca',\n",
       " 'British Airways',\n",
       " 'Cathay Pacific',\n",
       " 'China Airlines',\n",
       " 'Condor',\n",
       " 'COPA',\n",
       " 'Delta / Northwest',\n",
       " 'Egyptair',\n",
       " 'El Al',\n",
       " 'Ethiopian Airlines',\n",
       " 'Finnair',\n",
       " 'Garuda Indonesia',\n",
       " 'Gulf Air',\n",
       " 'Hawaiian Airlines',\n",
       " 'Iberia',\n",
       " 'Japan Airlines',\n",
       " 'Kenya Airways',\n",
       " 'KLM',\n",
       " 'Korean Air',\n",
       " 'LAN Airlines',\n",
       " 'Lufthansa',\n",
       " 'Malaysia Airlines',\n",
       " 'Pakistan International',\n",
       " 'Philippine Airlines',\n",
       " 'Qantas',\n",
       " 'Royal Air Maroc',\n",
       " 'SAS',\n",
       " 'Saudi Arabian',\n",
       " 'Singapore Airlines',\n",
       " 'South African',\n",
       " 'Southwest Airlines',\n",
       " 'Sri Lankan / AirLanka',\n",
       " 'SWISS',\n",
       " 'TACA',\n",
       " 'TAM',\n",
       " 'TAP - Air Portugal',\n",
       " 'Thai Airways',\n",
       " 'Turkish Airlines',\n",
       " 'United / Continental',\n",
       " 'US Airways / America West',\n",
       " 'Vietnam Airlines',\n",
       " 'Virgin Atlantic',\n",
       " 'Xiamen Airlines']"
      ]
     },
     "execution_count": 8,
     "metadata": {},
     "output_type": "execute_result"
    }
   ],
   "source": [
    "import re \n",
    "\n",
    "# remove * from airline names\n",
    "pattern = '\\*'\n",
    "airlines = [re.sub(pattern, '', airline) for airline in airlines]\n",
    "airlines"
   ]
  },
  {
   "cell_type": "code",
   "execution_count": 9,
   "metadata": {},
   "outputs": [
    {
     "data": {
      "text/plain": [
       "[['AerLingus', '320906734', '2', '0', '0', '0', '0', '0'],\n",
       " ['Aeroflot', '1197672318', '76', '14', '128', '6', '1', '88'],\n",
       " ['AerolineasArgentinas', '385803648', '6', '0', '0', '1', '0', '0'],\n",
       " ['Aeromexico', '596871813', '3', '1', '64', '5', '0', '0'],\n",
       " ['AirCanada', '1865253802', '2', '0', '0', '2', '0', '0'],\n",
       " ['AirFrance', '3004002661', '14', '4', '79', '6', '2', '337'],\n",
       " ['AirIndia', '869253552', '2', '1', '329', '4', '1', '158'],\n",
       " ['AirNewZealand', '710174817', '3', '0', '0', '5', '1', '7'],\n",
       " ['AlaskaAirlines', '965346773', '5', '0', '0', '5', '1', '88'],\n",
       " ['Alitalia', '698012498', '7', '2', '50', '4', '0', '0'],\n",
       " ['AllNipponAirways', '1841234177', '3', '1', '1', '7', '0', '0'],\n",
       " ['American', '5228357340', '21', '5', '101', '17', '3', '416'],\n",
       " ['AustrianAirlines', '358239823', '1', '0', '0', '1', '0', '0'],\n",
       " ['Avianca', '396922563', '5', '3', '323', '0', '0', '0'],\n",
       " ['BritishAirways', '3179760952', '4', '0', '0', '6', '0', '0'],\n",
       " ['CathayPacific', '2582459303', '0', '0', '0', '2', '0', '0'],\n",
       " ['ChinaAirlines', '813216487', '12', '6', '535', '2', '1', '225'],\n",
       " ['Condor', '417982610', '2', '1', '16', '0', '0', '0'],\n",
       " ['COPA', '550491507', '3', '1', '47', '0', '0', '0'],\n",
       " ['Delta_Northwest', '6525658894', '24', '12', '407', '24', '2', '51'],\n",
       " ['Egyptair', '557699891', '8', '3', '282', '4', '1', '14'],\n",
       " ['ElAl', '335448023', '1', '1', '4', '1', '0', '0'],\n",
       " ['EthiopianAirlines', '488560643', '25', '5', '167', '5', '2', '92'],\n",
       " ['Finnair', '506464950', '1', '0', '0', '0', '0', '0'],\n",
       " ['GarudaIndonesia', '613356665', '10', '3', '260', '4', '2', '22'],\n",
       " ['GulfAir', '301379762', '1', '0', '0', '3', '1', '143'],\n",
       " ['HawaiianAirlines', '493877795', '0', '0', '0', '1', '0', '0'],\n",
       " ['Iberia', '1173203126', '4', '1', '148', '5', '0', '0'],\n",
       " ['JapanAirlines', '1574217531', '3', '1', '520', '0', '0', '0'],\n",
       " ['KenyaAirways', '277414794', '2', '0', '0', '2', '2', '283'],\n",
       " ['KLM', '1874561773', '7', '1', '3', '1', '0', '0'],\n",
       " ['KoreanAir', '1734522605', '12', '5', '425', '1', '0', '0'],\n",
       " ['LANAirlines', '1001965891', '3', '2', '21', '0', '0', '0'],\n",
       " ['Lufthansa', '3426529504', '6', '1', '2', '3', '0', '0'],\n",
       " ['MalaysiaAirlines', '1039171244', '3', '1', '34', '3', '2', '537'],\n",
       " ['PakistanInternational', '348563137', '8', '3', '234', '10', '2', '46'],\n",
       " ['PhilippineAirlines', '413007158', '7', '4', '74', '2', '1', '1'],\n",
       " ['Qantas', '1917428984', '1', '0', '0', '5', '0', '0'],\n",
       " ['RoyalAirMaroc', '295705339', '5', '3', '51', '3', '0', '0'],\n",
       " ['SAS', '682971852', '5', '0', '0', '6', '1', '110'],\n",
       " ['SaudiArabian', '859673901', '7', '2', '313', '11', '0', '0'],\n",
       " ['SingaporeAirlines', '2376857805', '2', '2', '6', '2', '1', '83'],\n",
       " ['SouthAfrican', '651502442', '2', '1', '159', '1', '0', '0'],\n",
       " ['SouthwestAirlines', '3276525770', '1', '0', '0', '8', '0', '0'],\n",
       " ['SriLankan_AirLanka', '325582976', '2', '1', '14', '4', '0', '0'],\n",
       " ['SWISS', '792601299', '2', '1', '229', '3', '0', '0'],\n",
       " ['TACA', '259373346', '3', '1', '3', '1', '1', '3'],\n",
       " ['TAM', '1509195646', '8', '3', '98', '7', '2', '188'],\n",
       " ['TAP-AirPortugal', '619130754', '0', '0', '0', '0', '0', '0'],\n",
       " ['ThaiAirways', '1702802250', '8', '4', '308', '2', '1', '1'],\n",
       " ['TurkishAirlines', '1946098294', '8', '3', '64', '8', '2', '84'],\n",
       " ['United_Continental', '7139291291', '19', '8', '319', '14', '2', '109'],\n",
       " ['USAirways_AmericaWest', '2455687887', '16', '7', '224', '11', '2', '23'],\n",
       " ['VietnamAirlines', '625084918', '7', '3', '171', '1', '0', '0'],\n",
       " ['VirginAtlantic', '1005248585', '1', '0', '0', '0', '0', '0'],\n",
       " ['XiamenAirlines', '430462962', '9', '1', '82', '2', '0', '0']]"
      ]
     },
     "execution_count": 9,
     "metadata": {},
     "output_type": "execute_result"
    }
   ],
   "source": [
    "for row in data:\n",
    "    # Define a regular expression pattern that matches either an asterisk (*) \n",
    "    # or a forward slash (/) or a whitespace (\\s)\n",
    "    pattern = r'[\\*\\/\\s]'\n",
    "\n",
    "    # Use the re.sub() function to replace all occurrences of the pattern \n",
    "    # in the string. Using a lambda function to determine \n",
    "    # the replacement string based on the matched character\n",
    "    row[0] = re.sub(pattern, lambda match: '_' if match.group() == '/' else '', row[0])\n",
    "\n",
    "data\n"
   ]
  },
  {
   "attachments": {},
   "cell_type": "markdown",
   "metadata": {},
   "source": [
    "[BACK TO TOP][def]\n",
    "\n",
    "[def]: #-Airline-Safety-Data"
   ]
  },
  {
   "attachments": {},
   "cell_type": "markdown",
   "metadata": {},
   "source": [
    "### 4.Add avail_seat_mile_per_year column."
   ]
  },
  {
   "cell_type": "code",
   "execution_count": 10,
   "metadata": {},
   "outputs": [],
   "source": [
    "# add 'avail_seat_mile_per_year' column\n",
    "header.append('avail_seat_mile_per_year')"
   ]
  },
  {
   "cell_type": "code",
   "execution_count": 11,
   "metadata": {},
   "outputs": [
    {
     "data": {
      "text/plain": [
       "['airline',\n",
       " 'avail_seat_km_per_week',\n",
       " 'incidents_85_99',\n",
       " 'fatal_accidents_85_99',\n",
       " 'fatalities_85_99',\n",
       " 'incidents_00_14',\n",
       " 'fatal_accidents_00_14',\n",
       " 'fatalities_00_14',\n",
       " 'avail_seat_mile_per_year']"
      ]
     },
     "execution_count": 11,
     "metadata": {},
     "output_type": "execute_result"
    }
   ],
   "source": [
    "header"
   ]
  },
  {
   "cell_type": "code",
   "execution_count": 12,
   "metadata": {},
   "outputs": [
    {
     "name": "stdout",
     "output_type": "stream",
     "text": [
      "10368911187.040329\n"
     ]
    }
   ],
   "source": [
    "# Convert km_to_mil: 1 kilometer is equal to 0.621371 miles.\n",
    "# Convert week_to_year: There are 52 weeks in a year.\n",
    "for row in data:\n",
    "    col = row[1] # curent avail_seat_km_per_week value\n",
    "    new_col= int(col) * 0.621371 * 52\n",
    "    print(new_col)\n",
    "    break"
   ]
  },
  {
   "cell_type": "code",
   "execution_count": 13,
   "metadata": {},
   "outputs": [
    {
     "data": {
      "text/plain": [
       "[10368911187.040329,\n",
       " 38698339987.21486,\n",
       " 12465814325.193216,\n",
       " 19285699436.412395,\n",
       " 60268760250.53219]"
      ]
     },
     "execution_count": 13,
     "metadata": {},
     "output_type": "execute_result"
    }
   ],
   "source": [
    "# define a lambda function that returns the convertion result as an integer.\n",
    "convert_to_mile = lambda x: int(x) * 0.621371 * 52\n",
    "# apply the function to the avail_seat_km_per_week col\n",
    "miles_per_year = [convert_to_mile(col[1]) for col in data]\n",
    "# inspect the first five rows\n",
    "miles_per_year[0:5]"
   ]
  },
  {
   "cell_type": "code",
   "execution_count": 14,
   "metadata": {},
   "outputs": [
    {
     "data": {
      "text/plain": [
       "['AerLingus', '320906734', '2', '0', '0', '0', '0', '0', 10368911187.040329]"
      ]
     },
     "execution_count": 14,
     "metadata": {},
     "output_type": "execute_result"
    }
   ],
   "source": [
    "# list comprehension for better performance for larger datasets\n",
    "[row + [miles_per_year[index]] for index, row in enumerate(data)][0]"
   ]
  },
  {
   "cell_type": "code",
   "execution_count": 15,
   "metadata": {},
   "outputs": [
    {
     "data": {
      "text/plain": [
       "['AerLingus', '320906734', '2', '0', '0', '0', '0', '0', 10368911187.040329]"
      ]
     },
     "execution_count": 15,
     "metadata": {},
     "output_type": "execute_result"
    }
   ],
   "source": [
    "# update the data list using for loop\n",
    "for index,row in enumerate(miles_per_year):\n",
    "    data[index].append(row)\n",
    "data[0]"
   ]
  },
  {
   "attachments": {},
   "cell_type": "markdown",
   "metadata": {},
   "source": [
    "[BACK TO TOP][def]\n",
    "\n",
    "[def]: #-Airline-Safety-Data"
   ]
  },
  {
   "attachments": {},
   "cell_type": "markdown",
   "metadata": {},
   "source": [
    "### 5.Save the cleaned data as csv file."
   ]
  },
  {
   "cell_type": "code",
   "execution_count": 16,
   "metadata": {},
   "outputs": [],
   "source": [
    "with open('../data/cleaned/airline_safety_clean.csv', 'w') as csv_file:\n",
    "    writer = csv.writer(csv_file)\n",
    "    writer.writerow(header) # write header row first\n",
    "    \n",
    "    for row in data:\n",
    "        writer.writerow(row) # iterate thru each row"
   ]
  },
  {
   "attachments": {},
   "cell_type": "markdown",
   "metadata": {},
   "source": [
    "[BACK TO TOP][def]\n",
    "\n",
    "[def]: #-Airline-Safety-Data"
   ]
  },
  {
   "attachments": {},
   "cell_type": "markdown",
   "metadata": {},
   "source": [
    "### 6.Append total_incidents_per_billion_miles column using a helper function."
   ]
  },
  {
   "cell_type": "code",
   "execution_count": 17,
   "metadata": {},
   "outputs": [
    {
     "data": {
      "text/plain": [
       "[6.2323403908376696,\n",
       " 68.46613950043722,\n",
       " 18.143944559072704,\n",
       " 13.403212927396188,\n",
       " 2.144480282367493]"
      ]
     },
     "execution_count": 17,
     "metadata": {},
     "output_type": "execute_result"
    }
   ],
   "source": [
    "add_header = 'total_incidents_per_billion_miles'\n",
    "add_data =[(int(row[2])+int(row[5])) / int(row[1]) * 1_000_000_000 for row in data]\n",
    "# inspect the first five rows\n",
    "add_data[0:5]\n"
   ]
  },
  {
   "cell_type": "code",
   "execution_count": 18,
   "metadata": {},
   "outputs": [
    {
     "name": "stdout",
     "output_type": "stream",
     "text": [
      "Added new column 'total_incidents_per_billion_miles' at position 9 to airline_safety_clean.csv file.\n"
     ]
    }
   ],
   "source": [
    "from airline_safety import add_column\n",
    "add_column(col_name=add_header, col_values=add_data)\n"
   ]
  },
  {
   "attachments": {},
   "cell_type": "markdown",
   "metadata": {},
   "source": [
    "[BACK TO TOP][def]\n",
    "\n",
    "[def]: #-Airline-Safety-Data"
   ]
  },
  {
   "attachments": {},
   "cell_type": "markdown",
   "metadata": {},
   "source": [
    "### 7.Add safety ranking column based on total incidents per miles flown."
   ]
  },
  {
   "cell_type": "code",
   "execution_count": 19,
   "metadata": {},
   "outputs": [],
   "source": [
    "# read the data\n",
    "with open('../../generate_data/data/cleaned/airline_safety_clean.csv', 'r') as csv_file:\n",
    "    reader = csv.reader(csv_file)\n",
    "    reader_data = list(reader)"
   ]
  },
  {
   "cell_type": "code",
   "execution_count": 20,
   "metadata": {},
   "outputs": [
    {
     "name": "stdout",
     "output_type": "stream",
     "text": [
      "['airline', 'avail_seat_km_per_week', 'incidents_85_99', 'fatal_accidents_85_99', 'fatalities_85_99', 'incidents_00_14', 'fatal_accidents_00_14', 'fatalities_00_14', 'avail_seat_mile_per_year', 'total_incidents_per_billion_miles']\n",
      "['AerLingus', '320906734', '2', '0', '0', '0', '0', '0', '10368911187.040329', '6.2323403908376696']\n",
      "['Aeroflot', '1197672318', '76', '14', '128', '6', '1', '88', '38698339987.21486', '68.46613950043722']\n",
      "['AerolineasArgentinas', '385803648', '6', '0', '0', '1', '0', '0', '12465814325.193216', '18.143944559072704']\n",
      "['Aeromexico', '596871813', '3', '1', '64', '5', '0', '0', '19285699436.412395', '13.403212927396188']\n",
      "['AirCanada', '1865253802', '2', '0', '0', '2', '0', '0', '60268760250.53219', '2.144480282367493']\n",
      "['AirFrance', '3004002661', '14', '4', '79', '6', '2', '337', '97063207148.348', '6.6577837162575']\n",
      "['AirIndia', '869253552', '2', '1', '329', '4', '1', '158', '28086705340.709183', '6.90247395158185']\n",
      "['AirNewZealand', '710174817', '3', '0', '0', '5', '1', '7', '22946665883.133564', '11.264831994176443']\n",
      "['AlaskaAirlines', '965346773', '5', '0', '0', '5', '1', '88', '31191601463.660717', '10.35897180131766']\n",
      "['Alitalia', '698012498', '7', '2', '50', '4', '0', '0', '22553685642.527416', '15.7590301484831']\n",
      "['AllNipponAirways', '1841234177', '3', '1', '1', '7', '0', '0', '59492655133.42669', '5.431139680610002']\n",
      "['American', '5228357340', '21', '5', '101', '17', '3', '416', '168934980693.08328', '7.268057159995112']\n",
      "['AustrianAirlines', '358239823', '1', '0', '0', '1', '0', '0', '11575191526.981316', '5.582852244765653']\n",
      "['Avianca', '396922563', '5', '3', '323', '0', '0', '0', '12825080834.481396', '12.596915534882303']\n",
      "['BritishAirways', '3179760952', '4', '0', '0', '6', '0', '0', '102742184610.26999', '3.1448904967872564']\n",
      "['CathayPacific', '2582459303', '0', '0', '0', '2', '0', '0', '83442596617.34949', '0.7744555732888543']\n",
      "['ChinaAirlines', '813216487', '12', '6', '535', '2', '1', '225', '26276075370.671204', '17.215588006149215']\n",
      "['Condor', '417982610', '2', '1', '16', '0', '0', '0', '13505558162.63212', '4.78488806029514']\n",
      "['COPA', '550491507', '3', '1', '47', '0', '0', '0', '17787091826.197044', '5.449675357116817']\n",
      "['Delta_Northwest', '6525658894', '24', '12', '407', '24', '2', '51', '210852470016.43103', '7.355579073269287']\n",
      "['Egyptair', '557699891', '8', '3', '282', '4', '1', '14', '18020004026.469173', '21.51694879926021']\n",
      "['ElAl', '335448023', '1', '1', '4', '1', '0', '0', '10838759021.975716', '5.962175546940099']\n",
      "['EthiopianAirlines', '488560643', '25', '5', '167', '5', '2', '92', '15786025595.680756', '61.40486432919649']\n",
      "['Finnair', '506464950', '1', '0', '0', '0', '0', '0', '16364536887.2154', '1.9744702965131151']\n",
      "['GarudaIndonesia', '613356665', '10', '3', '260', '4', '2', '22', '19818346302.96118', '22.8252186678366']\n",
      "['GulfAir', '301379762', '1', '0', '0', '3', '1', '143', '9737969492.872503', '13.272291322600486']\n",
      "['HawaiianAirlines', '493877795', '0', '0', '0', '1', '0', '0', '15957829646.561138', '2.0247923881655785']\n",
      "['Iberia', '1173203126', '4', '1', '148', '5', '0', '0', '37907708779.498795', '7.671305846827416']\n",
      "['JapanAirlines', '1574217531', '3', '1', '520', '0', '0', '0', '50865002315.66005', '1.9057086717197789']\n",
      "['KenyaAirways', '277414794', '2', '0', '0', '2', '2', '283', '8963630414.053848', '14.418841700273562']\n",
      "['KLM', '1874561773', '7', '1', '3', '1', '0', '0', '60569512819.44072', '4.267664109674555']\n",
      "['KoreanAir', '1734522605', '12', '5', '425', '1', '0', '0', '56044666370.75566', '7.494857641247056']\n",
      "['LANAirlines', '1001965891', '3', '2', '21', '0', '0', '0', '32374812478.141174', '2.9941138984340934']\n",
      "['Lufthansa', '3426529504', '6', '1', '2', '3', '0', '0', '110715595350.35918', '2.626564280124757']\n",
      "['MalaysiaAirlines', '1039171244', '3', '1', '34', '3', '2', '537', '33576965502.88725', '5.773831824776707']\n",
      "['PakistanInternational', '348563137', '8', '3', '234', '10', '2', '46', '11262525300.043005', '51.64057265183495']\n",
      "['PhilippineAirlines', '413007158', '7', '4', '74', '2', '1', '1', '13344794880.228136', '21.791389872230734']\n",
      "['Qantas', '1917428984', '1', '0', '0', '5', '0', '0', '61954607791.28732', '3.129190207338599']\n",
      "['RoyalAirMaroc', '295705339', '5', '3', '51', '3', '0', '0', '9554621554.387987', '27.05395860302678']\n",
      "['SAS', '682971852', '5', '0', '0', '6', '1', '110', '22067702937.752785', '16.106081045342993']\n",
      "['SaudiArabian', '859673901', '7', '2', '313', '11', '0', '0', '27777174439.990093', '20.938171996453338']\n",
      "['SingaporeAirlines', '2376857805', '2', '2', '6', '2', '1', '83', '76799346579.83406', '1.6828941098561006']\n",
      "['SouthAfrican', '651502442', '2', '1', '159', '1', '0', '0', '21050885642.175064', '4.6047409903645455']\n",
      "['SouthwestAirlines', '3276525770', '1', '0', '0', '8', '0', '0', '105868780899.99484', '2.7468119074186315']\n",
      "['SriLankan_AirLanka', '325582976', '2', '1', '14', '4', '0', '0', '10520006607.764992', '18.42848196092415']\n",
      "['SWISS', '792601299', '2', '1', '229', '3', '0', '0', '25609972011.568306', '6.3083419195859785']\n",
      "['TACA', '259373346', '3', '1', '3', '1', '1', '3', '8380687919.623033', '15.421785089667617']\n",
      "['TAM', '1509195646', '8', '3', '98', '7', '2', '188', '48764061203.03463', '9.939069225223568']\n",
      "['TAP-AirPortugal', '619130754', '0', '0', '0', '0', '0', '0', '20004914578.674168', '0.0']\n",
      "['ThaiAirways', '1702802250', '8', '4', '308', '2', '1', '1', '55019740718.007', '5.87267253141109']\n",
      "['TurkishAirlines', '1946098294', '8', '3', '64', '8', '2', '84', '62880950238.13585', '8.221578555065523']\n",
      "['United_Continental', '7139291291', '19', '8', '319', '14', '2', '109', '230679725576.55795', '4.622307544952084']\n",
      "['USAirways_AmericaWest', '2455687887', '16', '7', '224', '11', '2', '23', '79346448377.72', '10.994882591934209']\n",
      "['VietnamAirlines', '625084918', '7', '3', '171', '1', '0', '0', '20197301310.294056', '12.798261115620134']\n",
      "['VirginAtlantic', '1005248585', '1', '0', '0', '0', '0', '0', '32480880562.52182', '0.9947788188132589']\n",
      "['XiamenAirlines', '430462962', '9', '1', '82', '2', '0', '0', '13908814460.366903', '25.55388261255332']\n"
     ]
    }
   ],
   "source": [
    "for row in reader_data:\n",
    "    print(row)"
   ]
  },
  {
   "cell_type": "code",
   "execution_count": 21,
   "metadata": {},
   "outputs": [],
   "source": [
    "# extract and convert the string data from the last column to a list of floats\n",
    "total_incidents_data = [float(row[-1]) for row in reader_data[1:]]"
   ]
  },
  {
   "cell_type": "code",
   "execution_count": 22,
   "metadata": {},
   "outputs": [
    {
     "data": {
      "text/plain": [
       "[6.2323403908376696,\n",
       " 68.46613950043722,\n",
       " 18.143944559072704,\n",
       " 13.403212927396188,\n",
       " 2.144480282367493]"
      ]
     },
     "execution_count": 22,
     "metadata": {},
     "output_type": "execute_result"
    }
   ],
   "source": [
    "total_incidents_data[0:5]"
   ]
  },
  {
   "cell_type": "code",
   "execution_count": 23,
   "metadata": {},
   "outputs": [
    {
     "data": {
      "text/plain": [
       "3"
      ]
     },
     "execution_count": 23,
     "metadata": {},
     "output_type": "execute_result"
    }
   ],
   "source": [
    "# get the index value of airline with 13.403212927396188 total incidents\n",
    "total_incidents_data.index(13.403212927396188)"
   ]
  },
  {
   "cell_type": "code",
   "execution_count": 24,
   "metadata": {},
   "outputs": [
    {
     "data": {
      "text/plain": [
       "[49, 16, 55, 42, 29, 24, 27, 5, 34, 44, 33, 38, 15, 31, 43, 52, 18, 11, 19, 13]"
      ]
     },
     "execution_count": 24,
     "metadata": {},
     "output_type": "execute_result"
    }
   ],
   "source": [
    "rank_list = [total_incidents_data.index(row)+1 \n",
    "             for row in sorted(total_incidents_data)]\n",
    "rank_list[0:20]"
   ]
  },
  {
   "cell_type": "code",
   "execution_count": 25,
   "metadata": {},
   "outputs": [
    {
     "name": "stdout",
     "output_type": "stream",
     "text": [
      "Added new column 'safety_ranking_per_incident' at position 1 to airline_safety_clean.csv file.\n"
     ]
    }
   ],
   "source": [
    "add_column(col_name='safety_ranking_per_incident', col_values=rank_list, position=1)"
   ]
  },
  {
   "attachments": {},
   "cell_type": "markdown",
   "metadata": {},
   "source": [
    "[BACK TO TOP][def]\n",
    "\n",
    "[def]: #-Airline-Safety-Data"
   ]
  },
  {
   "attachments": {},
   "cell_type": "markdown",
   "metadata": {},
   "source": [
    "### 8.Add safety ranking column based on total fatalities per miles flown."
   ]
  },
  {
   "cell_type": "code",
   "execution_count": 26,
   "metadata": {},
   "outputs": [
    {
     "data": {
      "text/plain": [
       "[0, 216, 0, 64, 0, 416, 487, 7, 88, 50]"
      ]
     },
     "execution_count": 26,
     "metadata": {},
     "output_type": "execute_result"
    }
   ],
   "source": [
    "total_fatalities =[int(row[4]) + int(row[7]) for row in reader_data[1:]]\n",
    "total_fatalities[0:10]"
   ]
  },
  {
   "cell_type": "code",
   "execution_count": 27,
   "metadata": {},
   "outputs": [
    {
     "data": {
      "text/plain": [
       "[('AerLingus', (0, 1)),\n",
       " ('AerolineasArgentinas', (0, 3)),\n",
       " ('AirCanada', (0, 5)),\n",
       " ('AustrianAirlines', (0, 13)),\n",
       " ('BritishAirways', (0, 15)),\n",
       " ('CathayPacific', (0, 16)),\n",
       " ('Finnair', (0, 24)),\n",
       " ('HawaiianAirlines', (0, 27)),\n",
       " ('Qantas', (0, 38)),\n",
       " ('SouthwestAirlines', (0, 44)),\n",
       " ('TAP-AirPortugal', (0, 49)),\n",
       " ('VirginAtlantic', (0, 55)),\n",
       " ('AllNipponAirways', (1, 11)),\n",
       " ('Lufthansa', (2, 34)),\n",
       " ('KLM', (3, 31)),\n",
       " ('ElAl', (4, 22)),\n",
       " ('TACA', (6, 47)),\n",
       " ('AirNewZealand', (7, 8)),\n",
       " ('SriLankan_AirLanka', (14, 45)),\n",
       " ('Condor', (16, 18))]"
      ]
     },
     "execution_count": 27,
     "metadata": {},
     "output_type": "execute_result"
    }
   ],
   "source": [
    "fatality_dict = {}\n",
    "\n",
    "# Loop through each row of the reader_data starting from the second row\n",
    "for i,row in enumerate(reader_data[1:]):\n",
    "    name = row[0]   # Get the name from the first column of the row\n",
    "    total_fatality = total_fatalities[i] # Get the corresponding total fatality from total_fatalities list\n",
    "    index_rank = i+1  # Get the index rank by adding 1 to the current index\n",
    "    fatality_dict[name] = (total_fatality, index_rank)\n",
    "   \n",
    "# Sort the fatality_dict by the total fatality value (first item in the tuple)\n",
    "sorted_fatalities = sorted(fatality_dict.items(), key= lambda x: int(x[1][0]))\n",
    "# Check the first 20 values\n",
    "sorted_fatalities[0:20]\n"
   ]
  },
  {
   "cell_type": "code",
   "execution_count": 28,
   "metadata": {},
   "outputs": [
    {
     "data": {
      "text/plain": [
       "[1, 3, 5, 13, 15, 16, 24, 27, 38, 44]"
      ]
     },
     "execution_count": 28,
     "metadata": {},
     "output_type": "execute_result"
    }
   ],
   "source": [
    "# loop through each tuple in sorted_fatalities and \n",
    "# get the second item in the tuple (the index rank)\n",
    "fatality_ranking_list = [index_rank for _,(_,index_rank) in sorted_fatalities]\n",
    "\n",
    "# check the first 10 values\n",
    "fatality_ranking_list[0:10]\n"
   ]
  },
  {
   "cell_type": "code",
   "execution_count": null,
   "metadata": {},
   "outputs": [],
   "source": [
    "add_column(col_name='safety_ranking_per_fatality', \n",
    "           col_values=fatality_ranking_list, \n",
    "           position=2)"
   ]
  },
  {
   "attachments": {},
   "cell_type": "markdown",
   "metadata": {},
   "source": [
    "[BACK TO TOP][def]\n",
    "\n",
    "[def]: #-Airline-Safety-Data"
   ]
  },
  {
   "attachments": {},
   "cell_type": "markdown",
   "metadata": {},
   "source": [
    "# THE END"
   ]
  }
 ],
 "metadata": {
  "kernelspec": {
   "display_name": "Python 3",
   "language": "python",
   "name": "python3"
  },
  "language_info": {
   "codemirror_mode": {
    "name": "ipython",
    "version": 3
   },
   "file_extension": ".py",
   "mimetype": "text/x-python",
   "name": "python",
   "nbconvert_exporter": "python",
   "pygments_lexer": "ipython3",
   "version": "3.10.4"
  },
  "orig_nbformat": 4
 },
 "nbformat": 4,
 "nbformat_minor": 2
}
