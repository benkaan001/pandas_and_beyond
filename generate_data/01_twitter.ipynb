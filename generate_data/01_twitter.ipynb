{
 "cells": [
  {
   "attachments": {},
   "cell_type": "markdown",
   "metadata": {},
   "source": [
    "## Scrape Twitter Data with Pandas\n",
    "\n",
    "#### Using the `snscrape` library"
   ]
  },
  {
   "cell_type": "code",
   "execution_count": 2,
   "metadata": {},
   "outputs": [
    {
     "name": "stdout",
     "output_type": "stream",
     "text": [
      "Note: you may need to restart the kernel to use updated packages.\n"
     ]
    }
   ],
   "source": [
    "# install snscrape library\n",
    "# install tqdm for progressbar \n",
    "%pip install snscrape tqdm  --quiet # surpress the output"
   ]
  },
  {
   "cell_type": "code",
   "execution_count": 3,
   "metadata": {},
   "outputs": [],
   "source": [
    "# import necessary packages\n",
    "\n",
    "import pandas as pd\n",
    "import snscrape.modules.twitter as sntwitter\n",
    "from tqdm.notebook import tqdm\n"
   ]
  },
  {
   "cell_type": "markdown",
   "metadata": {},
   "source": []
  },
  {
   "cell_type": "code",
   "execution_count": 4,
   "metadata": {},
   "outputs": [
    {
     "data": {
      "text/plain": [
       "<snscrape.modules.twitter.TwitterSearchScraper at 0x166b97160>"
      ]
     },
     "execution_count": 4,
     "metadata": {},
     "output_type": "execute_result"
    }
   ],
   "source": [
    "# search query arg to be passed into the scraper object\n",
    "search_query = \"#python\"\n",
    "\n",
    "# create a scraper object \n",
    "scraper = sntwitter.TwitterSearchScraper(search_query)\n",
    "\n",
    "scraper "
   ]
  },
  {
   "cell_type": "code",
   "execution_count": 5,
   "metadata": {},
   "outputs": [],
   "source": [
    "# using get_items() method, explore the contents of a sample scraper object\n",
    "for tweet in scraper.get_items():\n",
    "    break "
   ]
  },
  {
   "cell_type": "code",
   "execution_count": 6,
   "metadata": {},
   "outputs": [
    {
     "data": {
      "text/plain": [
       "Tweet(url='https://twitter.com/shapewaze/status/1618100475923947520', date=datetime.datetime(2023, 1, 25, 4, 16, 30, tzinfo=datetime.timezone.utc), rawContent='No. MMDCCLXXXIX\\n#colorway #shapeways #drawing #processing #python #creativecoding #generativeart #jimbo https://t.co/IHzVubHDtM', renderedContent='No. MMDCCLXXXIX\\n#colorway #shapeways #drawing #processing #python #creativecoding #generativeart #jimbo https://t.co/IHzVubHDtM', id=1618100475923947520, user=User(username='shapewaze', id=892212856510349312, displayname='Shapeways', rawDescription='Casually tweeting drawings of randomly composed shapes; arranged and colored at random.\\n\\n©2014-2022 JHubbell (All rights reserved)', renderedDescription='Casually tweeting drawings of randomly composed shapes; arranged and colored at random.\\n\\n©2014-2022 JHubbell (All rights reserved)', descriptionLinks=None, verified=False, created=datetime.datetime(2017, 8, 1, 2, 38, 16, tzinfo=datetime.timezone.utc), followersCount=57, friendsCount=8, statusesCount=4763, favouritesCount=97, listedCount=2, mediaCount=4761, location='Your dreams.', protected=False, link=None, profileImageUrl='https://pbs.twimg.com/profile_images/1434644814344114179/640iB1ex_normal.png', profileBannerUrl='https://pbs.twimg.com/profile_banners/892212856510349312/1630880954', label=None), replyCount=0, retweetCount=0, likeCount=0, quoteCount=0, conversationId=1618100475923947520, lang='und', source='<a href=\"https://jimhubbell.com\" rel=\"nofollow\">Shapewaze</a>', sourceUrl='https://jimhubbell.com', sourceLabel='Shapewaze', links=None, media=[Photo(previewUrl='https://pbs.twimg.com/media/FnSlzrLX0AEr4cX?format=jpg&name=small', fullUrl='https://pbs.twimg.com/media/FnSlzrLX0AEr4cX?format=jpg&name=large', altText=None)], retweetedTweet=None, quotedTweet=None, inReplyToTweetId=None, inReplyToUser=None, mentionedUsers=None, coordinates=None, place=None, hashtags=['colorway', 'shapeways', 'drawing', 'processing', 'python', 'creativecoding', 'generativeart', 'jimbo'], cashtags=None, card=None, viewCount=None, vibe=None)"
      ]
     },
     "execution_count": 6,
     "metadata": {},
     "output_type": "execute_result"
    }
   ],
   "source": [
    "tweet"
   ]
  },
  {
   "cell_type": "code",
   "execution_count": 7,
   "metadata": {},
   "outputs": [
    {
     "data": {
      "text/plain": [
       "snscrape.modules.twitter.Tweet"
      ]
     },
     "execution_count": 7,
     "metadata": {},
     "output_type": "execute_result"
    }
   ],
   "source": [
    "type(tweet)"
   ]
  },
  {
   "attachments": {},
   "cell_type": "markdown",
   "metadata": {},
   "source": [
    "### Accessing Tweet object attributes"
   ]
  },
  {
   "cell_type": "code",
   "execution_count": 8,
   "metadata": {},
   "outputs": [
    {
     "data": {
      "text/plain": [
       "datetime.datetime(2023, 1, 25, 4, 16, 30, tzinfo=datetime.timezone.utc)"
      ]
     },
     "execution_count": 8,
     "metadata": {},
     "output_type": "execute_result"
    }
   ],
   "source": [
    "# access the date\n",
    "tweet.date"
   ]
  },
  {
   "attachments": {},
   "cell_type": "markdown",
   "metadata": {},
   "source": [
    "## Extract Tweets"
   ]
  },
  {
   "cell_type": "code",
   "execution_count": 9,
   "metadata": {},
   "outputs": [],
   "source": [
    "scraper = sntwitter.TwitterSearchScraper(search_query)\n",
    "\n",
    "tweets = []\n",
    "\n",
    "for i,tweet in enumerate(scraper.get_items()):\n",
    "\n",
    "    # create a data list \n",
    "    data = [\n",
    "        tweet.date,\n",
    "        tweet.id, \n",
    "        tweet.rawContent, \n",
    "        tweet.user.username, \n",
    "        tweet.likeCount, \n",
    "        tweet.retweetCount\n",
    "    ]\n",
    "\n",
    "    tweets.append(data)\n",
    "\n",
    "    # add only the first 100 tweets\n",
    "    if i > 100:\n",
    "        break"
   ]
  },
  {
   "cell_type": "code",
   "execution_count": 10,
   "metadata": {},
   "outputs": [
    {
     "data": {
      "text/plain": [
       "102"
      ]
     },
     "execution_count": 10,
     "metadata": {},
     "output_type": "execute_result"
    }
   ],
   "source": [
    "len(tweets)"
   ]
  },
  {
   "cell_type": "code",
   "execution_count": 11,
   "metadata": {},
   "outputs": [
    {
     "data": {
      "text/html": [
       "<div>\n",
       "<style scoped>\n",
       "    .dataframe tbody tr th:only-of-type {\n",
       "        vertical-align: middle;\n",
       "    }\n",
       "\n",
       "    .dataframe tbody tr th {\n",
       "        vertical-align: top;\n",
       "    }\n",
       "\n",
       "    .dataframe thead th {\n",
       "        text-align: right;\n",
       "    }\n",
       "</style>\n",
       "<table border=\"1\" class=\"dataframe\">\n",
       "  <thead>\n",
       "    <tr style=\"text-align: right;\">\n",
       "      <th></th>\n",
       "      <th>date</th>\n",
       "      <th>id</th>\n",
       "      <th>content</th>\n",
       "      <th>username</th>\n",
       "      <th>like_count</th>\n",
       "      <th>retweet_count</th>\n",
       "    </tr>\n",
       "  </thead>\n",
       "  <tbody>\n",
       "    <tr>\n",
       "      <th>0</th>\n",
       "      <td>2023-01-25 04:16:30+00:00</td>\n",
       "      <td>1618100475923947520</td>\n",
       "      <td>No. MMDCCLXXXIX\\n#colorway #shapeways #drawing...</td>\n",
       "      <td>shapewaze</td>\n",
       "      <td>0</td>\n",
       "      <td>0</td>\n",
       "    </tr>\n",
       "    <tr>\n",
       "      <th>1</th>\n",
       "      <td>2023-01-25 04:16:27+00:00</td>\n",
       "      <td>1618100462812598272</td>\n",
       "      <td>No. MMDCCLXXXVIII\\n#colorway #shapeways #drawi...</td>\n",
       "      <td>shapewaze</td>\n",
       "      <td>0</td>\n",
       "      <td>0</td>\n",
       "    </tr>\n",
       "    <tr>\n",
       "      <th>2</th>\n",
       "      <td>2023-01-25 04:16:24+00:00</td>\n",
       "      <td>1618100447184666624</td>\n",
       "      <td>No. MMCMLXVII\\n#grayway #shapeways #drawing #p...</td>\n",
       "      <td>shapewaze</td>\n",
       "      <td>0</td>\n",
       "      <td>0</td>\n",
       "    </tr>\n",
       "    <tr>\n",
       "      <th>3</th>\n",
       "      <td>2023-01-25 04:16:20+00:00</td>\n",
       "      <td>1618100432181792770</td>\n",
       "      <td>\"Easy steps to build a LAMP stack in Linux!\\n\\...</td>\n",
       "      <td>linuxteck</td>\n",
       "      <td>1</td>\n",
       "      <td>1</td>\n",
       "    </tr>\n",
       "    <tr>\n",
       "      <th>4</th>\n",
       "      <td>2023-01-25 04:16:03+00:00</td>\n",
       "      <td>1618100359003529218</td>\n",
       "      <td>Programming is 10% science, 20% ingenuity, and...</td>\n",
       "      <td>PadmashreeJha</td>\n",
       "      <td>2</td>\n",
       "      <td>1</td>\n",
       "    </tr>\n",
       "    <tr>\n",
       "      <th>...</th>\n",
       "      <td>...</td>\n",
       "      <td>...</td>\n",
       "      <td>...</td>\n",
       "      <td>...</td>\n",
       "      <td>...</td>\n",
       "      <td>...</td>\n",
       "    </tr>\n",
       "    <tr>\n",
       "      <th>97</th>\n",
       "      <td>2023-01-25 03:15:34+00:00</td>\n",
       "      <td>1618085138159800320</td>\n",
       "      <td>#datascience #MachineLearning #DataAnalytics #...</td>\n",
       "      <td>HalderNilimesh</td>\n",
       "      <td>1</td>\n",
       "      <td>0</td>\n",
       "    </tr>\n",
       "    <tr>\n",
       "      <th>98</th>\n",
       "      <td>2023-01-25 03:15:01+00:00</td>\n",
       "      <td>1618085001270071297</td>\n",
       "      <td>Adventures with Ai - Age of Discovery.  Availa...</td>\n",
       "      <td>AmbassadorRico</td>\n",
       "      <td>1</td>\n",
       "      <td>3</td>\n",
       "    </tr>\n",
       "    <tr>\n",
       "      <th>99</th>\n",
       "      <td>2023-01-25 03:15:00+00:00</td>\n",
       "      <td>1618084998707572736</td>\n",
       "      <td>@s_gruppetta_ct @SaveToBookmarks #thread #pyth...</td>\n",
       "      <td>codygal005</td>\n",
       "      <td>0</td>\n",
       "      <td>0</td>\n",
       "    </tr>\n",
       "    <tr>\n",
       "      <th>100</th>\n",
       "      <td>2023-01-25 03:14:53+00:00</td>\n",
       "      <td>1618084969540194306</td>\n",
       "      <td>Download Minicoders and get started with codin...</td>\n",
       "      <td>TheNewStat1</td>\n",
       "      <td>1</td>\n",
       "      <td>2</td>\n",
       "    </tr>\n",
       "    <tr>\n",
       "      <th>101</th>\n",
       "      <td>2023-01-25 03:12:43+00:00</td>\n",
       "      <td>1618084422422761473</td>\n",
       "      <td>Pythonの関数の前処理と後処理にはデコレータが使われます。\\nデコレータが何の役に立ち、...</td>\n",
       "      <td>Pract1328</td>\n",
       "      <td>1</td>\n",
       "      <td>0</td>\n",
       "    </tr>\n",
       "  </tbody>\n",
       "</table>\n",
       "<p>102 rows × 6 columns</p>\n",
       "</div>"
      ],
      "text/plain": [
       "                         date                   id  \\\n",
       "0   2023-01-25 04:16:30+00:00  1618100475923947520   \n",
       "1   2023-01-25 04:16:27+00:00  1618100462812598272   \n",
       "2   2023-01-25 04:16:24+00:00  1618100447184666624   \n",
       "3   2023-01-25 04:16:20+00:00  1618100432181792770   \n",
       "4   2023-01-25 04:16:03+00:00  1618100359003529218   \n",
       "..                        ...                  ...   \n",
       "97  2023-01-25 03:15:34+00:00  1618085138159800320   \n",
       "98  2023-01-25 03:15:01+00:00  1618085001270071297   \n",
       "99  2023-01-25 03:15:00+00:00  1618084998707572736   \n",
       "100 2023-01-25 03:14:53+00:00  1618084969540194306   \n",
       "101 2023-01-25 03:12:43+00:00  1618084422422761473   \n",
       "\n",
       "                                               content        username  \\\n",
       "0    No. MMDCCLXXXIX\\n#colorway #shapeways #drawing...       shapewaze   \n",
       "1    No. MMDCCLXXXVIII\\n#colorway #shapeways #drawi...       shapewaze   \n",
       "2    No. MMCMLXVII\\n#grayway #shapeways #drawing #p...       shapewaze   \n",
       "3    \"Easy steps to build a LAMP stack in Linux!\\n\\...       linuxteck   \n",
       "4    Programming is 10% science, 20% ingenuity, and...   PadmashreeJha   \n",
       "..                                                 ...             ...   \n",
       "97   #datascience #MachineLearning #DataAnalytics #...  HalderNilimesh   \n",
       "98   Adventures with Ai - Age of Discovery.  Availa...  AmbassadorRico   \n",
       "99   @s_gruppetta_ct @SaveToBookmarks #thread #pyth...      codygal005   \n",
       "100  Download Minicoders and get started with codin...     TheNewStat1   \n",
       "101  Pythonの関数の前処理と後処理にはデコレータが使われます。\\nデコレータが何の役に立ち、...       Pract1328   \n",
       "\n",
       "     like_count  retweet_count  \n",
       "0             0              0  \n",
       "1             0              0  \n",
       "2             0              0  \n",
       "3             1              1  \n",
       "4             2              1  \n",
       "..          ...            ...  \n",
       "97            1              0  \n",
       "98            1              3  \n",
       "99            0              0  \n",
       "100           1              2  \n",
       "101           1              0  \n",
       "\n",
       "[102 rows x 6 columns]"
      ]
     },
     "execution_count": 11,
     "metadata": {},
     "output_type": "execute_result"
    }
   ],
   "source": [
    "# convert the tweets list into a pandas DF\n",
    "col = ['date', 'id', 'content', 'username', 'like_count', 'retweet_count']\n",
    "\n",
    "tweet_df = pd.DataFrame(tweets, columns = col)\n",
    "\n",
    "tweet_df\n"
   ]
  },
  {
   "cell_type": "code",
   "execution_count": 12,
   "metadata": {},
   "outputs": [],
   "source": [
    "# save df as csv file\n",
    "tweet_df.to_csv(\"./data/raw/python_tweets.csv\", index=False)"
   ]
  },
  {
   "attachments": {},
   "cell_type": "markdown",
   "metadata": {},
   "source": [
    "## Add a Progress Bar"
   ]
  },
  {
   "cell_type": "code",
   "execution_count": 20,
   "metadata": {},
   "outputs": [
    {
     "data": {
      "application/vnd.jupyter.widget-view+json": {
       "model_id": "47bbeb846d014da4ac7519dd35ee7225",
       "version_major": 2,
       "version_minor": 0
      },
      "text/plain": [
       "  0%|          | 0/1000 [00:00<?, ?it/s]"
      ]
     },
     "metadata": {},
     "output_type": "display_data"
    }
   ],
   "source": [
    "search_query = \"#chatgpt\"\n",
    "\n",
    "scraper = sntwitter.TwitterSearchScraper(search_query)\n",
    "\n",
    "# number of tweets to be extracted\n",
    "\n",
    "N_TWEETS = 1_000\n",
    "\n",
    "tweets = []\n",
    "\n",
    "# wrap the enumerate in tqdm and set the total to N_TWEETS\n",
    "for i,tweet in tqdm(enumerate(scraper.get_items()), total=N_TWEETS):\n",
    "\n",
    "    # create a data list \n",
    "    data = [\n",
    "        tweet.date,\n",
    "        tweet.id, \n",
    "        tweet.rawContent, \n",
    "        tweet.user.username, \n",
    "        tweet.likeCount, \n",
    "        tweet.retweetCount\n",
    "    ]\n",
    "    \n",
    "    \n",
    "    tweets.append(data)\n",
    "\n",
    "    # add only the first 100 tweets\n",
    "    if i > N_TWEETS:\n",
    "        break\n",
    "\n",
    "col = ['date', 'id', 'content', 'username', 'like_count', 'retweet_count']\n",
    "\n",
    "tweet_df = pd.DataFrame(tweets, columns = col)\n",
    "\n",
    "tweet_df.to_csv(\"./data/raw/chatgpt_tweets.csv\", index=False)"
   ]
  }
 ],
 "metadata": {
  "kernelspec": {
   "display_name": "Python 3",
   "language": "python",
   "name": "python3"
  },
  "language_info": {
   "codemirror_mode": {
    "name": "ipython",
    "version": 3
   },
   "file_extension": ".py",
   "mimetype": "text/x-python",
   "name": "python",
   "nbconvert_exporter": "python",
   "pygments_lexer": "ipython3",
   "version": "3.10.4"
  },
  "orig_nbformat": 4,
  "vscode": {
   "interpreter": {
    "hash": "aee8b7b246df8f9039afb4144a1f6fd8d2ca17a180786b69acc140d282b71a49"
   }
  }
 },
 "nbformat": 4,
 "nbformat_minor": 2
}
